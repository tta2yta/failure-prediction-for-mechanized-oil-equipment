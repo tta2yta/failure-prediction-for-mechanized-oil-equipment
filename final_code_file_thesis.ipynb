{
  "nbformat": 4,
  "nbformat_minor": 0,
  "metadata": {
    "colab": {
      "name": "final-code-file-thesis.ipynb",
      "provenance": [],
      "collapsed_sections": [],
      "authorship_tag": "ABX9TyOWWIkj74ZyWquwGaXj0/vm",
      "include_colab_link": true
    },
    "kernelspec": {
      "name": "python3",
      "display_name": "Python 3"
    },
    "language_info": {
      "name": "python"
    }
  },
  "cells": [
    {
      "cell_type": "markdown",
      "metadata": {
        "id": "view-in-github",
        "colab_type": "text"
      },
      "source": [
        "<a href=\"https://colab.research.google.com/github/tta2yta/failure-prediction-for-mechanized-oil-equipment/blob/feature-branch/final_code_file_thesis.ipynb\" target=\"_parent\"><img src=\"https://colab.research.google.com/assets/colab-badge.svg\" alt=\"Open In Colab\"/></a>"
      ]
    },
    {
      "cell_type": "markdown",
      "metadata": {
        "id": "8OihbuB5HN2Y"
      },
      "source": [
        "<b>Importing neccessary library files</b>"
      ]
    },
    {
      "cell_type": "code",
      "metadata": {
        "id": "nr5IoR1rHGez"
      },
      "source": [
        "import os, glob\n",
        "import csv\n",
        "import ntpath\n",
        "from google.colab import drive\n",
        "import glob\n",
        "import seaborn as sns\n",
        "import seaborn as sns1\n",
        "import matplotlib.pyplot as plt\n",
        "import matplotlib.pyplot as plt1\n",
        "import numpy as np \n",
        "from sklearn.preprocessing import MinMaxScaler\n",
        "import math\n",
        "from keras.models import Sequential\n",
        "from keras.layers import Dense\n",
        "from keras.layers import LSTM\n",
        "from sklearn.metrics import mean_squared_error\n",
        "import tensorflow as tf\n",
        "from tensorflow import keras\n",
        "from tensorflow.keras import layers\n",
        "import pandas as pd\n",
        "from sklearn.metrics import precision_recall_curve\n",
        "from sklearn.metrics import f1_score\n",
        "from keras.models import Sequential\n",
        "from keras.layers import Dense\n",
        "from keras.layers import Flatten, Activation\n",
        "from keras.layers import Dropout\n",
        "from keras.layers.convolutional import Conv1D\n",
        "from keras.layers.convolutional import MaxPooling1D, AveragePooling1D\n",
        "from keras.utils import to_categorical\n",
        "from tensorflow.keras import regularizers\n",
        "from keras.callbacks import EarlyStopping\n",
        "from matplotlib.pyplot import figure\n",
        "import mplcursors\n",
        "from sklearn.metrics import accuracy_score,recall_score, confusion_matrix, roc_curve, average_precision_score, precision_recall_curve, precision_score, f1_score, roc_auc_score, auc"
      ],
      "execution_count": 44,
      "outputs": []
    },
    {
      "cell_type": "code",
      "metadata": {
        "id": "fXnUX-qMJRfe",
        "colab": {
          "base_uri": "https://localhost:8080/"
        },
        "outputId": "5de87aa2-ad2c-4e81-cbdf-36f732835c71"
      },
      "source": [
        "drive.mount('/content/drive')"
      ],
      "execution_count": 2,
      "outputs": [
        {
          "output_type": "stream",
          "text": [
            "Mounted at /content/drive\n"
          ],
          "name": "stdout"
        }
      ]
    },
    {
      "cell_type": "markdown",
      "metadata": {
        "id": "tjedX9D0RosD"
      },
      "source": [
        "Grouping samples into one day format"
      ]
    },
    {
      "cell_type": "code",
      "metadata": {
        "id": "TtrWN1whJSGe"
      },
      "source": [
        "def make_date_samples(df):\n",
        "  print(\"Checking Data type of columns and check for any null values\")\n",
        "  df['DateTime']= pd.to_datetime(df['DateTime'])\n",
        "  df = df.set_index('DateTime') \n",
        "  df.columns=['Value']\n",
        "  df = df.Value.resample('D').mean().dropna()\n",
        "  df=df.reset_index()\n",
        "  print(df)\n",
        "  return  df"
      ],
      "execution_count": 7,
      "outputs": []
    },
    {
      "cell_type": "markdown",
      "metadata": {
        "id": "RdRnrC_6JwWt"
      },
      "source": [
        "Function to find negative values and remove them if they exist"
      ]
    },
    {
      "cell_type": "code",
      "metadata": {
        "id": "GM-5eTMmJuQC"
      },
      "source": [
        "def negatives(df):\n",
        "  print(\"negatives in data set\")\n",
        "  negative_df=df[df['Value'] < 0]\n",
        "  print( negative_df.shape)\n",
        "  print( negative_df.head())\n",
        "  negative_df=df[df['Value'] >= 0]\n",
        "  return negative_df"
      ],
      "execution_count": 8,
      "outputs": []
    },
    {
      "cell_type": "markdown",
      "metadata": {
        "id": "ddncNxorR9ED"
      },
      "source": [
        "Function to identify consecutive zeros in the dataset and remove it if exists"
      ]
    },
    {
      "cell_type": "code",
      "metadata": {
        "id": "iMLuu4ZiR9oI"
      },
      "source": [
        "# list_in=[]\n",
        "def find_consective_zeros(df):\n",
        "    list_in=[]\n",
        "    if(len(df.Value.unique())==1):\n",
        "      return df\n",
        "    ctr_zeros=0\n",
        "    for i in range (0, len(df.index)):\n",
        "      if (df.iloc[i, 1]==0):\n",
        "        if (i + 1 ==len(df.index) and ctr_zeros >=1):\n",
        "            list_in.append(i)\n",
        "            break\n",
        "        elif (i + 1 == len(df.index)):\n",
        "            break\n",
        "        if (df.iloc[i+1, 1]==0 ):\n",
        "            #print(df.iloc[[i]])\n",
        "            list_in.append(i)\n",
        "            ctr_zeros = ctr_zeros + 1\n",
        "        elif (df.iloc[i+1, 1]!=0 and ctr_zeros >=1):\n",
        "              list_in.append(i)\n",
        "              ctr_zeros=0\n",
        "      else:\n",
        "       ctr_zeros=0\n",
        "    # if (len(list_in)==0):\n",
        "    #   return df_test.iloc[:]\n",
        "    # else:\n",
        "    indexes_to_keep = set(range(df.shape[0])) - set(list_in)\n",
        "    res=df.iloc[list(indexes_to_keep),:]\n",
        "    return res"
      ],
      "execution_count": 9,
      "outputs": []
    },
    {
      "cell_type": "markdown",
      "metadata": {
        "id": "TAkrJ_2uV_Vi"
      },
      "source": [
        "Ploting Boxplot to identify outliers and probability density function "
      ]
    },
    {
      "cell_type": "code",
      "metadata": {
        "id": "IrwkwRobV_-9"
      },
      "source": [
        "def check_outlier(df):\n",
        "  # print(\"Ploting Boxplot to identify outliers and probability density function  \\n\")\n",
        "  # df.columns = df.columns.to_series().apply(lambda x: x.strip())\n",
        "  # sns.boxplot(x=df[df.columns[1]])\n",
        "  # ax = df.plot.kde()\n",
        "  # sns.distplot(df[df.columns[1]], hist = False, kde = True,\n",
        "  #                 kde_kws = {'linewidth': 3})\n",
        "  # plt.show()\n",
        "  plt.figure(figsize=(8,4))\n",
        "  plt.plot(df.iloc[:,1], alpha=0.3)\n",
        "  plt.legend(); plt.show() \n",
        "  print(\"\\n\")"
      ],
      "execution_count": 15,
      "outputs": []
    },
    {
      "cell_type": "markdown",
      "metadata": {
        "id": "gLKHDqRTSgkY"
      },
      "source": [
        "Function to normilize dataset"
      ]
    },
    {
      "cell_type": "code",
      "metadata": {
        "id": "FLJvfHSJSfOn"
      },
      "source": [
        "def normalizer(df):\n",
        "  scaler = MinMaxScaler()\n",
        "  df[['Value']] = scaler.fit_transform(df[['Value']])\n",
        "  return df"
      ],
      "execution_count": 11,
      "outputs": []
    },
    {
      "cell_type": "markdown",
      "metadata": {
        "id": "Ga-N99M6S7ww"
      },
      "source": [
        "Function to check for null values"
      ]
    },
    {
      "cell_type": "code",
      "metadata": {
        "id": "VatLt65tS6tB"
      },
      "source": [
        "def check_nulls_dt(df):\n",
        "  print(\"Checking Data type of columns and check for any null values\")\n",
        "  print(df.isnull().sum())\n",
        "  print(df.dtypes)\n",
        "  return  df.dropna()"
      ],
      "execution_count": 12,
      "outputs": []
    },
    {
      "cell_type": "code",
      "metadata": {
        "id": "mMttbBMrTb9q"
      },
      "source": [
        "file_path = glob.glob(\"/content/drive/MyDrive/Colab Notebooks/final_project/data/Ya_675/*.csv\", recursive=True)\n",
        "input_data_Ya=[]\n",
        "col_names=[]\n",
        "df_joined = pd.DataFrame(columns=['DateTime', 'Value'])"
      ],
      "execution_count": 17,
      "outputs": []
    },
    {
      "cell_type": "markdown",
      "metadata": {
        "id": "x8r2fCqxTjl2"
      },
      "source": [
        "Statistical data for Ya_675.<br>\n",
        "This Step can be applied to all oil wells"
      ]
    },
    {
      "cell_type": "code",
      "metadata": {
        "colab": {
          "base_uri": "https://localhost:8080/",
          "height": 1000
        },
        "id": "IA3YIZwgTcor",
        "outputId": "c0b05782-349b-40ef-8c28-eb65ddbda22d"
      },
      "source": [
        "ctr=0\n",
        "for file_name in file_path:\n",
        "      print(\"File Name=\", file_name)\n",
        "      file = open(file_name, encoding=\"utf8\")\n",
        "      reader = csv.reader(file)\n",
        "      lines= len(list(reader))\n",
        "      file.close()\n",
        "      df = pd.read_csv(file_name, delimiter=\";\")\n",
        "      df.columns = df.columns.str.strip()\n",
        "      print(\"\\n Data Dimention Before Processing\")\n",
        "      print(df.shape)\n",
        "      print(\"\\n\")\n",
        "      #removing consective zeros\n",
        "      df_sliced= find_consective_zeros(df)\n",
        "      print(\"\\n\")\n",
        "      #checking and removing negative values\n",
        "      df_sliced=negatives(df_sliced)\n",
        "      print(\"\\n\")\n",
        "      #checking Null, data types of fetures and grouping samples with on day format\n",
        "      df_sliced=make_date_samples(df_sliced)\n",
        "\n",
        "      #Normalize data\n",
        "      print(\"\\n Normalize data\")\n",
        "      # df_sliced=normalizer(df_sliced)\n",
        "\n",
        "      print(\"\\n Data Dimention After Processing\")\n",
        "      print(df_sliced.shape)\n",
        "      #Ploting Boxplot to identify outliers and probability density function \n",
        "      check_outlier(df_sliced)\n",
        "      print(\"\\n\")\n",
        "      print(\"\\n\")\n",
        "      input_data_Ya.append(df_sliced['Value'].tolist())\n",
        "      col_names.append(ntpath.basename(file_name))\n",
        "      df_joined=df_joined.merge(df_sliced, on='DateTime', how='outer')\n",
        "      # df_temp=pd.concat([df_temp,df_sliced['Value']], axis=1) \n",
        "      if(lines==1):\n",
        "        ctr += 1\n",
        "        print(file_name, \" \",lines)\n",
        "        # os.remove(file_name)\n",
        "print (\"Number of Empty File:\", ctr)"
      ],
      "execution_count": 18,
      "outputs": [
        {
          "output_type": "stream",
          "text": [
            "File Name= /content/drive/MyDrive/Colab Notebooks/final_project/data/Ya_675/1.csv\n",
            "\n",
            " Data Dimention Before Processing\n",
            "(128614, 2)\n",
            "\n",
            "\n"
          ],
          "name": "stdout"
        },
        {
          "output_type": "stream",
          "text": [
            "No handles with labels found to put in legend.\n"
          ],
          "name": "stderr"
        },
        {
          "output_type": "stream",
          "text": [
            "\n",
            "\n",
            "negatives in data set\n",
            "(0, 2)\n",
            "Empty DataFrame\n",
            "Columns: [DateTime, Value]\n",
            "Index: []\n",
            "\n",
            "\n",
            "Checking Data type of columns and check for any null values\n",
            "      DateTime      Value\n",
            "0   2016-01-01  42.531250\n",
            "1   2016-01-02  42.777083\n",
            "2   2016-01-03  42.982979\n",
            "3   2016-01-04  39.385714\n",
            "4   2016-01-05  21.283333\n",
            "..         ...        ...\n",
            "921 2018-12-27  58.940000\n",
            "922 2018-12-28  58.517391\n",
            "923 2018-12-29  56.389091\n",
            "924 2018-12-30  58.325000\n",
            "925 2018-12-31  58.400000\n",
            "\n",
            "[926 rows x 2 columns]\n",
            "\n",
            " Normalize data\n",
            "\n",
            " Data Dimention After Processing\n",
            "(926, 2)\n"
          ],
          "name": "stdout"
        },
        {
          "output_type": "display_data",
          "data": {
            "image/png": "[encoded data removed]",
            "text/plain": [
              "<Figure size 576x288 with 1 Axes>"
            ]
          },
          "metadata": {
            "tags": [],
            "needs_background": "light"
          }
        },
        {
          "output_type": "stream",
          "text": [
            "\n",
            "\n",
            "\n",
            "\n",
            "\n",
            "\n",
            "File Name= /content/drive/MyDrive/Colab Notebooks/final_project/data/Ya_675/2.csv\n",
            "\n",
            " Data Dimention Before Processing\n",
            "(177227, 2)\n",
            "\n",
            "\n"
          ],
          "name": "stdout"
        },
        {
          "output_type": "stream",
          "text": [
            "No handles with labels found to put in legend.\n"
          ],
          "name": "stderr"
        },
        {
          "output_type": "stream",
          "text": [
            "\n",
            "\n",
            "negatives in data set\n",
            "(0, 2)\n",
            "Empty DataFrame\n",
            "Columns: [DateTime, Value]\n",
            "Index: []\n",
            "\n",
            "\n",
            "Checking Data type of columns and check for any null values\n",
            "       DateTime       Value\n",
            "0    2016-01-01   62.065217\n",
            "1    2016-01-02   62.021739\n",
            "2    2016-01-03   62.127660\n",
            "3    2016-01-04   85.819048\n",
            "4    2016-01-05  114.035714\n",
            "...         ...         ...\n",
            "1058 2018-12-27   93.087475\n",
            "1059 2018-12-28   93.401404\n",
            "1060 2018-12-29   93.495217\n",
            "1061 2018-12-30   93.404790\n",
            "1062 2018-12-31   93.377586\n",
            "\n",
            "[1063 rows x 2 columns]\n",
            "\n",
            " Normalize data\n",
            "\n",
            " Data Dimention After Processing\n",
            "(1063, 2)\n"
          ],
          "name": "stdout"
        },
        {
          "output_type": "display_data",
          "data": {
            "image/png": "[encoded data removed]",
            "text/plain": [
              "<Figure size 576x288 with 1 Axes>"
            ]
          },
          "metadata": {
            "tags": [],
            "needs_background": "light"
          }
        },
        {
          "output_type": "stream",
          "text": [
            "\n",
            "\n",
            "\n",
            "\n",
            "\n",
            "\n",
            "File Name= /content/drive/MyDrive/Colab Notebooks/final_project/data/Ya_675/3.csv\n",
            "\n",
            " Data Dimention Before Processing\n",
            "(442976, 2)\n",
            "\n",
            "\n"
          ],
          "name": "stdout"
        },
        {
          "output_type": "stream",
          "text": [
            "No handles with labels found to put in legend.\n"
          ],
          "name": "stderr"
        },
        {
          "output_type": "stream",
          "text": [
            "\n",
            "\n",
            "negatives in data set\n",
            "(0, 2)\n",
            "Empty DataFrame\n",
            "Columns: [DateTime, Value]\n",
            "Index: []\n",
            "\n",
            "\n",
            "Checking Data type of columns and check for any null values\n",
            "      DateTime      Value\n",
            "0   2016-01-01  54.000000\n",
            "1   2016-01-02  54.000000\n",
            "2   2016-01-03  54.000000\n",
            "3   2016-01-04  52.944333\n",
            "4   2016-01-05  57.600000\n",
            "..         ...        ...\n",
            "921 2018-12-27  54.000000\n",
            "922 2018-12-28  54.000000\n",
            "923 2018-12-29  54.000000\n",
            "924 2018-12-30  54.000000\n",
            "925 2018-12-31  54.000000\n",
            "\n",
            "[926 rows x 2 columns]\n",
            "\n",
            " Normalize data\n",
            "\n",
            " Data Dimention After Processing\n",
            "(926, 2)\n"
          ],
          "name": "stdout"
        },
        {
          "output_type": "display_data",
          "data": {
            "image/png": "[encoded data removed]",
            "text/plain": [
              "<Figure size 576x288 with 1 Axes>"
            ]
          },
          "metadata": {
            "tags": [],
            "needs_background": "light"
          }
        },
        {
          "output_type": "stream",
          "text": [
            "\n",
            "\n",
            "\n",
            "\n",
            "\n",
            "\n",
            "File Name= /content/drive/MyDrive/Colab Notebooks/final_project/data/Ya_675/4.csv\n",
            "\n",
            " Data Dimention Before Processing\n",
            "(293475, 2)\n",
            "\n",
            "\n"
          ],
          "name": "stdout"
        },
        {
          "output_type": "stream",
          "text": [
            "No handles with labels found to put in legend.\n"
          ],
          "name": "stderr"
        },
        {
          "output_type": "stream",
          "text": [
            "\n",
            "\n",
            "negatives in data set\n",
            "(0, 2)\n",
            "Empty DataFrame\n",
            "Columns: [DateTime, Value]\n",
            "Index: []\n",
            "\n",
            "\n",
            "Checking Data type of columns and check for any null values\n",
            "      DateTime      Value\n",
            "0   2016-01-01  67.082822\n",
            "1   2016-01-02  66.943750\n",
            "2   2016-01-03  66.520376\n",
            "3   2016-01-04  55.555556\n",
            "4   2016-01-05  13.407895\n",
            "..         ...        ...\n",
            "919 2018-12-27  72.461538\n",
            "920 2018-12-28  71.925926\n",
            "921 2018-12-29  70.435897\n",
            "922 2018-12-30  71.484848\n",
            "923 2018-12-31  71.266667\n",
            "\n",
            "[924 rows x 2 columns]\n",
            "\n",
            " Normalize data\n",
            "\n",
            " Data Dimention After Processing\n",
            "(924, 2)\n"
          ],
          "name": "stdout"
        },
        {
          "output_type": "display_data",
          "data": {
            "image/png": "[encoded data removed]",
            "text/plain": [
              "<Figure size 576x288 with 1 Axes>"
            ]
          },
          "metadata": {
            "tags": [],
            "needs_background": "light"
          }
        },
        {
          "output_type": "stream",
          "text": [
            "\n",
            "\n",
            "\n",
            "\n",
            "\n",
            "\n",
            "File Name= /content/drive/MyDrive/Colab Notebooks/final_project/data/Ya_675/5.csv\n",
            "\n",
            " Data Dimention Before Processing\n",
            "(58561, 2)\n",
            "\n",
            "\n"
          ],
          "name": "stdout"
        },
        {
          "output_type": "stream",
          "text": [
            "No handles with labels found to put in legend.\n"
          ],
          "name": "stderr"
        },
        {
          "output_type": "stream",
          "text": [
            "\n",
            "\n",
            "negatives in data set\n",
            "(0, 2)\n",
            "Empty DataFrame\n",
            "Columns: [DateTime, Value]\n",
            "Index: []\n",
            "\n",
            "\n",
            "Checking Data type of columns and check for any null values\n",
            "       DateTime      Value\n",
            "0    2016-01-01  39.000000\n",
            "1    2016-01-02  39.000000\n",
            "2    2016-01-03  39.000000\n",
            "3    2016-01-04  46.575758\n",
            "4    2016-01-05  46.163043\n",
            "...         ...        ...\n",
            "1052 2018-12-27  49.000000\n",
            "1053 2018-12-28  48.892857\n",
            "1054 2018-12-29  48.594595\n",
            "1055 2018-12-30  48.740741\n",
            "1056 2018-12-31  48.684211\n",
            "\n",
            "[1057 rows x 2 columns]\n",
            "\n",
            " Normalize data\n",
            "\n",
            " Data Dimention After Processing\n",
            "(1057, 2)\n"
          ],
          "name": "stdout"
        },
        {
          "output_type": "display_data",
          "data": {
            "image/png": "[encoded data removed]",
            "text/plain": [
              "<Figure size 576x288 with 1 Axes>"
            ]
          },
          "metadata": {
            "tags": [],
            "needs_background": "light"
          }
        },
        {
          "output_type": "stream",
          "text": [
            "\n",
            "\n",
            "\n",
            "\n",
            "\n",
            "\n",
            "File Name= /content/drive/MyDrive/Colab Notebooks/final_project/data/Ya_675/6.csv\n",
            "\n",
            " Data Dimention Before Processing\n",
            "(79114, 2)\n",
            "\n",
            "\n"
          ],
          "name": "stdout"
        },
        {
          "output_type": "stream",
          "text": [
            "No handles with labels found to put in legend.\n"
          ],
          "name": "stderr"
        },
        {
          "output_type": "stream",
          "text": [
            "\n",
            "\n",
            "negatives in data set\n",
            "(0, 2)\n",
            "Empty DataFrame\n",
            "Columns: [DateTime, Value]\n",
            "Index: []\n",
            "\n",
            "\n",
            "Checking Data type of columns and check for any null values\n",
            "       DateTime       Value\n",
            "0    2016-01-01  366.093248\n",
            "1    2016-01-02  369.050314\n",
            "2    2016-01-03  370.619048\n",
            "3    2016-01-04  371.839623\n",
            "4    2016-01-05  375.858553\n",
            "...         ...         ...\n",
            "1076 2018-12-27  394.541667\n",
            "1077 2018-12-28  392.909091\n",
            "1078 2018-12-29  392.750000\n",
            "1079 2018-12-30  391.782609\n",
            "1080 2018-12-31  391.125000\n",
            "\n",
            "[1081 rows x 2 columns]\n",
            "\n",
            " Normalize data\n",
            "\n",
            " Data Dimention After Processing\n",
            "(1081, 2)\n"
          ],
          "name": "stdout"
        },
        {
          "output_type": "display_data",
          "data": {
            "image/png": "[encoded data removed]",
            "text/plain": [
              "<Figure size 576x288 with 1 Axes>"
            ]
          },
          "metadata": {
            "tags": [],
            "needs_background": "light"
          }
        },
        {
          "output_type": "stream",
          "text": [
            "\n",
            "\n",
            "\n",
            "\n",
            "\n",
            "\n",
            "Number of Empty File: 0\n"
          ],
          "name": "stdout"
        }
      ]
    },
    {
      "cell_type": "markdown",
      "metadata": {
        "id": "anSerQYpjZbU"
      },
      "source": [
        "Loading the failures history file"
      ]
    },
    {
      "cell_type": "code",
      "metadata": {
        "colab": {
          "resources": {
            "http://localhost:8080/nbextensions/google.colab/files.js": {
              "data": "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",
              "ok": true,
              "headers": [
                [
                  "content-type",
                  "application/javascript"
                ]
              ],
              "status": 200,
              "status_text": ""
            }
          },
          "base_uri": "https://localhost:8080/",
          "height": 72
        },
        "id": "cTMjyOLZjZ-J",
        "outputId": "67fbd63b-41a4-4e02-a3b9-842ac9a6093e"
      },
      "source": [
        "from google.colab import files\n",
        "uploaded = files.upload()"
      ],
      "execution_count": 20,
      "outputs": [
        {
          "output_type": "display_data",
          "data": {
            "text/html": [
              "\n",
              "     <input type=\"file\" id=\"files-55f21ddd-2ead-4afe-8c27-aa110e1450ef\" name=\"files[]\" multiple disabled\n",
              "        style=\"border:none\" />\n",
              "     <output id=\"result-55f21ddd-2ead-4afe-8c27-aa110e1450ef\">\n",
              "      Upload widget is only available when the cell has been executed in the\n",
              "      current browser session. Please rerun this cell to enable.\n",
              "      </output>\n",
              "      <script src=\"/nbextensions/google.colab/files.js\"></script> "
            ],
            "text/plain": [
              "<IPython.core.display.HTML object>"
            ]
          },
          "metadata": {
            "tags": []
          }
        },
        {
          "output_type": "stream",
          "text": [
            "Saving Downhole equipment history.csv to Downhole equipment history.csv\n"
          ],
          "name": "stdout"
        }
      ]
    },
    {
      "cell_type": "code",
      "metadata": {
        "id": "Oeh88NF7j87m"
      },
      "source": [
        "import io\n",
        "equip_history = pd.read_csv(io.BytesIO(uploaded['Downhole equipment history.csv']), delimiter=\",\")\n",
        "equip_history['Datetime']= pd.to_datetime(df['DateTime'])"
      ],
      "execution_count": 21,
      "outputs": []
    },
    {
      "cell_type": "code",
      "metadata": {
        "colab": {
          "base_uri": "https://localhost:8080/"
        },
        "id": "Nw9fcc0Jn7ff",
        "outputId": "2a400a12-34f2-4ff8-c823-de35b78b344f"
      },
      "source": [
        "col_names"
      ],
      "execution_count": 32,
      "outputs": [
        {
          "output_type": "execute_result",
          "data": {
            "text/plain": [
              "['1.csv', '2.csv', '3.csv', '4.csv', '5.csv', '6.csv']"
            ]
          },
          "metadata": {
            "tags": []
          },
          "execution_count": 32
        }
      ]
    },
    {
      "cell_type": "code",
      "metadata": {
        "id": "5OKF8jD5kgIm"
      },
      "source": [
        "# Ordeing column names\n",
        "df_joined.columns = ['Value_x', 'DateTime', col_names[0], col_names[1], col_names[2], col_names[3], col_names[4], col_names[5]]"
      ],
      "execution_count": 22,
      "outputs": []
    },
    {
      "cell_type": "code",
      "metadata": {
        "colab": {
          "base_uri": "https://localhost:8080/",
          "height": 419
        },
        "id": "73-CBwZuko6O",
        "outputId": "94f282bb-f5aa-44b8-b54e-cd9c0b4cc5ad"
      },
      "source": [
        "# Sorting the dataframe\n",
        "df_joined.sort_index(axis=1, inplace=True)\n",
        "df_joined"
      ],
      "execution_count": 23,
      "outputs": [
        {
          "output_type": "execute_result",
          "data": {
            "text/html": [
              "<div>\n",
              "<style scoped>\n",
              "    .dataframe tbody tr th:only-of-type {\n",
              "        vertical-align: middle;\n",
              "    }\n",
              "\n",
              "    .dataframe tbody tr th {\n",
              "        vertical-align: top;\n",
              "    }\n",
              "\n",
              "    .dataframe thead th {\n",
              "        text-align: right;\n",
              "    }\n",
              "</style>\n",
              "<table border=\"1\" class=\"dataframe\">\n",
              "  <thead>\n",
              "    <tr style=\"text-align: right;\">\n",
              "      <th></th>\n",
              "      <th>1.csv</th>\n",
              "      <th>2.csv</th>\n",
              "      <th>3.csv</th>\n",
              "      <th>4.csv</th>\n",
              "      <th>5.csv</th>\n",
              "      <th>6.csv</th>\n",
              "      <th>DateTime</th>\n",
              "      <th>Value_x</th>\n",
              "    </tr>\n",
              "  </thead>\n",
              "  <tbody>\n",
              "    <tr>\n",
              "      <th>0</th>\n",
              "      <td>42.531250</td>\n",
              "      <td>62.065217</td>\n",
              "      <td>54.000000</td>\n",
              "      <td>67.082822</td>\n",
              "      <td>39.000000</td>\n",
              "      <td>366.093248</td>\n",
              "      <td>2016-01-01</td>\n",
              "      <td>NaN</td>\n",
              "    </tr>\n",
              "    <tr>\n",
              "      <th>1</th>\n",
              "      <td>42.777083</td>\n",
              "      <td>62.021739</td>\n",
              "      <td>54.000000</td>\n",
              "      <td>66.943750</td>\n",
              "      <td>39.000000</td>\n",
              "      <td>369.050314</td>\n",
              "      <td>2016-01-02</td>\n",
              "      <td>NaN</td>\n",
              "    </tr>\n",
              "    <tr>\n",
              "      <th>2</th>\n",
              "      <td>42.982979</td>\n",
              "      <td>62.127660</td>\n",
              "      <td>54.000000</td>\n",
              "      <td>66.520376</td>\n",
              "      <td>39.000000</td>\n",
              "      <td>370.619048</td>\n",
              "      <td>2016-01-03</td>\n",
              "      <td>NaN</td>\n",
              "    </tr>\n",
              "    <tr>\n",
              "      <th>3</th>\n",
              "      <td>39.385714</td>\n",
              "      <td>85.819048</td>\n",
              "      <td>52.944333</td>\n",
              "      <td>55.555556</td>\n",
              "      <td>46.575758</td>\n",
              "      <td>371.839623</td>\n",
              "      <td>2016-01-04</td>\n",
              "      <td>NaN</td>\n",
              "    </tr>\n",
              "    <tr>\n",
              "      <th>4</th>\n",
              "      <td>21.283333</td>\n",
              "      <td>114.035714</td>\n",
              "      <td>57.600000</td>\n",
              "      <td>13.407895</td>\n",
              "      <td>46.163043</td>\n",
              "      <td>375.858553</td>\n",
              "      <td>2016-01-05</td>\n",
              "      <td>NaN</td>\n",
              "    </tr>\n",
              "    <tr>\n",
              "      <th>...</th>\n",
              "      <td>...</td>\n",
              "      <td>...</td>\n",
              "      <td>...</td>\n",
              "      <td>...</td>\n",
              "      <td>...</td>\n",
              "      <td>...</td>\n",
              "      <td>...</td>\n",
              "      <td>...</td>\n",
              "    </tr>\n",
              "    <tr>\n",
              "      <th>1076</th>\n",
              "      <td>NaN</td>\n",
              "      <td>NaN</td>\n",
              "      <td>NaN</td>\n",
              "      <td>NaN</td>\n",
              "      <td>NaN</td>\n",
              "      <td>384.569767</td>\n",
              "      <td>2016-01-28</td>\n",
              "      <td>NaN</td>\n",
              "    </tr>\n",
              "    <tr>\n",
              "      <th>1077</th>\n",
              "      <td>NaN</td>\n",
              "      <td>NaN</td>\n",
              "      <td>NaN</td>\n",
              "      <td>NaN</td>\n",
              "      <td>NaN</td>\n",
              "      <td>381.003891</td>\n",
              "      <td>2016-01-29</td>\n",
              "      <td>NaN</td>\n",
              "    </tr>\n",
              "    <tr>\n",
              "      <th>1078</th>\n",
              "      <td>NaN</td>\n",
              "      <td>NaN</td>\n",
              "      <td>NaN</td>\n",
              "      <td>NaN</td>\n",
              "      <td>NaN</td>\n",
              "      <td>377.603774</td>\n",
              "      <td>2016-01-30</td>\n",
              "      <td>NaN</td>\n",
              "    </tr>\n",
              "    <tr>\n",
              "      <th>1079</th>\n",
              "      <td>NaN</td>\n",
              "      <td>NaN</td>\n",
              "      <td>NaN</td>\n",
              "      <td>NaN</td>\n",
              "      <td>NaN</td>\n",
              "      <td>376.972222</td>\n",
              "      <td>2016-01-31</td>\n",
              "      <td>NaN</td>\n",
              "    </tr>\n",
              "    <tr>\n",
              "      <th>1080</th>\n",
              "      <td>NaN</td>\n",
              "      <td>NaN</td>\n",
              "      <td>NaN</td>\n",
              "      <td>NaN</td>\n",
              "      <td>NaN</td>\n",
              "      <td>380.219858</td>\n",
              "      <td>2016-02-01</td>\n",
              "      <td>NaN</td>\n",
              "    </tr>\n",
              "  </tbody>\n",
              "</table>\n",
              "<p>1081 rows × 8 columns</p>\n",
              "</div>"
            ],
            "text/plain": [
              "          1.csv       2.csv      3.csv  ...       6.csv   DateTime  Value_x\n",
              "0     42.531250   62.065217  54.000000  ...  366.093248 2016-01-01      NaN\n",
              "1     42.777083   62.021739  54.000000  ...  369.050314 2016-01-02      NaN\n",
              "2     42.982979   62.127660  54.000000  ...  370.619048 2016-01-03      NaN\n",
              "3     39.385714   85.819048  52.944333  ...  371.839623 2016-01-04      NaN\n",
              "4     21.283333  114.035714  57.600000  ...  375.858553 2016-01-05      NaN\n",
              "...         ...         ...        ...  ...         ...        ...      ...\n",
              "1076        NaN         NaN        NaN  ...  384.569767 2016-01-28      NaN\n",
              "1077        NaN         NaN        NaN  ...  381.003891 2016-01-29      NaN\n",
              "1078        NaN         NaN        NaN  ...  377.603774 2016-01-30      NaN\n",
              "1079        NaN         NaN        NaN  ...  376.972222 2016-01-31      NaN\n",
              "1080        NaN         NaN        NaN  ...  380.219858 2016-02-01      NaN\n",
              "\n",
              "[1081 rows x 8 columns]"
            ]
          },
          "metadata": {
            "tags": []
          },
          "execution_count": 23
        }
      ]
    },
    {
      "cell_type": "markdown",
      "metadata": {
        "id": "3Gb75yJhk_-T"
      },
      "source": [
        "Drop unnecessary columns and filling the missed values with mean.<br>\n",
        "This Step can be applied to all oil wells"
      ]
    },
    {
      "cell_type": "code",
      "metadata": {
        "id": "uilW-YWOlBok"
      },
      "source": [
        "df_joined1=df_joined.drop(df_joined.columns[[6,7]], axis=1)\n",
        "df_joined12=df_joined1.apply(lambda x: x.fillna(x.mean()),axis=0)\n",
        "df_joined12['date']=df_joined['DateTime']"
      ],
      "execution_count": 24,
      "outputs": []
    },
    {
      "cell_type": "code",
      "metadata": {
        "id": "J9Ic8Ymgm4qu"
      },
      "source": [
        "df_input_well_Ya_675 = pd.DataFrame(input_data_Ya, index=col_names)"
      ],
      "execution_count": 38,
      "outputs": []
    },
    {
      "cell_type": "code",
      "metadata": {
        "id": "r6SRb6_PoUw1"
      },
      "source": [
        "# Transposing the dataframe and removing null values\n",
        "df_input_well_Ya_675=df_input_well_Ya_675.transpose().dropna()"
      ],
      "execution_count": 40,
      "outputs": []
    },
    {
      "cell_type": "code",
      "metadata": {
        "colab": {
          "base_uri": "https://localhost:8080/",
          "height": 419
        },
        "id": "HuKNWL4oofk-",
        "outputId": "6dd5ecfe-0a31-4b02-b8b8-ab3ddbe88efc"
      },
      "source": [
        "df_input_well_Ya_675"
      ],
      "execution_count": 41,
      "outputs": [
        {
          "output_type": "execute_result",
          "data": {
            "text/html": [
              "<div>\n",
              "<style scoped>\n",
              "    .dataframe tbody tr th:only-of-type {\n",
              "        vertical-align: middle;\n",
              "    }\n",
              "\n",
              "    .dataframe tbody tr th {\n",
              "        vertical-align: top;\n",
              "    }\n",
              "\n",
              "    .dataframe thead th {\n",
              "        text-align: right;\n",
              "    }\n",
              "</style>\n",
              "<table border=\"1\" class=\"dataframe\">\n",
              "  <thead>\n",
              "    <tr style=\"text-align: right;\">\n",
              "      <th></th>\n",
              "      <th>1.csv</th>\n",
              "      <th>2.csv</th>\n",
              "      <th>3.csv</th>\n",
              "      <th>4.csv</th>\n",
              "      <th>5.csv</th>\n",
              "      <th>6.csv</th>\n",
              "    </tr>\n",
              "  </thead>\n",
              "  <tbody>\n",
              "    <tr>\n",
              "      <th>0</th>\n",
              "      <td>42.531250</td>\n",
              "      <td>62.065217</td>\n",
              "      <td>54.000000</td>\n",
              "      <td>67.082822</td>\n",
              "      <td>39.000000</td>\n",
              "      <td>366.093248</td>\n",
              "    </tr>\n",
              "    <tr>\n",
              "      <th>1</th>\n",
              "      <td>42.777083</td>\n",
              "      <td>62.021739</td>\n",
              "      <td>54.000000</td>\n",
              "      <td>66.943750</td>\n",
              "      <td>39.000000</td>\n",
              "      <td>369.050314</td>\n",
              "    </tr>\n",
              "    <tr>\n",
              "      <th>2</th>\n",
              "      <td>42.982979</td>\n",
              "      <td>62.127660</td>\n",
              "      <td>54.000000</td>\n",
              "      <td>66.520376</td>\n",
              "      <td>39.000000</td>\n",
              "      <td>370.619048</td>\n",
              "    </tr>\n",
              "    <tr>\n",
              "      <th>3</th>\n",
              "      <td>39.385714</td>\n",
              "      <td>85.819048</td>\n",
              "      <td>52.944333</td>\n",
              "      <td>55.555556</td>\n",
              "      <td>46.575758</td>\n",
              "      <td>371.839623</td>\n",
              "    </tr>\n",
              "    <tr>\n",
              "      <th>4</th>\n",
              "      <td>21.283333</td>\n",
              "      <td>114.035714</td>\n",
              "      <td>57.600000</td>\n",
              "      <td>13.407895</td>\n",
              "      <td>46.163043</td>\n",
              "      <td>375.858553</td>\n",
              "    </tr>\n",
              "    <tr>\n",
              "      <th>...</th>\n",
              "      <td>...</td>\n",
              "      <td>...</td>\n",
              "      <td>...</td>\n",
              "      <td>...</td>\n",
              "      <td>...</td>\n",
              "      <td>...</td>\n",
              "    </tr>\n",
              "    <tr>\n",
              "      <th>919</th>\n",
              "      <td>58.240000</td>\n",
              "      <td>88.520993</td>\n",
              "      <td>54.000000</td>\n",
              "      <td>72.461538</td>\n",
              "      <td>50.000000</td>\n",
              "      <td>386.360000</td>\n",
              "    </tr>\n",
              "    <tr>\n",
              "      <th>920</th>\n",
              "      <td>61.900000</td>\n",
              "      <td>88.506621</td>\n",
              "      <td>53.702301</td>\n",
              "      <td>71.925926</td>\n",
              "      <td>50.000000</td>\n",
              "      <td>385.130435</td>\n",
              "    </tr>\n",
              "    <tr>\n",
              "      <th>921</th>\n",
              "      <td>58.940000</td>\n",
              "      <td>87.755636</td>\n",
              "      <td>54.000000</td>\n",
              "      <td>70.435897</td>\n",
              "      <td>50.000000</td>\n",
              "      <td>385.375000</td>\n",
              "    </tr>\n",
              "    <tr>\n",
              "      <th>922</th>\n",
              "      <td>58.517391</td>\n",
              "      <td>88.548253</td>\n",
              "      <td>54.000000</td>\n",
              "      <td>71.484848</td>\n",
              "      <td>50.000000</td>\n",
              "      <td>385.666667</td>\n",
              "    </tr>\n",
              "    <tr>\n",
              "      <th>923</th>\n",
              "      <td>56.389091</td>\n",
              "      <td>88.330511</td>\n",
              "      <td>54.000000</td>\n",
              "      <td>71.266667</td>\n",
              "      <td>50.000000</td>\n",
              "      <td>386.608696</td>\n",
              "    </tr>\n",
              "  </tbody>\n",
              "</table>\n",
              "<p>924 rows × 6 columns</p>\n",
              "</div>"
            ],
            "text/plain": [
              "         1.csv       2.csv      3.csv      4.csv      5.csv       6.csv\n",
              "0    42.531250   62.065217  54.000000  67.082822  39.000000  366.093248\n",
              "1    42.777083   62.021739  54.000000  66.943750  39.000000  369.050314\n",
              "2    42.982979   62.127660  54.000000  66.520376  39.000000  370.619048\n",
              "3    39.385714   85.819048  52.944333  55.555556  46.575758  371.839623\n",
              "4    21.283333  114.035714  57.600000  13.407895  46.163043  375.858553\n",
              "..         ...         ...        ...        ...        ...         ...\n",
              "919  58.240000   88.520993  54.000000  72.461538  50.000000  386.360000\n",
              "920  61.900000   88.506621  53.702301  71.925926  50.000000  385.130435\n",
              "921  58.940000   87.755636  54.000000  70.435897  50.000000  385.375000\n",
              "922  58.517391   88.548253  54.000000  71.484848  50.000000  385.666667\n",
              "923  56.389091   88.330511  54.000000  71.266667  50.000000  386.608696\n",
              "\n",
              "[924 rows x 6 columns]"
            ]
          },
          "metadata": {
            "tags": []
          },
          "execution_count": 41
        }
      ]
    },
    {
      "cell_type": "code",
      "metadata": {
        "colab": {
          "base_uri": "https://localhost:8080/",
          "height": 297
        },
        "id": "TDJPx-Edo1b3",
        "outputId": "1ef45243-56a0-4941-91a9-0f44aca04d59"
      },
      "source": [
        "# adding failure column to the dataframe\n",
        "df_joined12['failure']=0\n",
        "# finding the dates of failures concerning the particular well id\n",
        "equip_history1=equip_history[equip_history['well']=='Ya_601']\n",
        "equip_history1"
      ],
      "execution_count": 42,
      "outputs": [
        {
          "output_type": "execute_result",
          "data": {
            "text/html": [
              "<div>\n",
              "<style scoped>\n",
              "    .dataframe tbody tr th:only-of-type {\n",
              "        vertical-align: middle;\n",
              "    }\n",
              "\n",
              "    .dataframe tbody tr th {\n",
              "        vertical-align: top;\n",
              "    }\n",
              "\n",
              "    .dataframe thead th {\n",
              "        text-align: right;\n",
              "    }\n",
              "</style>\n",
              "<table border=\"1\" class=\"dataframe\">\n",
              "  <thead>\n",
              "    <tr style=\"text-align: right;\">\n",
              "      <th></th>\n",
              "      <th>well</th>\n",
              "      <th>method of operation</th>\n",
              "      <th>№ run in hole</th>\n",
              "      <th>Run date</th>\n",
              "      <th>Failure date</th>\n",
              "      <th>Pull reason</th>\n",
              "      <th>Datetime</th>\n",
              "    </tr>\n",
              "  </thead>\n",
              "  <tbody>\n",
              "    <tr>\n",
              "      <th>62</th>\n",
              "      <td>Ya_601</td>\n",
              "      <td>Artificial lift</td>\n",
              "      <td>1.0</td>\n",
              "      <td>2015-06-11</td>\n",
              "      <td>2015-09-10</td>\n",
              "      <td>No flow, no-load current</td>\n",
              "      <td>2018-09-09 17:34:57</td>\n",
              "    </tr>\n",
              "    <tr>\n",
              "      <th>63</th>\n",
              "      <td>Ya_601</td>\n",
              "      <td>Artificial lift</td>\n",
              "      <td>2.0</td>\n",
              "      <td>2015-09-17</td>\n",
              "      <td>2016-02-26</td>\n",
              "      <td>no flow</td>\n",
              "      <td>2018-09-09 18:36:09</td>\n",
              "    </tr>\n",
              "    <tr>\n",
              "      <th>64</th>\n",
              "      <td>Ya_601</td>\n",
              "      <td>Artificial lift</td>\n",
              "      <td>3.0</td>\n",
              "      <td>2016-03-05</td>\n",
              "      <td>2016-06-22</td>\n",
              "      <td>Geological</td>\n",
              "      <td>2018-09-09 19:37:09</td>\n",
              "    </tr>\n",
              "    <tr>\n",
              "      <th>65</th>\n",
              "      <td>Ya_601</td>\n",
              "      <td>Artificial lift</td>\n",
              "      <td>4.0</td>\n",
              "      <td>2016-06-24</td>\n",
              "      <td>2016-11-21</td>\n",
              "      <td>R=0, Y unbalance</td>\n",
              "      <td>2018-09-09 20:37:35</td>\n",
              "    </tr>\n",
              "    <tr>\n",
              "      <th>66</th>\n",
              "      <td>Ya_601</td>\n",
              "      <td>Artificial lift</td>\n",
              "      <td>5.0</td>\n",
              "      <td>2016-12-21</td>\n",
              "      <td>2016-12-28</td>\n",
              "      <td>no flow</td>\n",
              "      <td>2018-09-09 21:37:50</td>\n",
              "    </tr>\n",
              "    <tr>\n",
              "      <th>67</th>\n",
              "      <td>Ya_601</td>\n",
              "      <td>Artificial lift</td>\n",
              "      <td>6.0</td>\n",
              "      <td>2017-06-28</td>\n",
              "      <td>2017-07-03</td>\n",
              "      <td>Geological</td>\n",
              "      <td>2018-09-09 22:38:26</td>\n",
              "    </tr>\n",
              "    <tr>\n",
              "      <th>68</th>\n",
              "      <td>Ya_601</td>\n",
              "      <td>Artificial lift</td>\n",
              "      <td>7.0</td>\n",
              "      <td>2017-08-06</td>\n",
              "      <td>2017-09-15</td>\n",
              "      <td>Geological</td>\n",
              "      <td>2018-09-09 23:39:09</td>\n",
              "    </tr>\n",
              "    <tr>\n",
              "      <th>69</th>\n",
              "      <td>Ya_601</td>\n",
              "      <td>Injection</td>\n",
              "      <td>8.0</td>\n",
              "      <td>2017-09-04</td>\n",
              "      <td>NaN</td>\n",
              "      <td>NaN</td>\n",
              "      <td>2018-09-10 00:40:32</td>\n",
              "    </tr>\n",
              "  </tbody>\n",
              "</table>\n",
              "</div>"
            ],
            "text/plain": [
              "      well method of operation  ...               Pull reason            Datetime\n",
              "62  Ya_601     Artificial lift  ...  No flow, no-load current 2018-09-09 17:34:57\n",
              "63  Ya_601     Artificial lift  ...                   no flow 2018-09-09 18:36:09\n",
              "64  Ya_601     Artificial lift  ...                Geological 2018-09-09 19:37:09\n",
              "65  Ya_601     Artificial lift  ...          R=0, Y unbalance 2018-09-09 20:37:35\n",
              "66  Ya_601     Artificial lift  ...                   no flow 2018-09-09 21:37:50\n",
              "67  Ya_601     Artificial lift  ...                Geological 2018-09-09 22:38:26\n",
              "68  Ya_601     Artificial lift  ...                Geological 2018-09-09 23:39:09\n",
              "69  Ya_601           Injection  ...                       NaN 2018-09-10 00:40:32\n",
              "\n",
              "[8 rows x 7 columns]"
            ]
          },
          "metadata": {
            "tags": []
          },
          "execution_count": 42
        }
      ]
    },
    {
      "cell_type": "code",
      "metadata": {
        "id": "yVuL0A_5puym"
      },
      "source": [
        "# Finding failure index row number and storing in the list\n",
        "failure_date=equip_history1['Failure date']\n",
        "failure_list=[]\n",
        "for fdate in failure_date:\n",
        "  # if(fdate in df_input_well_Y104_no_s1_class['date'].values):\n",
        "   failure_list.append(df_joined12.index[df_joined12['date']==fdate].tolist())"
      ],
      "execution_count": 43,
      "outputs": []
    },
    {
      "cell_type": "code",
      "metadata": {
        "colab": {
          "base_uri": "https://localhost:8080/"
        },
        "id": "haMQZcNjqIvj",
        "outputId": "aba1d3a3-5c7b-4ceb-abda-003a9ce68067"
      },
      "source": [
        "failure_list_index = list(filter(None, failure_list))\n",
        "len(failure_list_index)"
      ],
      "execution_count": 44,
      "outputs": [
        {
          "output_type": "execute_result",
          "data": {
            "text/plain": [
              "6"
            ]
          },
          "metadata": {
            "tags": []
          },
          "execution_count": 44
        }
      ]
    },
    {
      "cell_type": "code",
      "metadata": {
        "id": "9ZL3lwrzqWFP"
      },
      "source": [
        "# adding the matched failuerd dates to the dataframe\n",
        "for index in failure_list_index:\n",
        "  df_joined12.iloc[index,7]=1"
      ],
      "execution_count": 47,
      "outputs": []
    },
    {
      "cell_type": "code",
      "metadata": {
        "colab": {
          "base_uri": "https://localhost:8080/",
          "height": 235
        },
        "id": "KcwS2Bilqkoo",
        "outputId": "c3a64260-9d77-4db9-b168-d8a1b175cc48"
      },
      "source": [
        "# Displaying the result\n",
        "df_joined12[df_joined12['failure']==1]"
      ],
      "execution_count": 48,
      "outputs": [
        {
          "output_type": "execute_result",
          "data": {
            "text/html": [
              "<div>\n",
              "<style scoped>\n",
              "    .dataframe tbody tr th:only-of-type {\n",
              "        vertical-align: middle;\n",
              "    }\n",
              "\n",
              "    .dataframe tbody tr th {\n",
              "        vertical-align: top;\n",
              "    }\n",
              "\n",
              "    .dataframe thead th {\n",
              "        text-align: right;\n",
              "    }\n",
              "</style>\n",
              "<table border=\"1\" class=\"dataframe\">\n",
              "  <thead>\n",
              "    <tr style=\"text-align: right;\">\n",
              "      <th></th>\n",
              "      <th>1.csv</th>\n",
              "      <th>2.csv</th>\n",
              "      <th>3.csv</th>\n",
              "      <th>4.csv</th>\n",
              "      <th>5.csv</th>\n",
              "      <th>6.csv</th>\n",
              "      <th>date</th>\n",
              "      <th>failure</th>\n",
              "    </tr>\n",
              "  </thead>\n",
              "  <tbody>\n",
              "    <tr>\n",
              "      <th>31</th>\n",
              "      <td>56.124444</td>\n",
              "      <td>56.977778</td>\n",
              "      <td>49.000000</td>\n",
              "      <td>53.078864</td>\n",
              "      <td>45.000000</td>\n",
              "      <td>368.007435</td>\n",
              "      <td>2016-02-26</td>\n",
              "      <td>1</td>\n",
              "    </tr>\n",
              "    <tr>\n",
              "      <th>286</th>\n",
              "      <td>67.704615</td>\n",
              "      <td>56.863200</td>\n",
              "      <td>57.000000</td>\n",
              "      <td>85.323944</td>\n",
              "      <td>50.333333</td>\n",
              "      <td>412.416667</td>\n",
              "      <td>2016-11-21</td>\n",
              "      <td>1</td>\n",
              "    </tr>\n",
              "    <tr>\n",
              "      <th>323</th>\n",
              "      <td>71.238565</td>\n",
              "      <td>55.378261</td>\n",
              "      <td>58.000000</td>\n",
              "      <td>90.075000</td>\n",
              "      <td>52.000000</td>\n",
              "      <td>411.080000</td>\n",
              "      <td>2016-12-28</td>\n",
              "      <td>1</td>\n",
              "    </tr>\n",
              "    <tr>\n",
              "      <th>509</th>\n",
              "      <td>64.624000</td>\n",
              "      <td>77.674792</td>\n",
              "      <td>53.300000</td>\n",
              "      <td>79.925000</td>\n",
              "      <td>49.413793</td>\n",
              "      <td>413.068966</td>\n",
              "      <td>2017-07-03</td>\n",
              "      <td>1</td>\n",
              "    </tr>\n",
              "    <tr>\n",
              "      <th>583</th>\n",
              "      <td>64.584375</td>\n",
              "      <td>77.024167</td>\n",
              "      <td>54.900000</td>\n",
              "      <td>81.033898</td>\n",
              "      <td>51.107143</td>\n",
              "      <td>421.461538</td>\n",
              "      <td>2017-09-15</td>\n",
              "      <td>1</td>\n",
              "    </tr>\n",
              "    <tr>\n",
              "      <th>928</th>\n",
              "      <td>62.391781</td>\n",
              "      <td>118.089205</td>\n",
              "      <td>52.389544</td>\n",
              "      <td>74.492932</td>\n",
              "      <td>36.087121</td>\n",
              "      <td>425.041475</td>\n",
              "      <td>2016-06-22</td>\n",
              "      <td>1</td>\n",
              "    </tr>\n",
              "  </tbody>\n",
              "</table>\n",
              "</div>"
            ],
            "text/plain": [
              "         1.csv       2.csv      3.csv  ...       6.csv       date  failure\n",
              "31   56.124444   56.977778  49.000000  ...  368.007435 2016-02-26        1\n",
              "286  67.704615   56.863200  57.000000  ...  412.416667 2016-11-21        1\n",
              "323  71.238565   55.378261  58.000000  ...  411.080000 2016-12-28        1\n",
              "509  64.624000   77.674792  53.300000  ...  413.068966 2017-07-03        1\n",
              "583  64.584375   77.024167  54.900000  ...  421.461538 2017-09-15        1\n",
              "928  62.391781  118.089205  52.389544  ...  425.041475 2016-06-22        1\n",
              "\n",
              "[6 rows x 8 columns]"
            ]
          },
          "metadata": {
            "tags": []
          },
          "execution_count": 48
        }
      ]
    },
    {
      "cell_type": "code",
      "metadata": {
        "id": "By9VPrIlqrem"
      },
      "source": [
        "df_joined12.sort_values(by=['date'], inplace=True)"
      ],
      "execution_count": 50,
      "outputs": []
    },
    {
      "cell_type": "markdown",
      "metadata": {
        "id": "-fpfS8b0q3vP"
      },
      "source": [
        "writing the results to csv file"
      ]
    },
    {
      "cell_type": "code",
      "metadata": {
        "id": "sMmqxWD8qyNy"
      },
      "source": [
        "df_joined12.to_csv(r'/content/drive/MyDrive/Colab Notebooks/final_project/data/data-one/Ya_602-sample-test_input.csv', index = True)"
      ],
      "execution_count": 51,
      "outputs": []
    },
    {
      "cell_type": "markdown",
      "metadata": {
        "id": "xVIda9XJ9urC"
      },
      "source": [
        " ///////"
      ]
    },
    {
      "cell_type": "markdown",
      "metadata": {
        "id": "IWTtydXb9ucb"
      },
      "source": [
        "Referencing to the processed and grouped oil well directory"
      ]
    },
    {
      "cell_type": "code",
      "metadata": {
        "id": "VBh8T4kO91eZ"
      },
      "source": [
        "file_path = glob.glob(\"/content/drive/MyDrive/Colab Notebooks/final_project/data/data-one/*.csv\", recursive=True)"
      ],
      "execution_count": 3,
      "outputs": []
    },
    {
      "cell_type": "markdown",
      "metadata": {
        "id": "2SeuBN_D-0Fa"
      },
      "source": [
        "Combining all oil well data  to form one general data set that represents all oil wells and removing some noise (i.e sensor data reading greater than 1000 )"
      ]
    },
    {
      "cell_type": "code",
      "metadata": {
        "id": "mVAaAvBI-FQf"
      },
      "source": [
        "ctr=0\n",
        "all_df=[]\n",
        "sensorData=\"\"\n",
        "for file_name in file_path:\n",
        "      ctr= ctr + 1\n",
        "      # print(\"File Name=\", file_name)\n",
        "      file = open(file_name, encoding=\"utf8\")\n",
        "      reader = csv.reader(file)\n",
        "      lines= len(list(reader))\n",
        "      file.close()\n",
        "      df = pd.read_csv(file_name)\n",
        "      df.columns = df.columns.str.strip()\n",
        "      # print(df['1.csv'].max(),\"  \", df['2.csv'].max(),\"  \", df['3.csv'].max(),\"  \", df['4.csv'].max(),\"  \", df['5.csv'].max(),\"  \" ,df['6.csv'].max())\n",
        "      # print(\"\\n\")\n",
        "      df = df.drop(df[df['1.csv'] >= 1000].index)\n",
        "      df = df.drop(df[df['2.csv'] >= 1000].index)\n",
        "      df = df.drop(df[df['3.csv'] >= 1000].index)\n",
        "      df = df.drop(df[df['4.csv'] >= 1000].index)\n",
        "      df = df.drop(df[df['5.csv'] >= 1000].index)\n",
        "      df = df.drop(df[df['6.csv'] >= 1000].index)\n",
        "      # print(df['1.csv'].max(),\"  \", df['2.csv'].max(),\"  \", df['3.csv'].max(),\"  \", df['4.csv'].max(),\"  \", df['5.csv'].max(),\"  \" ,df['6.csv'].max())\n",
        "      # print(\"\\n\")\n",
        "      all_df.append(df)"
      ],
      "execution_count": 4,
      "outputs": []
    },
    {
      "cell_type": "code",
      "metadata": {
        "id": "KKwrNxGk_q-w"
      },
      "source": [
        "# concatnating data \n",
        "sensorData=pd.concat(all_df)"
      ],
      "execution_count": 5,
      "outputs": []
    },
    {
      "cell_type": "code",
      "metadata": {
        "id": "fY9cZeqw_-pR"
      },
      "source": [
        "# droping unneccessary columns\n",
        "sensorData=sensorData.drop(sensorData.columns[[0,7]], axis=1)"
      ],
      "execution_count": 6,
      "outputs": []
    },
    {
      "cell_type": "markdown",
      "metadata": {
        "id": "LCCRqBelALvs"
      },
      "source": [
        "Downsampling dataset based on criteria that reading  20 days sensor data before and after one failuer point"
      ]
    },
    {
      "cell_type": "code",
      "metadata": {
        "id": "LRXf5pF8AMKh"
      },
      "source": [
        "list_in=[]\n",
        "SelectedSensorData = pd.DataFrame(columns=['1.csv','2.csv','3.csv','4.csv','5.csv','6.csv','failure'])\n",
        "for i in range (0, len(sensorData.index)):\n",
        "  if (sensorData.iloc[i, 6]==1):\n",
        "      if(i + 30 > len(sensorData.index) - 1):\n",
        "        #  print(SelectedSensorData.append(sensorData.iloc[i,: ]))\n",
        "         SelectedSensorData=SelectedSensorData.append(sensorData.iloc[i,: ])\n",
        "      else:\n",
        "        rang= i - 20 if i >= 20 else 0\n",
        "        # print(SelectedSensorData.append(sensorData.iloc[rang:i + 20: ]))\n",
        "        SelectedSensorData=SelectedSensorData.append(sensorData.iloc[rang:i + 20: ])"
      ],
      "execution_count": 7,
      "outputs": []
    },
    {
      "cell_type": "code",
      "metadata": {
        "id": "XEnHLcKqFei0"
      },
      "source": [
        "SelectedSensorData.drop_duplicates(inplace=True)"
      ],
      "execution_count": 8,
      "outputs": []
    },
    {
      "cell_type": "code",
      "metadata": {
        "colab": {
          "base_uri": "https://localhost:8080/",
          "height": 419
        },
        "id": "0-ZhbnIvF5Xk",
        "outputId": "df5bb571-f1f5-48a7-a446-e3a5bc9d803e"
      },
      "source": [
        "SelectedSensorData"
      ],
      "execution_count": 64,
      "outputs": [
        {
          "output_type": "execute_result",
          "data": {
            "text/html": [
              "<div>\n",
              "<style scoped>\n",
              "    .dataframe tbody tr th:only-of-type {\n",
              "        vertical-align: middle;\n",
              "    }\n",
              "\n",
              "    .dataframe tbody tr th {\n",
              "        vertical-align: top;\n",
              "    }\n",
              "\n",
              "    .dataframe thead th {\n",
              "        text-align: right;\n",
              "    }\n",
              "</style>\n",
              "<table border=\"1\" class=\"dataframe\">\n",
              "  <thead>\n",
              "    <tr style=\"text-align: right;\">\n",
              "      <th></th>\n",
              "      <th>1.csv</th>\n",
              "      <th>2.csv</th>\n",
              "      <th>3.csv</th>\n",
              "      <th>4.csv</th>\n",
              "      <th>5.csv</th>\n",
              "      <th>6.csv</th>\n",
              "      <th>failure</th>\n",
              "    </tr>\n",
              "  </thead>\n",
              "  <tbody>\n",
              "    <tr>\n",
              "      <th>26</th>\n",
              "      <td>49.157778</td>\n",
              "      <td>35.439033</td>\n",
              "      <td>53.997778</td>\n",
              "      <td>63.157143</td>\n",
              "      <td>60.450980</td>\n",
              "      <td>410.506073</td>\n",
              "      <td>0</td>\n",
              "    </tr>\n",
              "    <tr>\n",
              "      <th>27</th>\n",
              "      <td>49.412766</td>\n",
              "      <td>36.230634</td>\n",
              "      <td>54.000000</td>\n",
              "      <td>63.302632</td>\n",
              "      <td>60.502674</td>\n",
              "      <td>412.161417</td>\n",
              "      <td>0</td>\n",
              "    </tr>\n",
              "    <tr>\n",
              "      <th>28</th>\n",
              "      <td>49.273333</td>\n",
              "      <td>37.327554</td>\n",
              "      <td>54.000000</td>\n",
              "      <td>63.671642</td>\n",
              "      <td>60.502793</td>\n",
              "      <td>409.840517</td>\n",
              "      <td>0</td>\n",
              "    </tr>\n",
              "    <tr>\n",
              "      <th>29</th>\n",
              "      <td>49.302222</td>\n",
              "      <td>37.714867</td>\n",
              "      <td>54.000000</td>\n",
              "      <td>63.913043</td>\n",
              "      <td>60.509901</td>\n",
              "      <td>408.627178</td>\n",
              "      <td>0</td>\n",
              "    </tr>\n",
              "    <tr>\n",
              "      <th>30</th>\n",
              "      <td>49.300000</td>\n",
              "      <td>38.360083</td>\n",
              "      <td>54.000000</td>\n",
              "      <td>64.085366</td>\n",
              "      <td>60.506173</td>\n",
              "      <td>409.140288</td>\n",
              "      <td>0</td>\n",
              "    </tr>\n",
              "    <tr>\n",
              "      <th>...</th>\n",
              "      <td>...</td>\n",
              "      <td>...</td>\n",
              "      <td>...</td>\n",
              "      <td>...</td>\n",
              "      <td>...</td>\n",
              "      <td>...</td>\n",
              "      <td>...</td>\n",
              "    </tr>\n",
              "    <tr>\n",
              "      <th>623</th>\n",
              "      <td>62.391781</td>\n",
              "      <td>143.358544</td>\n",
              "      <td>52.389544</td>\n",
              "      <td>74.492932</td>\n",
              "      <td>35.536842</td>\n",
              "      <td>406.457143</td>\n",
              "      <td>0</td>\n",
              "    </tr>\n",
              "    <tr>\n",
              "      <th>624</th>\n",
              "      <td>62.391781</td>\n",
              "      <td>143.581940</td>\n",
              "      <td>52.389544</td>\n",
              "      <td>74.492932</td>\n",
              "      <td>35.000000</td>\n",
              "      <td>412.730769</td>\n",
              "      <td>0</td>\n",
              "    </tr>\n",
              "    <tr>\n",
              "      <th>625</th>\n",
              "      <td>62.391781</td>\n",
              "      <td>143.932911</td>\n",
              "      <td>52.389544</td>\n",
              "      <td>74.492932</td>\n",
              "      <td>35.000000</td>\n",
              "      <td>415.434783</td>\n",
              "      <td>0</td>\n",
              "    </tr>\n",
              "    <tr>\n",
              "      <th>626</th>\n",
              "      <td>62.391781</td>\n",
              "      <td>144.270698</td>\n",
              "      <td>52.389544</td>\n",
              "      <td>74.492932</td>\n",
              "      <td>35.000000</td>\n",
              "      <td>413.888889</td>\n",
              "      <td>0</td>\n",
              "    </tr>\n",
              "    <tr>\n",
              "      <th>627</th>\n",
              "      <td>62.391781</td>\n",
              "      <td>144.595711</td>\n",
              "      <td>52.389544</td>\n",
              "      <td>74.492932</td>\n",
              "      <td>35.000000</td>\n",
              "      <td>415.800000</td>\n",
              "      <td>0</td>\n",
              "    </tr>\n",
              "  </tbody>\n",
              "</table>\n",
              "<p>4446 rows × 7 columns</p>\n",
              "</div>"
            ],
            "text/plain": [
              "         1.csv       2.csv      3.csv      4.csv      5.csv       6.csv failure\n",
              "26   49.157778   35.439033  53.997778  63.157143  60.450980  410.506073       0\n",
              "27   49.412766   36.230634  54.000000  63.302632  60.502674  412.161417       0\n",
              "28   49.273333   37.327554  54.000000  63.671642  60.502793  409.840517       0\n",
              "29   49.302222   37.714867  54.000000  63.913043  60.509901  408.627178       0\n",
              "30   49.300000   38.360083  54.000000  64.085366  60.506173  409.140288       0\n",
              "..         ...         ...        ...        ...        ...         ...     ...\n",
              "623  62.391781  143.358544  52.389544  74.492932  35.536842  406.457143       0\n",
              "624  62.391781  143.581940  52.389544  74.492932  35.000000  412.730769       0\n",
              "625  62.391781  143.932911  52.389544  74.492932  35.000000  415.434783       0\n",
              "626  62.391781  144.270698  52.389544  74.492932  35.000000  413.888889       0\n",
              "627  62.391781  144.595711  52.389544  74.492932  35.000000  415.800000       0\n",
              "\n",
              "[4446 rows x 7 columns]"
            ]
          },
          "metadata": {
            "tags": []
          },
          "execution_count": 64
        }
      ]
    },
    {
      "cell_type": "markdown",
      "metadata": {
        "id": "sRWrVTMOBCVh"
      },
      "source": [
        "Normalization of dataset"
      ]
    },
    {
      "cell_type": "code",
      "metadata": {
        "id": "Qt74BXf__U8H"
      },
      "source": [
        "from numpy import asarray\n",
        "from sklearn.preprocessing import MinMaxScaler\n",
        "scaler = MinMaxScaler()\n",
        "# transform data\n",
        "scaled = scaler.fit_transform(SelectedSensorData.iloc[:,0:6])"
      ],
      "execution_count": 9,
      "outputs": []
    },
    {
      "cell_type": "code",
      "metadata": {
        "id": "ftwF8kJu_cdF"
      },
      "source": [
        "# mapping the normilized input with target points\n",
        "scaled=np.c_[scaled, SelectedSensorData.iloc[:,6]]"
      ],
      "execution_count": 10,
      "outputs": []
    },
    {
      "cell_type": "code",
      "metadata": {
        "id": "BpXX4gBti6-B"
      },
      "source": [
        "# Splitting data set into training and testing\n",
        "train,test = scaled[0:3278], scaled[3278:]"
      ],
      "execution_count": 11,
      "outputs": []
    },
    {
      "cell_type": "markdown",
      "metadata": {
        "id": "mjUki8GwBvlP"
      },
      "source": [
        "Function to create time series data"
      ]
    },
    {
      "cell_type": "code",
      "metadata": {
        "id": "uA7zSY36AKmC"
      },
      "source": [
        "def split_series(series, n_past, n_future):\n",
        "  #\n",
        "  # n_past ==> no of past observations\n",
        "  #\n",
        "  # n_future ==> no of future observations \n",
        "  #\n",
        "  X, y = list(), list()\n",
        "  for window_start in range(len(series)):\n",
        "    past_end = window_start + n_past\n",
        "    future_end = past_end + n_future\n",
        "    if future_end > len(series):\n",
        "      break\n",
        "    # slicing the past and future parts of the window\n",
        "    past, future = series[window_start:past_end, :], series[past_end:future_end, :]\n",
        "    X.append(past)\n",
        "    y.append(future)\n",
        "  return np.array(X), np.array(y)"
      ],
      "execution_count": 12,
      "outputs": []
    },
    {
      "cell_type": "markdown",
      "metadata": {
        "id": "BRz-6HBBCBIJ"
      },
      "source": [
        "This function performs: if any data of sliced time series coontains failure point then the this window/sliced time series is label as fauire otherwise non failure"
      ]
    },
    {
      "cell_type": "code",
      "metadata": {
        "id": "3A9DyZtXTpEX"
      },
      "source": [
        "def label_class(series):\n",
        "  y_label=[]\n",
        "  for t_sapn in series:\n",
        "    # for zz in t_sapn:\n",
        "    # print(t_sapn)\n",
        "    # print(t_sapn[:,6])\n",
        "    if( 1 in t_sapn[:,6]):\n",
        "      # print('exist')\n",
        "      y_label.append(1)\n",
        "    elif( 2 in t_sapn[:,6]):\n",
        "      y_label.append(2)\n",
        "    elif( 3 in t_sapn[:,6]):\n",
        "      y_label.append(3)\n",
        "    else:\n",
        "      y_label.append(0)\n",
        "\n",
        "  return y_label\n"
      ],
      "execution_count": 13,
      "outputs": []
    },
    {
      "cell_type": "code",
      "metadata": {
        "id": "TpVO0Kfe-I4G"
      },
      "source": [
        "# difing the time series window size\n",
        "n_past = 3\n",
        "n_future = 1\n",
        "n_features = 6"
      ],
      "execution_count": 14,
      "outputs": []
    },
    {
      "cell_type": "markdown",
      "metadata": {
        "id": "Oqt0vcxBFGMX"
      },
      "source": [
        "Generating input and out data for the model"
      ]
    },
    {
      "cell_type": "code",
      "metadata": {
        "id": "IprNS1ZZ5umF"
      },
      "source": [
        "X_train, y_train = split_series(train,n_past, n_future)\n",
        "X_test, y_test = split_series(test,n_past, n_future)"
      ],
      "execution_count": 15,
      "outputs": []
    },
    {
      "cell_type": "code",
      "metadata": {
        "id": "tMsiLr3-ETNI"
      },
      "source": [
        "y_train, y_test=label_class(X_train), label_class(X_test)"
      ],
      "execution_count": 16,
      "outputs": []
    },
    {
      "cell_type": "code",
      "metadata": {
        "id": "YdTaQhde1sZH"
      },
      "source": [
        "X_train,X_test =X_train[:,:,0:6], X_test[:,:,0:6]"
      ],
      "execution_count": 17,
      "outputs": []
    },
    {
      "cell_type": "code",
      "metadata": {
        "id": "NcHbBSTayUb3"
      },
      "source": [
        "y_train=np.reshape(y_train, (len(y_train), 1,1))\n",
        "y_test=np.reshape(y_test, (len(y_test), 1,1))"
      ],
      "execution_count": 18,
      "outputs": []
    },
    {
      "cell_type": "code",
      "metadata": {
        "id": "vXtwKOuSEaLE"
      },
      "source": [
        "X_train, y_train = np.asarray(X_train).astype('float32'), np.asarray(y_train).astype('float32')\n",
        "X_test, y_test = np.asarray(X_test).astype('float32'), np.asarray(y_test).astype('float32')"
      ],
      "execution_count": 19,
      "outputs": []
    },
    {
      "cell_type": "code",
      "metadata": {
        "colab": {
          "base_uri": "https://localhost:8080/"
        },
        "id": "5ZhIuC1PPtIE",
        "outputId": "48258ce7-905d-4e11-ddf7-c86b1845d614"
      },
      "source": [
        "X_test.shape"
      ],
      "execution_count": 149,
      "outputs": [
        {
          "output_type": "execute_result",
          "data": {
            "text/plain": [
              "(1165, 3, 6)"
            ]
          },
          "metadata": {
            "tags": []
          },
          "execution_count": 149
        }
      ]
    },
    {
      "cell_type": "code",
      "metadata": {
        "colab": {
          "base_uri": "https://localhost:8080/"
        },
        "id": "P8kadZGvP21B",
        "outputId": "0089c4bc-8aa7-49e8-daa8-062ebedc6ce8"
      },
      "source": [
        "values, counts = np.unique(y_test, return_counts=True)\n",
        "print(values, counts)"
      ],
      "execution_count": 20,
      "outputs": [
        {
          "output_type": "stream",
          "text": [
            "[0. 1.] [858  69]\n"
          ],
          "name": "stdout"
        }
      ]
    },
    {
      "cell_type": "markdown",
      "metadata": {
        "id": "eANbQnPAFOlI"
      },
      "source": [
        "Defining the metrics options"
      ]
    },
    {
      "cell_type": "code",
      "metadata": {
        "id": "sqf-1M5DeXdJ"
      },
      "source": [
        "METRICS = [\n",
        "      keras.metrics.TruePositives(name='tp'),\n",
        "      keras.metrics.FalsePositives(name='fp'),\n",
        "      keras.metrics.TrueNegatives(name='tn'),\n",
        "      keras.metrics.FalseNegatives(name='fn'), \n",
        "      keras.metrics.BinaryAccuracy(name='accuracy'),\n",
        "      keras.metrics.Precision(name='precision'),\n",
        "      keras.metrics.Recall(name='recall'),\n",
        "      keras.metrics.AUC(name='auc')\n",
        "]"
      ],
      "execution_count": 25,
      "outputs": []
    },
    {
      "cell_type": "markdown",
      "metadata": {
        "id": "T5UAqwbFIWV9"
      },
      "source": [
        "<b>The best performing model , binary classification Seq2Seq LSTM model </b>"
      ]
    },
    {
      "cell_type": "code",
      "metadata": {
        "colab": {
          "base_uri": "https://localhost:8080/"
        },
        "id": "qtGLWPaifrI8",
        "outputId": "627706fb-f5ac-455d-90ab-56e0adbf1c9e"
      },
      "source": [
        "encoder_inputs = tf.keras.layers.Input(shape=(n_past, n_features))\n",
        "encoder_l1 = tf.keras.layers.LSTM(60,return_sequences = True, return_state=True)\n",
        "encoder_outputs1 = encoder_l1(encoder_inputs)\n",
        "encoder_states1 = encoder_outputs1[1:]\n",
        "encoder_l2 = tf.keras.layers.LSTM(10, return_state=True)\n",
        "encoder_outputs2 = encoder_l2(encoder_outputs1[0])\n",
        "encoder_states2 = encoder_outputs2[1:]\n",
        "#\n",
        "decoder_inputs = tf.keras.layers.RepeatVector(n_future)(encoder_outputs2[0])\n",
        "#\n",
        "decoder_l1 = tf.keras.layers.LSTM(60, return_sequences=True)(decoder_inputs,initial_state = encoder_states1)\n",
        "decoder_l2 = tf.keras.layers.LSTM(10, return_sequences=True)(decoder_l1,initial_state = encoder_states2)\n",
        "dropout = Dropout(rate=0.7)\n",
        "decoder_outputs = dropout(decoder_l2)\n",
        "decoder_outputs2 = tf.keras.layers.TimeDistributed(tf.keras.layers.Dense(1, activation=\"sigmoid\"))(decoder_outputs)\n",
        "#\n",
        "model_e2d2 = tf.keras.models.Model(encoder_inputs,decoder_outputs2)\n",
        "#\n",
        "model_e2d2.summary()"
      ],
      "execution_count": 86,
      "outputs": [
        {
          "output_type": "stream",
          "text": [
            "Model: \"model_2\"\n",
            "__________________________________________________________________________________________________\n",
            "Layer (type)                    Output Shape         Param #     Connected to                     \n",
            "==================================================================================================\n",
            "input_3 (InputLayer)            [(None, 3, 6)]       0                                            \n",
            "__________________________________________________________________________________________________\n",
            "lstm_8 (LSTM)                   [(None, 3, 60), (Non 16080       input_3[0][0]                    \n",
            "__________________________________________________________________________________________________\n",
            "lstm_9 (LSTM)                   [(None, 10), (None,  2840        lstm_8[0][0]                     \n",
            "__________________________________________________________________________________________________\n",
            "repeat_vector_2 (RepeatVector)  (None, 1, 10)        0           lstm_9[0][0]                     \n",
            "__________________________________________________________________________________________________\n",
            "lstm_10 (LSTM)                  (None, 1, 60)        17040       repeat_vector_2[0][0]            \n",
            "                                                                 lstm_8[0][1]                     \n",
            "                                                                 lstm_8[0][2]                     \n",
            "__________________________________________________________________________________________________\n",
            "lstm_11 (LSTM)                  (None, 1, 10)        2840        lstm_10[0][0]                    \n",
            "                                                                 lstm_9[0][1]                     \n",
            "                                                                 lstm_9[0][2]                     \n",
            "__________________________________________________________________________________________________\n",
            "dropout_2 (Dropout)             (None, 1, 10)        0           lstm_11[0][0]                    \n",
            "__________________________________________________________________________________________________\n",
            "time_distributed_2 (TimeDistrib (None, 1, 1)         11          dropout_2[0][0]                  \n",
            "==================================================================================================\n",
            "Total params: 38,811\n",
            "Trainable params: 38,811\n",
            "Non-trainable params: 0\n",
            "__________________________________________________________________________________________________\n"
          ],
          "name": "stdout"
        }
      ]
    },
    {
      "cell_type": "markdown",
      "metadata": {
        "id": "S-adiRqYIvyu"
      },
      "source": [
        "Compling model"
      ]
    },
    {
      "cell_type": "code",
      "metadata": {
        "id": "uCit0I554uUS"
      },
      "source": [
        "reduce_lr = tf.keras.callbacks.LearningRateScheduler(lambda x: 1e-3 * 0.90 ** x)\n",
        "sample_weight = np.ones(shape=(len(y_train),))\n",
        "sample_weight[y_train.reshape(y_train.shape[0]) == 1] =40\n",
        "\n",
        "opt = tf.keras.optimizers.Adam(learning_rate=0.1)\n",
        "\n",
        "# model_e1d1.compile(optimizer=tf.keras.optimizers.Adam(), loss=tf.keras.losses.MeanAbsoluteError())\n",
        "# history_e1d1=model_e1d1.fit(X_train,y_train,epochs=50,validation_data=(X_test,y_test),batch_size=20,verbose=2,callbacks=[reduce_lr], shuffle=False)\n",
        "\n",
        "model_e2d2.compile(optimizer=opt, loss='binary_crossentropy', metrics=METRICS)"
      ],
      "execution_count": 87,
      "outputs": []
    },
    {
      "cell_type": "markdown",
      "metadata": {
        "id": "EhMbmDUTIzOv"
      },
      "source": [
        "Training model"
      ]
    },
    {
      "cell_type": "code",
      "metadata": {
        "id": "d0L4-qpAISVl"
      },
      "source": [
        "history=model_e2d2.fit(X_train,y_train,epochs=500,validation_data=(X_test,y_test),batch_size=100,verbose=2, shuffle=False, sample_weight=sample_weight)"
      ],
      "execution_count": null,
      "outputs": []
    },
    {
      "cell_type": "code",
      "metadata": {
        "id": "SdypBHhXJji-"
      },
      "source": [
        "# Saving model\n",
        "from keras.models import model_from_json\n",
        "\n",
        "# serialize model to JSON\n",
        "model_json = model_e2d2.to_json()\n",
        "with open(file_path + \"model-2_60_10.json\", \"w\") as json_file:\n",
        "    json_file.write(model_json)\n",
        "# serialize weights to HDF5\n",
        "model_e2d2.save_weights(file_path + \"model_weight-2_60_10.h5\")"
      ],
      "execution_count": null,
      "outputs": []
    },
    {
      "cell_type": "code",
      "metadata": {
        "colab": {
          "base_uri": "https://localhost:8080/"
        },
        "id": "3xH26bH1JmT5",
        "outputId": "9ae97f93-d33c-4c24-d3ef-ffdb72b3c483"
      },
      "source": [
        "from keras.models import model_from_json\n",
        "file_path=\"/content/drive/MyDrive/Colab Notebooks/final_project/data/\"\n",
        "# load json and create model\n",
        "json_file = open(file_path + 'model1.json', 'r')\n",
        "loaded_model_json = json_file.read()\n",
        "json_file.close()\n",
        "model_e2d2 = model_from_json(loaded_model_json)\n",
        "# load weights into new model\n",
        "model_e2d2.load_weights(file_path + \"model_weight1.h5\")\n",
        "print(\"Loaded model from disk\")"
      ],
      "execution_count": 21,
      "outputs": [
        {
          "output_type": "stream",
          "text": [
            "Loaded model from disk\n"
          ],
          "name": "stdout"
        }
      ]
    },
    {
      "cell_type": "code",
      "metadata": {
        "colab": {
          "base_uri": "https://localhost:8080/"
        },
        "id": "VCUwA7dnJ3yD",
        "outputId": "52a45580-08c5-4d29-feff-32c323d99054"
      },
      "source": [
        "opt = tf.keras.optimizers.Adam(learning_rate=0.001)\n",
        "model_e2d2.compile(optimizer=opt, loss='binary_crossentropy', metrics=METRICS)\n",
        "yhat_probs_train = model_e2d2.predict(X_train, verbose=2)\n",
        "yhat_probs_test = model_e2d2.predict(X_test, verbose=2)"
      ],
      "execution_count": 26,
      "outputs": [
        {
          "output_type": "stream",
          "text": [
            "103/103 - 2s\n",
            "29/29 - 0s\n"
          ],
          "name": "stdout"
        }
      ]
    },
    {
      "cell_type": "code",
      "metadata": {
        "colab": {
          "base_uri": "https://localhost:8080/"
        },
        "id": "aDe9Cf3IPF6V",
        "outputId": "32b73e6c-5fe4-46c7-8f27-a314a723df7e"
      },
      "source": [
        "score = model_e2d2.evaluate(X_test, y_test)"
      ],
      "execution_count": 29,
      "outputs": [
        {
          "output_type": "stream",
          "text": [
            "29/29 [==============================] - 0s 4ms/step - loss: 0.5174 - tp: 48.0000 - fp: 207.0000 - tn: 651.0000 - fn: 21.0000 - accuracy: 0.7540 - precision: 0.1882 - recall: 0.6957 - auc: 0.7955\n"
          ],
          "name": "stdout"
        }
      ]
    },
    {
      "cell_type": "code",
      "metadata": {
        "colab": {
          "base_uri": "https://localhost:8080/"
        },
        "id": "EDD7jRiQtwGH",
        "outputId": "59b5ef68-3910-4fd5-eab4-729f43e9f8b6"
      },
      "source": [
        "# predict probabilities for test set\n",
        "yhat_probs_train = model_e2d2.predict(X_train, verbose=2)\n",
        "yhat_probs_test = model_e2d2.predict(X_test, verbose=2)\n",
        "# predict crisp classes for test set"
      ],
      "execution_count": 30,
      "outputs": [
        {
          "output_type": "stream",
          "text": [
            "103/103 - 0s\n",
            "29/29 - 0s\n"
          ],
          "name": "stdout"
        }
      ]
    },
    {
      "cell_type": "code",
      "metadata": {
        "id": "GchJueQma0Ws"
      },
      "source": [
        "yhat_classes_train=[]\n",
        "for item in yhat_probs_train:\n",
        "  if item > 0.5:\n",
        "    yhat_classes_train.append(1)\n",
        "  else:\n",
        "    yhat_classes_train.append(0)"
      ],
      "execution_count": 31,
      "outputs": []
    },
    {
      "cell_type": "code",
      "metadata": {
        "id": "T_P86qITa-45"
      },
      "source": [
        "yhat_classes_test=[]\n",
        "for item in yhat_probs_test:\n",
        "  if item > 0.5:\n",
        "    yhat_classes_test.append(1)\n",
        "  else:\n",
        "    yhat_classes_test.append(0)"
      ],
      "execution_count": 32,
      "outputs": []
    },
    {
      "cell_type": "code",
      "metadata": {
        "id": "mwCRjZXbz2IF"
      },
      "source": [
        ""
      ],
      "execution_count": null,
      "outputs": []
    },
    {
      "cell_type": "code",
      "metadata": {
        "colab": {
          "base_uri": "https://localhost:8080/"
        },
        "id": "BWptjdqgz2YF",
        "outputId": "f9ca0af9-fd80-4639-e1e2-8791753f1b24"
      },
      "source": [
        "# predict probabilities for test set\n",
        "yhat_probs_train = model_e2d2.predict(X_train, verbose=2)\n",
        "yhat_probs_test = model_e2d2.predict(X_test, verbose=2)\n",
        "# predict crisp classes for test set"
      ],
      "execution_count": null,
      "outputs": [
        {
          "output_type": "stream",
          "text": [
            "103/103 - 0s\n",
            "29/29 - 0s\n"
          ],
          "name": "stdout"
        }
      ]
    },
    {
      "cell_type": "code",
      "metadata": {
        "id": "AYCmdXHwz2YJ"
      },
      "source": [
        "yhat_classes_train=[]\n",
        "for item in yhat_probs_train:\n",
        "  if item > 0.5:\n",
        "    yhat_classes_train.append(1)\n",
        "  else:\n",
        "    yhat_classes_train.append(0)"
      ],
      "execution_count": null,
      "outputs": []
    },
    {
      "cell_type": "code",
      "metadata": {
        "id": "f5fDT7Zyz2YK"
      },
      "source": [
        "yhat_classes_test=[]\n",
        "for item in yhat_probs_test:\n",
        "  if item > 0.5:\n",
        "    yhat_classes_test.append(1)\n",
        "  else:\n",
        "    yhat_classes_test.append(0)"
      ],
      "execution_count": null,
      "outputs": []
    },
    {
      "cell_type": "code",
      "metadata": {
        "id": "WeCb9GUFbcjX"
      },
      "source": [
        "# Determining the false postive and true postive rate using the roc_curve\n",
        "from sklearn.metrics import roc_curve\n",
        "y_pred_keras = model_e2d2.predict(X_test).ravel()\n",
        "fpr_keras, tpr_keras, thresholds_keras = roc_curve(y_test.reshape(y_test.shape[0]), y_pred_keras)"
      ],
      "execution_count": 33,
      "outputs": []
    },
    {
      "cell_type": "code",
      "metadata": {
        "id": "mjMyyH4U4niu"
      },
      "source": [
        ""
      ],
      "execution_count": null,
      "outputs": []
    },
    {
      "cell_type": "markdown",
      "metadata": {
        "id": "o9UR6vPS4pA9"
      },
      "source": [
        "<b>Plotting Confusion matrix </b>"
      ]
    },
    {
      "cell_type": "code",
      "metadata": {
        "id": "rHvs3mbGo9zF"
      },
      "source": [
        "import seaborn as sns\n",
        "cf_matrix = confusion_matrix(y_test.reshape(y_test.shape[0]), yhat_classes_test)"
      ],
      "execution_count": 50,
      "outputs": []
    },
    {
      "cell_type": "code",
      "metadata": {
        "colab": {
          "base_uri": "https://localhost:8080/",
          "height": 438
        },
        "id": "LtQ4Ce6oskZ-",
        "outputId": "e47d93bb-c712-4288-9c93-c0cb23468679"
      },
      "source": [
        "group_names = ['True Neg','False Pos','False Neg','True Pos']\n",
        "group_counts = [\"{0:0.0f}\".format(value) for value in\n",
        "                cf_matrix.flatten()]\n",
        "group_percentages = [\"{0:.2%}\".format(value) for value in\n",
        "                     cf_matrix.flatten()/np.sum(cf_matrix)]\n",
        "labels = [f\"{v1}\\n{v2}\\n{v3}\" for v1, v2, v3 in\n",
        "          zip(group_names,group_counts,group_percentages)]\n",
        "labels = np.asarray(labels).reshape(2,2)\n",
        "figure(figsize=(8, 6), dpi=80)\n",
        "sns.heatmap(cf_matrix, annot=labels, fmt='', cmap='Blues')"
      ],
      "execution_count": 51,
      "outputs": [
        {
          "output_type": "execute_result",
          "data": {
            "text/plain": [
              "<matplotlib.axes._subplots.AxesSubplot at 0x7fb61e4d4dd0>"
            ]
          },
          "metadata": {
            "tags": []
          },
          "execution_count": 51
        },
        {
          "output_type": "display_data",
          "data": {
            "image/png": "[encoded data removed]",
            "text/plain": [
              "<Figure size 640x480 with 2 Axes>"
            ]
          },
          "metadata": {
            "tags": [],
            "needs_background": "light"
          }
        }
      ]
    },
    {
      "cell_type": "code",
      "metadata": {
        "colab": {
          "base_uri": "https://localhost:8080/"
        },
        "id": "MOVBJIlv0Ied",
        "outputId": "0b903b59-8437-4adc-b8ff-6f1f9ee01e1f"
      },
      "source": [
        "pip install mplcursors"
      ],
      "execution_count": 35,
      "outputs": [
        {
          "output_type": "stream",
          "text": [
            "Collecting mplcursors\n",
            "\u001b[?25l  Downloading https://files.pythonhosted.org/packages/89/af/01c4bd4c6bf75bc1692b8b4181e71cf98197bd3e4750b9a0d9f584507d92/mplcursors-0.4.tar.gz (86kB)\n",
            "\r\u001b[K     |███▊                            | 10kB 13.8MB/s eta 0:00:01\r\u001b[K     |███████▌                        | 20kB 19.2MB/s eta 0:00:01\r\u001b[K     |███████████▎                    | 30kB 10.9MB/s eta 0:00:01\r\u001b[K     |███████████████                 | 40kB 8.1MB/s eta 0:00:01\r\u001b[K     |██████████████████▉             | 51kB 5.2MB/s eta 0:00:01\r\u001b[K     |██████████████████████▋         | 61kB 5.4MB/s eta 0:00:01\r\u001b[K     |██████████████████████████▍     | 71kB 5.8MB/s eta 0:00:01\r\u001b[K     |██████████████████████████████▏ | 81kB 6.4MB/s eta 0:00:01\r\u001b[K     |████████████████████████████████| 92kB 3.8MB/s \n",
            "\u001b[?25hRequirement already satisfied: matplotlib>=3.1 in /usr/local/lib/python3.7/dist-packages (from mplcursors) (3.2.2)\n",
            "Requirement already satisfied: python-dateutil>=2.1 in /usr/local/lib/python3.7/dist-packages (from matplotlib>=3.1->mplcursors) (2.8.1)\n",
            "Requirement already satisfied: pyparsing!=2.0.4,!=2.1.2,!=2.1.6,>=2.0.1 in /usr/local/lib/python3.7/dist-packages (from matplotlib>=3.1->mplcursors) (2.4.7)\n",
            "Requirement already satisfied: cycler>=0.10 in /usr/local/lib/python3.7/dist-packages (from matplotlib>=3.1->mplcursors) (0.10.0)\n",
            "Requirement already satisfied: kiwisolver>=1.0.1 in /usr/local/lib/python3.7/dist-packages (from matplotlib>=3.1->mplcursors) (1.3.1)\n",
            "Requirement already satisfied: numpy>=1.11 in /usr/local/lib/python3.7/dist-packages (from matplotlib>=3.1->mplcursors) (1.19.5)\n",
            "Requirement already satisfied: six>=1.5 in /usr/local/lib/python3.7/dist-packages (from python-dateutil>=2.1->matplotlib>=3.1->mplcursors) (1.15.0)\n",
            "Building wheels for collected packages: mplcursors\n",
            "  Building wheel for mplcursors (setup.py) ... \u001b[?25l\u001b[?25hdone\n",
            "  Created wheel for mplcursors: filename=mplcursors-0.4-cp37-none-any.whl size=19969 sha256=a6eaac4de085032bb165d693faff4c8bb165f99eeaf7d2a65c6fbac36592d853\n",
            "  Stored in directory: /root/.cache/pip/wheels/d5/ad/ce/d6113f8e662eb231215cbd3d853d09f772d3f0a28fcc2eae25\n",
            "Successfully built mplcursors\n",
            "Installing collected packages: mplcursors\n",
            "Successfully installed mplcursors-0.4\n"
          ],
          "name": "stdout"
        }
      ]
    },
    {
      "cell_type": "markdown",
      "metadata": {
        "id": "y3tueu2v04ij"
      },
      "source": [
        "<b>Plotting the ROC-Curve</b>"
      ]
    },
    {
      "cell_type": "code",
      "metadata": {
        "colab": {
          "base_uri": "https://localhost:8080/",
          "height": 484
        },
        "id": "ZzUaOccnopMH",
        "outputId": "015449dc-f155-4659-936c-52529c59837a"
      },
      "source": [
        "from matplotlib.pyplot import figure\n",
        "import mplcursors\n",
        "font = {'family' : 'normal',\n",
        "        'weight' : 'bold',\n",
        "        'size'   : 16}\n",
        "\n",
        "plt.rc('font', **font)\n",
        "figure(figsize=(8, 6), dpi=80)\n",
        "plt.xlim(0, 1, )\n",
        "plt.ylim(0, 1)\n",
        "plt.plot([0, 1], [0, 1], linestyle='--', label='No Skill')\n",
        "plt.plot(fpr_keras,tpr_keras, marker='.', label='Logistic')\n",
        "mplcursors.cursor(hover=True)\n",
        "# axis labels\n",
        "plt.xlabel('False Positive Rate')\n",
        "plt.ylabel('True Positive Rate')\n",
        "# show the legend\n",
        "plt.legend()\n",
        "# show the plot\n",
        "plt.show()"
      ],
      "execution_count": 36,
      "outputs": [
        {
          "output_type": "stream",
          "text": [
            "findfont: Font family ['normal'] not found. Falling back to DejaVu Sans.\n",
            "findfont: Font family ['normal'] not found. Falling back to DejaVu Sans.\n"
          ],
          "name": "stderr"
        },
        {
          "output_type": "display_data",
          "data": {
            "image/png": "[encoded data removed]",
            "text/plain": [
              "<Figure size 640x480 with 1 Axes>"
            ]
          },
          "metadata": {
            "tags": [],
            "needs_background": "light"
          }
        }
      ]
    },
    {
      "cell_type": "markdown",
      "metadata": {
        "id": "SsuusR7b1BmO"
      },
      "source": [
        "<b>Ploting the PR-Curve"
      ]
    },
    {
      "cell_type": "code",
      "metadata": {
        "id": "2DN1oWGiw_86"
      },
      "source": [
        "precision, recall,threshold = precision_recall_curve(y_test.reshape(y_test.shape[0]), model_e2d2.predict(X_test).reshape(-1,1))"
      ],
      "execution_count": 46,
      "outputs": []
    },
    {
      "cell_type": "code",
      "metadata": {
        "colab": {
          "base_uri": "https://localhost:8080/"
        },
        "id": "vQ-_F_Ux0QSP",
        "outputId": "509c55aa-fc86-4ca1-a15a-07bb899814ca"
      },
      "source": [
        "auc(lr_recall, lr_precision)"
      ],
      "execution_count": 45,
      "outputs": [
        {
          "output_type": "execute_result",
          "data": {
            "text/plain": [
              "0.3337578872880317"
            ]
          },
          "metadata": {
            "tags": []
          },
          "execution_count": 45
        }
      ]
    },
    {
      "cell_type": "code",
      "metadata": {
        "colab": {
          "base_uri": "https://localhost:8080/",
          "height": 517
        },
        "id": "Jh_lrorH2TS6",
        "outputId": "68db3b3e-3b4b-4c1a-df2f-97175a1ea560"
      },
      "source": [
        "import plotly.express as px\n",
        "import plotly.graph_objects as go\n",
        "# from matplotlib.pyplot import figure\n",
        "fig = go.Figure()\n",
        "# fig=px.line(x=recall[0:858], y=precision[0:858], hover_name=threshold, width=500, height=500)\n",
        "\n",
        "# fig1.add_trace(go.Scatter(\n",
        "#     x=[0, 1],\n",
        "#     y=[0, 0]\n",
        "# ))\n",
        "fig.add_trace(go.Scatter( x=recall[0:858], y=precision[0:858], name='PR', hovertext=threshold))\n",
        "fig.add_trace(go.Scatter(x=[0, 1], y=[0, 0], mode='lines',  name='No Skill'))\n",
        "\n",
        "fig.update_layout(\n",
        "    autosize=False,\n",
        "    width=500,\n",
        "    height=500,\n",
        "    yaxis=dict(\n",
        "        title_text=\"Precision\"\n",
        "    )\n",
        ")\n",
        "\n",
        "fig.update_layout(\n",
        "    autosize=False,\n",
        "    width=500,\n",
        "    height=500,\n",
        "    xaxis=dict(\n",
        "        title_text=\"Recall\"\n",
        "    )\n",
        ")\n",
        "fig.show()"
      ],
      "execution_count": 47,
      "outputs": [
        {
          "output_type": "display_data",
          "data": {
            "text/html": [
              "<html>\n",
              "<head><meta charset=\"utf-8\" /></head>\n",
              "<body>\n",
              "    <div>\n",
              "            <script src=\"https://cdnjs.cloudflare.com/ajax/libs/mathjax/2.7.5/MathJax.js?config=TeX-AMS-MML_SVG\"></script><script type=\"text/javascript\">if (window.MathJax) {MathJax.Hub.Config({SVG: {font: \"STIX-Web\"}});}</script>\n",
              "                <script type=\"text/javascript\">window.PlotlyConfig = {MathJaxConfig: 'local'};</script>\n",
              "        <script src=\"https://cdn.plot.ly/plotly-latest.min.js\"></script>    \n",
              "            <div id=\"f883f554-8e37-4d26-be4c-93af0e520707\" class=\"plotly-graph-div\" style=\"height:500px; width:500px;\"></div>\n",
              "            <script type=\"text/javascript\">\n",
              "                \n",
              "                    window.PLOTLYENV=window.PLOTLYENV || {};\n",
              "                    \n",
              "                if (document.getElementById(\"f883f554-8e37-4d26-be4c-93af0e520707\")) {\n",
              "                    Plotly.newPlot(\n",
              "                        'f883f554-8e37-4d26-be4c-93af0e520707',\n",
              "                        [{\"hovertext\": [0.02111905813217163, 0.022342950105667114, 0.022665828466415405, 0.023197025060653687, 0.024391919374465942, 0.024582862854003906, 0.02497267723083496, 0.02509176731109619, 0.025622397661209106, 0.02608633041381836, 0.02665567398071289, 0.02667778730392456, 0.02674734592437744, 0.026903241872787476, 0.02692362666130066, 0.027157992124557495, 0.02835226058959961, 0.02886950969696045, 0.029430419206619263, 0.03051617741584778, 0.030860930681228638, 0.031175315380096436, 0.03145262598991394, 0.03168672323226929, 0.032152384519577026, 0.03215476870536804, 0.032156556844711304, 0.03215685486793518, 0.03216323256492615, 0.03218105435371399, 0.0326501727104187, 0.03297188878059387, 0.033041179180145264, 0.03356575965881348, 0.03368639945983887, 0.034757792949676514, 0.03481456637382507, 0.03499212861061096, 0.03559616208076477, 0.03657194972038269, 0.0370216965675354, 0.03820028901100159, 0.03846168518066406, 0.038794249296188354, 0.03969079256057739, 0.03988024592399597, 0.03994321823120117, 0.04077345132827759, 0.0408971905708313, 0.04107829928398132, 0.041101276874542236, 0.04114261269569397, 0.04114285111427307, 0.04151260852813721, 0.04178887605667114, 0.042036622762680054, 0.04347005486488342, 0.04380905628204346, 0.04525688290596008, 0.045376360416412354, 0.045482635498046875, 0.046361178159713745, 0.046444326639175415, 0.046557724475860596, 0.0471491813659668, 0.04717245697975159, 0.04857313632965088, 0.04913759231567383, 0.04964163899421692, 0.05186834931373596, 0.052160173654556274, 0.05216619372367859, 0.05217963457107544, 0.05223441123962402, 0.05233502388000488, 0.05285802483558655, 0.05327460169792175, 0.05366697907447815, 0.054629385471343994, 0.05474519729614258, 0.055717021226882935, 0.05595821142196655, 0.05618587136268616, 0.056983619928359985, 0.057130903005599976, 0.05714210867881775, 0.057668209075927734, 0.05871617794036865, 0.059795767068862915, 0.05988457798957825, 0.05999299883842468, 0.06072428822517395, 0.0607876181602478, 0.06172066926956177, 0.06175971031188965, 0.06218826770782471, 0.06230941414833069, 0.06393224000930786, 0.06502190232276917, 0.065297931432724, 0.06537604331970215, 0.06554365158081055, 0.06555113196372986, 0.06714180111885071, 0.06720298528671265, 0.06745624542236328, 0.06776103377342224, 0.06923747062683105, 0.07064047455787659, 0.07076141238212585, 0.07150962948799133, 0.07156184315681458, 0.07178789377212524, 0.07187673449516296, 0.07224616408348083, 0.07235366106033325, 0.07254043221473694, 0.07264924049377441, 0.07307499647140503, 0.07336926460266113, 0.07348752021789551, 0.0737907886505127, 0.07439133524894714, 0.07539302110671997, 0.07598653435707092, 0.07651564478874207, 0.07708525657653809, 0.07715305685997009, 0.07759237289428711, 0.07796207070350647, 0.0779964029788971, 0.07804197072982788, 0.0781036913394928, 0.08135846257209778, 0.08233845233917236, 0.08247441053390503, 0.08292964100837708, 0.08306482434272766, 0.08327996730804443, 0.08329352736473083, 0.0861164927482605, 0.08636793494224548, 0.08765390515327454, 0.08786466717720032, 0.08801820874214172, 0.08923062682151794, 0.0896267294883728, 0.09037607908248901, 0.09047263860702515, 0.090780109167099, 0.09107276797294617, 0.09154129028320312, 0.09327501058578491, 0.09345415234565735, 0.093991219997406, 0.0966024100780487, 0.09709241986274719, 0.09709379076957703, 0.09798824787139893, 0.09946849942207336, 0.10044503211975098, 0.1006956398487091, 0.10142549872398376, 0.10316181182861328, 0.10552608966827393, 0.10722854733467102, 0.10794433951377869, 0.1087489128112793, 0.10891285538673401, 0.10908368229866028, 0.10958176851272583, 0.1111016571521759, 0.11201566457748413, 0.11290743947029114, 0.11355510354042053, 0.11367988586425781, 0.11382555961608887, 0.11389517784118652, 0.11508899927139282, 0.11588782072067261, 0.11649298667907715, 0.11665982007980347, 0.11716839671134949, 0.11750957369804382, 0.11809158325195312, 0.11847785115242004, 0.12037515640258789, 0.12039771676063538, 0.1223723292350769, 0.12267592549324036, 0.12395808100700378, 0.12407007813453674, 0.12443670630455017, 0.12489381432533264, 0.1253061592578888, 0.12549233436584473, 0.12557750940322876, 0.1259867548942566, 0.1261322796344757, 0.12835922837257385, 0.1326555609703064, 0.1340709626674652, 0.1344706118106842, 0.135984867811203, 0.1362493336200714, 0.1369566023349762, 0.13851991295814514, 0.13859432935714722, 0.13881760835647583, 0.13892313838005066, 0.14044645428657532, 0.14058473706245422, 0.14102405309677124, 0.1410903036594391, 0.14328303933143616, 0.143579363822937, 0.14400926232337952, 0.14466920495033264, 0.14574465155601501, 0.1463773250579834, 0.14732956886291504, 0.1483057141304016, 0.14848607778549194, 0.1486307978630066, 0.1487489640712738, 0.14888891577720642, 0.14927858114242554, 0.14971721172332764, 0.14978095889091492, 0.150048166513443, 0.1517527997493744, 0.15333116054534912, 0.15369349718093872, 0.15664541721343994, 0.15905937552452087, 0.15939205884933472, 0.1607820987701416, 0.16085031628608704, 0.16144585609436035, 0.1634952425956726, 0.16393595933914185, 0.16453850269317627, 0.16468709707260132, 0.16494157910346985, 0.16642016172409058, 0.16660165786743164, 0.16671276092529297, 0.16681545972824097, 0.16713514924049377, 0.16784846782684326, 0.16796782612800598, 0.16883111000061035, 0.16927292943000793, 0.17002829909324646, 0.1700848937034607, 0.17136475443840027, 0.17239132523536682, 0.17279216647148132, 0.17415380477905273, 0.17419975996017456, 0.17446303367614746, 0.17542541027069092, 0.17559367418289185, 0.17565396428108215, 0.17684516310691833, 0.17789649963378906, 0.17802423238754272, 0.1787799894809723, 0.17921456694602966, 0.179522305727005, 0.17956674098968506, 0.18029460310935974, 0.180867999792099, 0.18140506744384766, 0.18198734521865845, 0.18280363082885742, 0.1830955147743225, 0.18386852741241455, 0.18425455689430237, 0.18515506386756897, 0.1856963038444519, 0.18674153089523315, 0.18757730722427368, 0.18786418437957764, 0.18952029943466187, 0.1912977695465088, 0.19185030460357666, 0.19226911664009094, 0.19259753823280334, 0.19329622387886047, 0.1952209174633026, 0.19528383016586304, 0.19614291191101074, 0.19641080498695374, 0.1971428096294403, 0.19818508625030518, 0.1983274519443512, 0.19946694374084473, 0.19972902536392212, 0.20023804903030396, 0.20153295993804932, 0.20213261246681213, 0.2035152018070221, 0.20534732937812805, 0.20689833164215088, 0.20829486846923828, 0.20842164754867554, 0.2090596854686737, 0.21076926589012146, 0.2112959325313568, 0.21149784326553345, 0.21184507012367249, 0.21184542775154114, 0.21469059586524963, 0.21827295422554016, 0.22047176957130432, 0.2237282693386078, 0.2249201536178589, 0.2251080572605133, 0.22575896978378296, 0.22836586833000183, 0.23099228739738464, 0.23271974921226501, 0.233612060546875, 0.23482653498649597, 0.23492100834846497, 0.23818102478981018, 0.23864459991455078, 0.24034681916236877, 0.24471041560173035, 0.24580368399620056, 0.246271014213562, 0.24721881747245789, 0.247695654630661, 0.24969568848609924, 0.25066494941711426, 0.2519529461860657, 0.2522444725036621, 0.2538294196128845, 0.2555566430091858, 0.2616737484931946, 0.26194268465042114, 0.26292330026626587, 0.2630327343940735, 0.263653039932251, 0.2640968859195709, 0.26474446058273315, 0.265062153339386, 0.2653014659881592, 0.26625072956085205, 0.26635873317718506, 0.26738256216049194, 0.2690463662147522, 0.26928332448005676, 0.2695489525794983, 0.26981279253959656, 0.27004843950271606, 0.2728804349899292, 0.2731958031654358, 0.2733887732028961, 0.2734660804271698, 0.2735182046890259, 0.27388060092926025, 0.274435818195343, 0.2744767367839813, 0.2750776410102844, 0.2754215598106384, 0.27579379081726074, 0.2762538194656372, 0.2766886055469513, 0.27893492579460144, 0.2797079384326935, 0.279973566532135, 0.2808328866958618, 0.28110355138778687, 0.2814479172229767, 0.2815282344818115, 0.28203684091567993, 0.2824156880378723, 0.28317874670028687, 0.2846148908138275, 0.2850494086742401, 0.2850661277770996, 0.28823310136795044, 0.28968381881713867, 0.29088902473449707, 0.2938595414161682, 0.2970026135444641, 0.29785335063934326, 0.2980455160140991, 0.2989943027496338, 0.3011930584907532, 0.3021159768104553, 0.30381548404693604, 0.3073432445526123, 0.3078182339668274, 0.3079700469970703, 0.30884850025177, 0.3106080889701843, 0.31428518891334534, 0.31480032205581665, 0.31504952907562256, 0.31548207998275757, 0.31577616930007935, 0.31632691621780396, 0.31725776195526123, 0.3172657787799835, 0.31801319122314453, 0.3182469606399536, 0.3199555575847626, 0.3205699622631073, 0.32106703519821167, 0.3214138150215149, 0.32148754596710205, 0.32157570123672485, 0.3229517936706543, 0.32295405864715576, 0.3231534957885742, 0.3278195858001709, 0.3287861943244934, 0.329448401927948, 0.3305184841156006, 0.3307521641254425, 0.3311394453048706, 0.33136796951293945, 0.3319724202156067, 0.33197981119155884, 0.33327531814575195, 0.3341293931007385, 0.33616477251052856, 0.33725523948669434, 0.33874309062957764, 0.3397441506385803, 0.3401697874069214, 0.3402206301689148, 0.3413592278957367, 0.343233197927475, 0.3432563841342926, 0.34476274251937866, 0.34528493881225586, 0.34528669714927673, 0.34541332721710205, 0.3459119498729706, 0.3464117646217346, 0.34676194190979004, 0.3468093276023865, 0.3478894829750061, 0.3479529619216919, 0.34801819920539856, 0.34848517179489136, 0.3487440347671509, 0.3490324318408966, 0.3493242859840393, 0.350222110748291, 0.35034069418907166, 0.3509019911289215, 0.35091662406921387, 0.3512480854988098, 0.3516918420791626, 0.3517281413078308, 0.3519796133041382, 0.3521774411201477, 0.35225847363471985, 0.3526371717453003, 0.3529127836227417, 0.3529781699180603, 0.3530459403991699, 0.3536667823791504, 0.3543336093425751, 0.3543580174446106, 0.35506680607795715, 0.35524988174438477, 0.35563981533050537, 0.357110857963562, 0.3575226068496704, 0.35771307349205017, 0.3584589958190918, 0.35930943489074707, 0.3596245050430298, 0.3618771433830261, 0.36512747406959534, 0.3658410310745239, 0.36656612157821655, 0.3668481111526489, 0.36921507120132446, 0.36977851390838623, 0.37139859795570374, 0.37298864126205444, 0.3746057152748108, 0.3748791813850403, 0.37519335746765137, 0.3754728436470032, 0.3763151168823242, 0.37753909826278687, 0.377901554107666, 0.37876999378204346, 0.37886282801628113, 0.3807409703731537, 0.382259726524353, 0.3832399845123291, 0.38463422656059265, 0.38943004608154297, 0.39116328954696655, 0.391973078250885, 0.39240819215774536, 0.39378634095191956, 0.3940274715423584, 0.39443451166152954, 0.39452069997787476, 0.39543524384498596, 0.395913302898407, 0.3959575295448303, 0.3984406888484955, 0.3989982604980469, 0.40024304389953613, 0.40556877851486206, 0.4068838953971863, 0.4086591303348541, 0.41008222103118896, 0.4127781093120575, 0.41483184695243835, 0.41685521602630615, 0.41698163747787476, 0.4170369505882263, 0.4196275472640991, 0.42204636335372925, 0.42436665296554565, 0.4270033836364746, 0.42907923460006714, 0.4312242567539215, 0.43181413412094116, 0.4329071640968323, 0.43300551176071167, 0.4331001043319702, 0.4334908723831177, 0.43363797664642334, 0.4338293969631195, 0.43392959237098694, 0.4350794553756714, 0.43654635548591614, 0.4370741844177246, 0.43981894850730896, 0.44329649209976196, 0.4446820616722107, 0.44790157675743103, 0.44885486364364624, 0.4488860070705414, 0.44911473989486694, 0.4495880603790283, 0.44987696409225464, 0.45037075877189636, 0.4508187770843506, 0.4517364203929901, 0.45286357402801514, 0.45439526438713074, 0.4551120400428772, 0.455467164516449, 0.4562958776950836, 0.45747825503349304, 0.4591124355792999, 0.45973289012908936, 0.4597817361354828, 0.45987483859062195, 0.46063095331192017, 0.4614087641239166, 0.46229660511016846, 0.4631975591182709, 0.46340569853782654, 0.4651646018028259, 0.46542811393737793, 0.46758314967155457, 0.46833401918411255, 0.4695408344268799, 0.47008565068244934, 0.4733324646949768, 0.47394201159477234, 0.4745156168937683, 0.4745287299156189, 0.4755110740661621, 0.47810474038124084, 0.4785321056842804, 0.47961509227752686, 0.47967633605003357, 0.4798060953617096, 0.4805147051811218, 0.48280012607574463, 0.4846813380718231, 0.4861585795879364, 0.48744454979896545, 0.4881470799446106, 0.48848631978034973, 0.48892197012901306, 0.4910410940647125, 0.49192485213279724, 0.4922441840171814, 0.49252238869667053, 0.49406060576438904, 0.49504682421684265, 0.4950578212738037, 0.4956052601337433, 0.49608612060546875, 0.4992223083972931, 0.49998965859413147, 0.5029293298721313, 0.5036384463310242, 0.5044859051704407, 0.5052749514579773, 0.5062405467033386, 0.5068497061729431, 0.5079691410064697, 0.5097625255584717, 0.5104770660400391, 0.510599672794342, 0.5117324590682983, 0.5129135847091675, 0.5143736004829407, 0.5165255665779114, 0.5170319080352783, 0.5182836651802063, 0.5191333889961243, 0.5194538235664368, 0.5196110010147095, 0.5199273228645325, 0.5202814340591431, 0.5209301114082336, 0.5211799144744873, 0.5217253565788269, 0.5226438045501709, 0.5240922570228577, 0.5243085622787476, 0.5244377255439758, 0.5244774222373962, 0.5244811773300171, 0.5260871648788452, 0.526708722114563, 0.5273232460021973, 0.5301113128662109, 0.5303102731704712, 0.530664324760437, 0.5312008261680603, 0.5325579047203064, 0.5327608585357666, 0.5350987911224365, 0.5355497002601624, 0.5358576774597168, 0.5359821915626526, 0.5361346006393433, 0.5387496948242188, 0.5388997793197632, 0.5398843884468079, 0.5408470630645752, 0.5421855449676514, 0.5423246622085571, 0.5433886647224426, 0.5448513627052307, 0.5455495119094849, 0.547158420085907, 0.5471858382225037, 0.548646092414856, 0.5492841601371765, 0.5501385927200317, 0.5522918701171875, 0.5526830554008484, 0.5539080500602722, 0.5547496676445007, 0.5555133819580078, 0.5562320351600647, 0.5564660429954529, 0.5576974749565125, 0.5595679879188538, 0.5617536306381226, 0.5629982352256775, 0.5636506080627441, 0.5650602579116821, 0.5659533143043518, 0.5666192770004272, 0.5686212778091431, 0.570527195930481, 0.5720957517623901, 0.5723402500152588, 0.5727527141571045, 0.5749065279960632, 0.5752934217453003, 0.5767835974693298, 0.5769419074058533, 0.5769669413566589, 0.5813419818878174, 0.5817430019378662, 0.5818686485290527, 0.5823202729225159, 0.5831711292266846, 0.583284854888916, 0.5844349265098572, 0.5859520435333252, 0.5878183841705322, 0.5901086330413818, 0.5917356014251709, 0.5925561189651489, 0.5929474830627441, 0.5953774452209473, 0.5963569283485413, 0.6027735471725464, 0.6042308807373047, 0.609460175037384, 0.6100318431854248, 0.6104682683944702, 0.6118975281715393, 0.6142013072967529, 0.6179470419883728, 0.6207830905914307, 0.6234444379806519, 0.6240512728691101, 0.624184250831604, 0.625305712223053, 0.6256308555603027, 0.6262507438659668, 0.6269264817237854, 0.6286699175834656, 0.6301836967468262, 0.6374194622039795, 0.6378859281539917, 0.6385894417762756, 0.6433625817298889, 0.6437715888023376, 0.6473370790481567, 0.6478896141052246, 0.6487816572189331, 0.6523783206939697, 0.6546927690505981, 0.6587740182876587, 0.6600633859634399, 0.664530336856842, 0.6686459183692932, 0.6702808141708374, 0.6737626791000366, 0.6743495464324951, 0.680658757686615, 0.6833791732788086, 0.6847772598266602, 0.6856445074081421, 0.6859676241874695, 0.6914513111114502, 0.6922944784164429, 0.6967050433158875, 0.6981392502784729, 0.699350118637085, 0.7008459568023682, 0.705260157585144, 0.7096333503723145, 0.7175098657608032, 0.7183518409729004, 0.7209479808807373, 0.7245835065841675, 0.7316425442695618, 0.7322182059288025, 0.732362687587738, 0.7394843697547913, 0.7398147583007812, 0.7458659410476685, 0.7492291927337646, 0.7505536079406738, 0.7539343237876892, 0.7544831037521362, 0.7564929723739624, 0.7619699239730835, 0.7630798816680908, 0.7646448612213135, 0.7737581729888916, 0.775725245475769, 0.776534378528595, 0.7772243022918701, 0.777569055557251, 0.7798821330070496, 0.7816487550735474, 0.7830755710601807, 0.789348304271698, 0.7917293310165405, 0.7987081408500671, 0.8064647912979126, 0.8168342709541321, 0.8175312280654907, 0.8204982876777649, 0.8320451974868774, 0.8375494480133057, 0.8417013883590698, 0.8432062864303589, 0.8451315760612488, 0.8455086946487427, 0.8480335474014282, 0.8534359931945801, 0.8547732830047607, 0.8553584218025208, 0.8556654453277588, 0.8569180965423584, 0.8659490346908569, 0.8667197823524475, 0.872593879699707, 0.8732641935348511, 0.8810932636260986, 0.8819886445999146, 0.8842294812202454, 0.884491503238678, 0.8869980573654175, 0.8911142349243164, 0.8968336582183838, 0.8993479013442993, 0.9008092880249023, 0.9030871391296387, 0.906328558921814, 0.9088677763938904, 0.9105727672576904, 0.9110085964202881, 0.9159599542617798, 0.9192930459976196, 0.9213566780090332, 0.9226477146148682, 0.9243183135986328, 0.9290972948074341, 0.9300004243850708, 0.9322634935379028, 0.9329209327697754, 0.9337674379348755, 0.9360825419425964, 0.9368293881416321, 0.937863826751709, 0.9409425258636475, 0.9409825801849365, 0.9419139623641968, 0.9419468641281128, 0.9445217847824097, 0.9462882876396179, 0.9483685493469238, 0.9486594200134277, 0.9487255811691284, 0.9499809741973877, 0.9505859613418579, 0.9552984833717346, 0.9576045274734497, 0.9597949981689453, 0.9600220918655396, 0.9610903859138489, 0.9616550207138062, 0.9616637229919434, 0.9618313312530518, 0.9631990194320679, 0.9645999670028687, 0.9668909907341003, 0.9670271873474121, 0.96738600730896, 0.9683318138122559, 0.9696671366691589, 0.9710431098937988, 0.9711117148399353, 0.973499596118927, 0.9739214181900024, 0.9746742844581604, 0.9747585654258728, 0.9777355790138245], \"name\": \"PR\", \"type\": \"scatter\", \"x\": [1.0, 0.9855072463768116, 0.9855072463768116, 0.9855072463768116, 0.9855072463768116, 0.9855072463768116, 0.9855072463768116, 0.9855072463768116, 0.9855072463768116, 0.9855072463768116, 0.9855072463768116, 0.9855072463768116, 0.9855072463768116, 0.9855072463768116, 0.9855072463768116, 0.9855072463768116, 0.9855072463768116, 0.9855072463768116, 0.9710144927536232, 0.9710144927536232, 0.9710144927536232, 0.9710144927536232, 0.9710144927536232, 0.9710144927536232, 0.9710144927536232, 0.9710144927536232, 0.9710144927536232, 0.9710144927536232, 0.9710144927536232, 0.9710144927536232, 0.9710144927536232, 0.9710144927536232, 0.9710144927536232, 0.9710144927536232, 0.9710144927536232, 0.9710144927536232, 0.9710144927536232, 0.9710144927536232, 0.9710144927536232, 0.9710144927536232, 0.9710144927536232, 0.9710144927536232, 0.9710144927536232, 0.9710144927536232, 0.9710144927536232, 0.9710144927536232, 0.9710144927536232, 0.9710144927536232, 0.9710144927536232, 0.9710144927536232, 0.9710144927536232, 0.9710144927536232, 0.9710144927536232, 0.9710144927536232, 0.9710144927536232, 0.9710144927536232, 0.9710144927536232, 0.9710144927536232, 0.9710144927536232, 0.9710144927536232, 0.9710144927536232, 0.9710144927536232, 0.9710144927536232, 0.9565217391304348, 0.9565217391304348, 0.9565217391304348, 0.9565217391304348, 0.9565217391304348, 0.9565217391304348, 0.9565217391304348, 0.9565217391304348, 0.9565217391304348, 0.9565217391304348, 0.9565217391304348, 0.9565217391304348, 0.9565217391304348, 0.9565217391304348, 0.9565217391304348, 0.9565217391304348, 0.9565217391304348, 0.9565217391304348, 0.9565217391304348, 0.9565217391304348, 0.9565217391304348, 0.9565217391304348, 0.9565217391304348, 0.9565217391304348, 0.9565217391304348, 0.9565217391304348, 0.9565217391304348, 0.9565217391304348, 0.9565217391304348, 0.9565217391304348, 0.9565217391304348, 0.9565217391304348, 0.9565217391304348, 0.9565217391304348, 0.9565217391304348, 0.9565217391304348, 0.9565217391304348, 0.9565217391304348, 0.9565217391304348, 0.9565217391304348, 0.9565217391304348, 0.9565217391304348, 0.9565217391304348, 0.9565217391304348, 0.9565217391304348, 0.9565217391304348, 0.9565217391304348, 0.9565217391304348, 0.9565217391304348, 0.9565217391304348, 0.9565217391304348, 0.9565217391304348, 0.9565217391304348, 0.9565217391304348, 0.9565217391304348, 0.9565217391304348, 0.9565217391304348, 0.9565217391304348, 0.9565217391304348, 0.9565217391304348, 0.9565217391304348, 0.9565217391304348, 0.9565217391304348, 0.9565217391304348, 0.9565217391304348, 0.9565217391304348, 0.9565217391304348, 0.9565217391304348, 0.9565217391304348, 0.9565217391304348, 0.9565217391304348, 0.9565217391304348, 0.9565217391304348, 0.9565217391304348, 0.9565217391304348, 0.9565217391304348, 0.9565217391304348, 0.9565217391304348, 0.9565217391304348, 0.9565217391304348, 0.9565217391304348, 0.9565217391304348, 0.9565217391304348, 0.9565217391304348, 0.9565217391304348, 0.9565217391304348, 0.9565217391304348, 0.9565217391304348, 0.9565217391304348, 0.9565217391304348, 0.9565217391304348, 0.9565217391304348, 0.9565217391304348, 0.9565217391304348, 0.9565217391304348, 0.9565217391304348, 0.9565217391304348, 0.9565217391304348, 0.9565217391304348, 0.9565217391304348, 0.9565217391304348, 0.9565217391304348, 0.9565217391304348, 0.9565217391304348, 0.9420289855072463, 0.9420289855072463, 0.9420289855072463, 0.9420289855072463, 0.9420289855072463, 0.9420289855072463, 0.9420289855072463, 0.9420289855072463, 0.9420289855072463, 0.9420289855072463, 0.9420289855072463, 0.9420289855072463, 0.9420289855072463, 0.9420289855072463, 0.9420289855072463, 0.9420289855072463, 0.9420289855072463, 0.9420289855072463, 0.9420289855072463, 0.9420289855072463, 0.9420289855072463, 0.9420289855072463, 0.9420289855072463, 0.9420289855072463, 0.9420289855072463, 0.9420289855072463, 0.9420289855072463, 0.9420289855072463, 0.9420289855072463, 0.9420289855072463, 0.9420289855072463, 0.9420289855072463, 0.927536231884058, 0.927536231884058, 0.927536231884058, 0.927536231884058, 0.927536231884058, 0.927536231884058, 0.927536231884058, 0.927536231884058, 0.927536231884058, 0.927536231884058, 0.927536231884058, 0.927536231884058, 0.927536231884058, 0.927536231884058, 0.927536231884058, 0.927536231884058, 0.927536231884058, 0.927536231884058, 0.927536231884058, 0.927536231884058, 0.927536231884058, 0.927536231884058, 0.927536231884058, 0.927536231884058, 0.927536231884058, 0.927536231884058, 0.927536231884058, 0.927536231884058, 0.927536231884058, 0.927536231884058, 0.927536231884058, 0.927536231884058, 0.927536231884058, 0.927536231884058, 0.927536231884058, 0.927536231884058, 0.927536231884058, 0.927536231884058, 0.927536231884058, 0.927536231884058, 0.927536231884058, 0.927536231884058, 0.927536231884058, 0.927536231884058, 0.927536231884058, 0.927536231884058, 0.927536231884058, 0.927536231884058, 0.927536231884058, 0.927536231884058, 0.927536231884058, 0.927536231884058, 0.927536231884058, 0.927536231884058, 0.927536231884058, 0.927536231884058, 0.927536231884058, 0.927536231884058, 0.927536231884058, 0.927536231884058, 0.927536231884058, 0.927536231884058, 0.927536231884058, 0.927536231884058, 0.927536231884058, 0.927536231884058, 0.927536231884058, 0.927536231884058, 0.927536231884058, 0.927536231884058, 0.927536231884058, 0.927536231884058, 0.927536231884058, 0.927536231884058, 0.927536231884058, 0.927536231884058, 0.927536231884058, 0.927536231884058, 0.927536231884058, 0.927536231884058, 0.927536231884058, 0.927536231884058, 0.927536231884058, 0.927536231884058, 0.927536231884058, 0.927536231884058, 0.927536231884058, 0.927536231884058, 0.927536231884058, 0.927536231884058, 0.927536231884058, 0.927536231884058, 0.927536231884058, 0.927536231884058, 0.927536231884058, 0.927536231884058, 0.927536231884058, 0.927536231884058, 0.9130434782608695, 0.9130434782608695, 0.9130434782608695, 0.9130434782608695, 0.9130434782608695, 0.9130434782608695, 0.9130434782608695, 0.9130434782608695, 0.9130434782608695, 0.9130434782608695, 0.8985507246376812, 0.8985507246376812, 0.8985507246376812, 0.8985507246376812, 0.8985507246376812, 0.8985507246376812, 0.8985507246376812, 0.8985507246376812, 0.8985507246376812, 0.8985507246376812, 0.8985507246376812, 0.8985507246376812, 0.8985507246376812, 0.8985507246376812, 0.8985507246376812, 0.8985507246376812, 0.8985507246376812, 0.8985507246376812, 0.8985507246376812, 0.8985507246376812, 0.8985507246376812, 0.8985507246376812, 0.8985507246376812, 0.8985507246376812, 0.8985507246376812, 0.8985507246376812, 0.8840579710144928, 0.8840579710144928, 0.8840579710144928, 0.8840579710144928, 0.8840579710144928, 0.8840579710144928, 0.8840579710144928, 0.8840579710144928, 0.8840579710144928, 0.8840579710144928, 0.8840579710144928, 0.8840579710144928, 0.8840579710144928, 0.8840579710144928, 0.8840579710144928, 0.8840579710144928, 0.8840579710144928, 0.8840579710144928, 0.8840579710144928, 0.8840579710144928, 0.8695652173913043, 0.8695652173913043, 0.8695652173913043, 0.8695652173913043, 0.8695652173913043, 0.855072463768116, 0.855072463768116, 0.855072463768116, 0.855072463768116, 0.855072463768116, 0.855072463768116, 0.855072463768116, 0.855072463768116, 0.855072463768116, 0.855072463768116, 0.855072463768116, 0.855072463768116, 0.855072463768116, 0.8405797101449275, 0.8405797101449275, 0.8405797101449275, 0.8405797101449275, 0.8405797101449275, 0.8405797101449275, 0.8405797101449275, 0.8405797101449275, 0.8405797101449275, 0.8405797101449275, 0.8405797101449275, 0.8405797101449275, 0.8405797101449275, 0.8405797101449275, 0.8405797101449275, 0.8405797101449275, 0.8405797101449275, 0.8405797101449275, 0.8405797101449275, 0.8405797101449275, 0.8260869565217391, 0.8260869565217391, 0.8260869565217391, 0.8260869565217391, 0.8260869565217391, 0.8260869565217391, 0.8260869565217391, 0.8260869565217391, 0.8260869565217391, 0.8260869565217391, 0.8260869565217391, 0.8260869565217391, 0.8260869565217391, 0.8260869565217391, 0.8260869565217391, 0.8260869565217391, 0.8260869565217391, 0.8260869565217391, 0.8260869565217391, 0.8260869565217391, 0.8260869565217391, 0.8260869565217391, 0.8260869565217391, 0.8260869565217391, 0.8260869565217391, 0.8260869565217391, 0.8260869565217391, 0.8260869565217391, 0.8260869565217391, 0.8260869565217391, 0.8260869565217391, 0.8260869565217391, 0.8260869565217391, 0.8260869565217391, 0.8260869565217391, 0.8260869565217391, 0.8260869565217391, 0.8260869565217391, 0.8260869565217391, 0.8260869565217391, 0.8260869565217391, 0.8260869565217391, 0.8260869565217391, 0.8260869565217391, 0.8260869565217391, 0.8115942028985508, 0.8115942028985508, 0.8115942028985508, 0.8115942028985508, 0.8115942028985508, 0.8115942028985508, 0.8115942028985508, 0.8115942028985508, 0.8115942028985508, 0.8115942028985508, 0.7971014492753623, 0.7971014492753623, 0.7971014492753623, 0.7971014492753623, 0.7971014492753623, 0.7971014492753623, 0.7971014492753623, 0.7971014492753623, 0.7971014492753623, 0.7971014492753623, 0.7971014492753623, 0.7971014492753623, 0.7971014492753623, 0.7971014492753623, 0.7971014492753623, 0.7971014492753623, 0.7971014492753623, 0.7971014492753623, 0.7971014492753623, 0.7971014492753623, 0.7971014492753623, 0.7971014492753623, 0.7971014492753623, 0.7971014492753623, 0.7971014492753623, 0.7971014492753623, 0.7971014492753623, 0.7971014492753623, 0.7971014492753623, 0.7971014492753623, 0.7971014492753623, 0.7971014492753623, 0.7971014492753623, 0.7971014492753623, 0.7971014492753623, 0.7971014492753623, 0.7971014492753623, 0.7971014492753623, 0.7971014492753623, 0.7971014492753623, 0.7971014492753623, 0.7971014492753623, 0.7971014492753623, 0.782608695652174, 0.782608695652174, 0.782608695652174, 0.782608695652174, 0.782608695652174, 0.782608695652174, 0.782608695652174, 0.782608695652174, 0.782608695652174, 0.782608695652174, 0.782608695652174, 0.782608695652174, 0.782608695652174, 0.782608695652174, 0.782608695652174, 0.782608695652174, 0.782608695652174, 0.782608695652174, 0.782608695652174, 0.782608695652174, 0.782608695652174, 0.782608695652174, 0.782608695652174, 0.782608695652174, 0.782608695652174, 0.782608695652174, 0.782608695652174, 0.782608695652174, 0.7681159420289855, 0.7681159420289855, 0.7681159420289855, 0.7681159420289855, 0.7681159420289855, 0.7681159420289855, 0.7681159420289855, 0.7681159420289855, 0.7681159420289855, 0.7681159420289855, 0.7681159420289855, 0.7681159420289855, 0.7681159420289855, 0.7681159420289855, 0.7681159420289855, 0.7681159420289855, 0.7681159420289855, 0.7681159420289855, 0.7681159420289855, 0.7681159420289855, 0.7536231884057971, 0.7536231884057971, 0.7536231884057971, 0.7536231884057971, 0.7536231884057971, 0.7536231884057971, 0.7536231884057971, 0.7536231884057971, 0.7536231884057971, 0.7536231884057971, 0.7536231884057971, 0.7536231884057971, 0.7391304347826086, 0.7391304347826086, 0.7391304347826086, 0.7391304347826086, 0.7391304347826086, 0.7391304347826086, 0.7391304347826086, 0.7391304347826086, 0.7391304347826086, 0.7391304347826086, 0.7391304347826086, 0.7391304347826086, 0.7391304347826086, 0.7391304347826086, 0.7391304347826086, 0.7391304347826086, 0.7391304347826086, 0.7391304347826086, 0.7391304347826086, 0.7391304347826086, 0.7391304347826086, 0.7391304347826086, 0.7391304347826086, 0.7391304347826086, 0.7391304347826086, 0.7391304347826086, 0.7246376811594203, 0.7246376811594203, 0.7246376811594203, 0.7246376811594203, 0.7246376811594203, 0.7246376811594203, 0.7246376811594203, 0.7246376811594203, 0.7246376811594203, 0.7246376811594203, 0.7246376811594203, 0.7246376811594203, 0.7246376811594203, 0.7246376811594203, 0.7246376811594203, 0.7246376811594203, 0.7246376811594203, 0.7246376811594203, 0.7246376811594203, 0.7246376811594203, 0.7246376811594203, 0.7246376811594203, 0.7101449275362319, 0.7101449275362319, 0.7101449275362319, 0.7101449275362319, 0.7101449275362319, 0.6956521739130435, 0.6956521739130435, 0.6811594202898551, 0.6811594202898551, 0.6666666666666666, 0.6666666666666666, 0.6666666666666666, 0.6666666666666666, 0.6666666666666666, 0.6666666666666666, 0.6666666666666666, 0.6521739130434783, 0.6521739130434783, 0.6521739130434783, 0.6521739130434783, 0.6521739130434783, 0.6521739130434783, 0.6521739130434783, 0.6521739130434783, 0.6521739130434783, 0.6521739130434783, 0.6376811594202898, 0.6376811594202898, 0.6376811594202898, 0.6376811594202898, 0.6376811594202898, 0.6376811594202898, 0.6231884057971014, 0.6231884057971014, 0.6231884057971014, 0.6231884057971014, 0.6231884057971014, 0.6231884057971014, 0.6086956521739131, 0.6086956521739131, 0.6086956521739131, 0.6086956521739131, 0.6086956521739131, 0.5942028985507246, 0.5942028985507246, 0.5942028985507246, 0.5942028985507246, 0.5942028985507246, 0.5942028985507246, 0.5942028985507246, 0.5942028985507246, 0.5942028985507246, 0.5942028985507246, 0.5942028985507246, 0.5942028985507246, 0.5942028985507246, 0.5942028985507246, 0.5942028985507246, 0.5942028985507246, 0.5942028985507246, 0.5942028985507246, 0.5942028985507246, 0.5942028985507246, 0.5942028985507246, 0.5942028985507246, 0.5942028985507246, 0.5942028985507246, 0.5942028985507246, 0.5797101449275363, 0.5797101449275363, 0.5797101449275363, 0.5797101449275363, 0.5797101449275363, 0.5652173913043478, 0.5652173913043478, 0.5652173913043478, 0.5652173913043478, 0.5652173913043478, 0.5652173913043478, 0.5652173913043478, 0.5652173913043478, 0.5652173913043478, 0.5652173913043478, 0.5507246376811594, 0.5507246376811594, 0.5507246376811594, 0.5507246376811594, 0.5507246376811594, 0.5507246376811594, 0.5507246376811594, 0.5507246376811594, 0.5507246376811594, 0.5507246376811594, 0.5507246376811594, 0.5507246376811594, 0.5507246376811594, 0.5507246376811594, 0.5507246376811594, 0.5507246376811594, 0.5362318840579711, 0.5362318840579711, 0.5217391304347826, 0.5217391304347826, 0.5217391304347826, 0.5217391304347826, 0.5217391304347826, 0.5217391304347826, 0.5217391304347826, 0.5217391304347826, 0.5072463768115942, 0.5072463768115942, 0.5072463768115942, 0.5072463768115942, 0.5072463768115942, 0.5072463768115942, 0.5072463768115942, 0.5072463768115942, 0.5072463768115942, 0.5072463768115942, 0.5072463768115942, 0.5072463768115942, 0.5072463768115942, 0.5072463768115942, 0.5072463768115942, 0.5072463768115942, 0.5072463768115942, 0.5072463768115942, 0.5072463768115942, 0.5072463768115942, 0.5072463768115942, 0.5072463768115942, 0.5072463768115942, 0.5072463768115942, 0.5072463768115942, 0.5072463768115942, 0.5072463768115942, 0.5072463768115942, 0.5072463768115942, 0.5072463768115942, 0.5072463768115942, 0.5072463768115942, 0.5072463768115942, 0.4927536231884058, 0.4927536231884058, 0.4927536231884058, 0.4782608695652174, 0.4782608695652174, 0.4782608695652174, 0.4782608695652174, 0.4782608695652174, 0.463768115942029, 0.463768115942029, 0.463768115942029, 0.463768115942029, 0.463768115942029, 0.463768115942029, 0.463768115942029, 0.463768115942029, 0.463768115942029, 0.463768115942029, 0.463768115942029, 0.463768115942029, 0.463768115942029, 0.463768115942029, 0.463768115942029, 0.463768115942029, 0.463768115942029, 0.4492753623188406, 0.4492753623188406, 0.4492753623188406, 0.4492753623188406, 0.4492753623188406, 0.4492753623188406, 0.4492753623188406, 0.4492753623188406, 0.4492753623188406, 0.4492753623188406, 0.4492753623188406, 0.4492753623188406, 0.4492753623188406, 0.4492753623188406, 0.4492753623188406, 0.4492753623188406, 0.4492753623188406, 0.4492753623188406, 0.4492753623188406, 0.4492753623188406, 0.4492753623188406, 0.4492753623188406, 0.4492753623188406, 0.4492753623188406, 0.4492753623188406, 0.4492753623188406, 0.4492753623188406, 0.4492753623188406, 0.43478260869565216, 0.43478260869565216, 0.43478260869565216, 0.42028985507246375, 0.4057971014492754, 0.4057971014492754, 0.391304347826087, 0.391304347826087, 0.391304347826087, 0.37681159420289856, 0.36231884057971014, 0.36231884057971014, 0.36231884057971014, 0.36231884057971014, 0.34782608695652173, 0.3333333333333333, 0.3333333333333333, 0.3333333333333333, 0.3333333333333333, 0.3188405797101449, 0.3188405797101449, 0.3188405797101449, 0.3188405797101449, 0.3188405797101449, 0.30434782608695654, 0.30434782608695654, 0.30434782608695654, 0.30434782608695654, 0.30434782608695654, 0.30434782608695654, 0.30434782608695654, 0.30434782608695654, 0.2898550724637681, 0.2898550724637681, 0.2753623188405797, 0.2753623188405797, 0.2608695652173913, 0.2463768115942029, 0.2318840579710145, 0.21739130434782608, 0.21739130434782608, 0.21739130434782608, 0.2028985507246377, 0.2028985507246377, 0.18840579710144928, 0.18840579710144928, 0.17391304347826086, 0.15942028985507245, 0.14492753623188406, 0.14492753623188406, 0.13043478260869565, 0.13043478260869565, 0.11594202898550725, 0.11594202898550725, 0.10144927536231885, 0.08695652173913043, 0.07246376811594203, 0.057971014492753624, 0.043478260869565216, 0.028985507246376812, 0.028985507246376812, 0.014492753623188406, 0.014492753623188406, 0.014492753623188406, 0.014492753623188406, 0.014492753623188406], \"y\": [0.08041958041958042, 0.07934655775962661, 0.0794392523364486, 0.07953216374269007, 0.07962529274004684, 0.07971864009378664, 0.07981220657276995, 0.0799059929494712, 0.08, 0.0800942285041225, 0.08018867924528301, 0.08028335301062574, 0.08037825059101655, 0.08047337278106509, 0.08056872037914692, 0.08066429418742586, 0.08076009501187649, 0.08085612366230678, 0.07976190476190476, 0.07985697258641239, 0.07995226730310262, 0.08004778972520908, 0.08014354066985646, 0.08023952095808383, 0.0803357314148681, 0.08043217286914765, 0.08052884615384616, 0.08062575210589651, 0.08072289156626505, 0.08082026537997587, 0.08091787439613526, 0.08101571946795647, 0.0811138014527845, 0.08121212121212121, 0.08131067961165049, 0.08140947752126367, 0.08150851581508516, 0.08160779537149818, 0.08170731707317073, 0.08180708180708181, 0.08190709046454768, 0.08200734394124846, 0.0821078431372549, 0.08220858895705521, 0.08230958230958231, 0.08241082410824108, 0.08251231527093596, 0.08261405672009864, 0.08271604938271605, 0.08281829419035847, 0.08292079207920793, 0.08302354399008674, 0.08312655086848635, 0.08322981366459627, 0.08333333333333333, 0.08343711083437111, 0.08354114713216958, 0.08364544319600499, 0.08375, 0.08385481852315395, 0.08395989974937343, 0.08406524466750313, 0.08417085427135679, 0.0830188679245283, 0.08312342569269521, 0.0832282471626734, 0.08333333333333333, 0.08343868520859671, 0.08354430379746836, 0.08365019011406843, 0.08375634517766498, 0.08386277001270648, 0.08396946564885496, 0.0840764331210191, 0.08418367346938775, 0.0842911877394636, 0.08439897698209718, 0.08450704225352113, 0.08461538461538462, 0.08472400513478819, 0.08483290488431877, 0.08494208494208494, 0.08505154639175258, 0.08516129032258064, 0.08527131782945736, 0.08538163001293661, 0.08549222797927461, 0.08560311284046693, 0.08571428571428572, 0.0858257477243173, 0.0859375, 0.08604954367666232, 0.08616187989556136, 0.08627450980392157, 0.08638743455497382, 0.08650065530799476, 0.08661417322834646, 0.08672798948751642, 0.0868421052631579, 0.08695652173913043, 0.0870712401055409, 0.08718626155878467, 0.0873015873015873, 0.08741721854304636, 0.08753315649867374, 0.08764940239043825, 0.08776595744680851, 0.08788282290279627, 0.088, 0.08811748998664887, 0.08823529411764706, 0.08835341365461848, 0.08847184986595175, 0.08859060402684564, 0.08870967741935484, 0.08882907133243607, 0.0889487870619946, 0.08906882591093117, 0.0891891891891892, 0.08930987821380243, 0.08943089430894309, 0.08955223880597014, 0.08967391304347826, 0.08979591836734693, 0.08991825613079019, 0.09004092769440655, 0.09016393442622951, 0.09028727770177838, 0.09041095890410959, 0.09053497942386832, 0.09065934065934066, 0.0907840440165062, 0.09090909090909091, 0.0910344827586207, 0.09116022099447514, 0.0912863070539419, 0.09141274238227147, 0.09153952843273232, 0.09166666666666666, 0.0917941585535466, 0.09192200557103064, 0.09205020920502092, 0.09217877094972067, 0.09230769230769231, 0.09243697478991597, 0.09256661991584852, 0.09269662921348315, 0.09282700421940929, 0.09295774647887324, 0.0930888575458392, 0.09322033898305085, 0.09335219236209336, 0.09348441926345609, 0.09361702127659574, 0.09375, 0.09388335704125178, 0.09401709401709402, 0.09415121255349501, 0.09428571428571429, 0.0944206008583691, 0.09455587392550144, 0.09469153515064563, 0.09482758620689655, 0.09496402877697842, 0.09510086455331412, 0.09523809523809523, 0.0953757225433526, 0.09406657018813314, 0.09420289855072464, 0.09433962264150944, 0.09447674418604651, 0.09461426491994178, 0.09475218658892129, 0.0948905109489051, 0.09502923976608187, 0.0951683748169839, 0.09530791788856305, 0.09544787077826726, 0.09558823529411764, 0.09572901325478646, 0.09587020648967552, 0.09601181683899557, 0.09615384615384616, 0.0962962962962963, 0.09643916913946587, 0.09658246656760773, 0.09672619047619048, 0.09687034277198212, 0.09701492537313433, 0.09715994020926756, 0.09730538922155689, 0.09745127436281859, 0.09759759759759759, 0.09774436090225563, 0.09789156626506024, 0.09803921568627451, 0.09818731117824774, 0.09833585476550681, 0.09848484848484848, 0.09711684370257967, 0.0972644376899696, 0.0974124809741248, 0.0975609756097561, 0.09770992366412214, 0.09785932721712538, 0.09800918836140889, 0.09815950920245399, 0.09831029185867896, 0.09846153846153846, 0.09861325115562404, 0.09876543209876543, 0.09891808346213292, 0.09907120743034056, 0.09922480620155039, 0.09937888198757763, 0.09953343701399689, 0.09968847352024922, 0.0998439937597504, 0.1, 0.10015649452269171, 0.10031347962382445, 0.10047095761381476, 0.10062893081761007, 0.10078740157480315, 0.10094637223974763, 0.10110584518167456, 0.10126582278481013, 0.10142630744849446, 0.10158730158730159, 0.10174880763116058, 0.10191082802547771, 0.10207336523125997, 0.10223642172523961, 0.1024, 0.10256410256410256, 0.10272873194221509, 0.10289389067524116, 0.10305958132045089, 0.1032258064516129, 0.10339256865912763, 0.10355987055016182, 0.10372771474878444, 0.1038961038961039, 0.1040650406504065, 0.10423452768729642, 0.10440456769983687, 0.10457516339869281, 0.10474631751227496, 0.10491803278688525, 0.10509031198686371, 0.10526315789473684, 0.10543657331136738, 0.10561056105610561, 0.10578512396694215, 0.10596026490066225, 0.10613598673300166, 0.10631229235880399, 0.1064891846921797, 0.10666666666666667, 0.10684474123539232, 0.10702341137123746, 0.10720268006700168, 0.10738255033557047, 0.10756302521008404, 0.10774410774410774, 0.10792580101180438, 0.10810810810810811, 0.10829103214890017, 0.10847457627118644, 0.10865874363327674, 0.10884353741496598, 0.10902896081771721, 0.10921501706484642, 0.1094017094017094, 0.1095890410958904, 0.1097770154373928, 0.10996563573883161, 0.11015490533562823, 0.1103448275862069, 0.11053540587219343, 0.11072664359861592, 0.11091854419410745, 0.1111111111111111, 0.11130434782608696, 0.11149825783972125, 0.11169284467713787, 0.11188811188811189, 0.11208406304728546, 0.11228070175438597, 0.11247803163444639, 0.11267605633802817, 0.1128747795414462, 0.11307420494699646, 0.11327433628318584, 0.11347517730496454, 0.11367673179396093, 0.11387900355871886, 0.11229946524064172, 0.1125, 0.11270125223613596, 0.11290322580645161, 0.11310592459605028, 0.11330935251798561, 0.11351351351351352, 0.11371841155234658, 0.11392405063291139, 0.11413043478260869, 0.11252268602540835, 0.11272727272727273, 0.11293260473588343, 0.11313868613138686, 0.113345521023766, 0.11355311355311355, 0.11376146788990826, 0.11397058823529412, 0.1141804788213628, 0.11439114391143912, 0.11460258780036968, 0.11481481481481481, 0.1150278293135436, 0.11524163568773234, 0.1154562383612663, 0.11567164179104478, 0.11588785046728972, 0.11610486891385768, 0.11632270168855535, 0.11654135338345864, 0.1167608286252354, 0.1169811320754717, 0.11720226843100189, 0.11742424242424243, 0.11764705882352941, 0.11787072243346007, 0.11619047619047619, 0.11641221374045801, 0.11663479923518165, 0.11685823754789272, 0.11708253358925144, 0.11730769230769231, 0.11753371868978806, 0.11776061776061776, 0.11798839458413926, 0.1182170542635659, 0.11844660194174757, 0.11867704280155641, 0.1189083820662768, 0.119140625, 0.11937377690802348, 0.11960784313725491, 0.11984282907662082, 0.12007874015748031, 0.1203155818540434, 0.12055335968379446, 0.1188118811881188, 0.11904761904761904, 0.11928429423459244, 0.11952191235059761, 0.11976047904191617, 0.118, 0.11823647294589178, 0.11847389558232932, 0.11871227364185111, 0.11895161290322581, 0.1191919191919192, 0.1194331983805668, 0.11967545638945233, 0.11991869918699187, 0.12016293279022404, 0.12040816326530612, 0.12065439672801637, 0.12090163934426229, 0.11909650924024641, 0.11934156378600823, 0.11958762886597939, 0.11983471074380166, 0.12008281573498965, 0.12033195020746888, 0.12058212058212059, 0.12083333333333333, 0.12108559498956159, 0.12133891213389121, 0.12159329140461216, 0.12184873949579832, 0.12210526315789473, 0.12236286919831224, 0.1226215644820296, 0.1228813559322034, 0.12314225053078556, 0.12340425531914893, 0.12366737739872068, 0.12393162393162394, 0.12205567451820129, 0.1223175965665236, 0.12258064516129032, 0.12284482758620689, 0.12311015118790497, 0.12337662337662338, 0.12364425162689804, 0.12391304347826088, 0.12418300653594772, 0.12445414847161572, 0.12472647702407003, 0.125, 0.12527472527472527, 0.12555066079295155, 0.12582781456953643, 0.1261061946902655, 0.12638580931263857, 0.12666666666666668, 0.12694877505567928, 0.12723214285714285, 0.12751677852348994, 0.12780269058295965, 0.12808988764044943, 0.12837837837837837, 0.12866817155756208, 0.12895927601809956, 0.1292517006802721, 0.12954545454545455, 0.12984054669703873, 0.13013698630136986, 0.13043478260869565, 0.13073394495412843, 0.1310344827586207, 0.1313364055299539, 0.13163972286374134, 0.13194444444444445, 0.13225058004640372, 0.1325581395348837, 0.13286713286713286, 0.13317757009345793, 0.13348946135831383, 0.13380281690140844, 0.13411764705882354, 0.13443396226415094, 0.1347517730496454, 0.13270142180094788, 0.1330166270783848, 0.13333333333333333, 0.13365155131264916, 0.1339712918660287, 0.1342925659472422, 0.1346153846153846, 0.13493975903614458, 0.13526570048309178, 0.13559322033898305, 0.13349514563106796, 0.13381995133819952, 0.13414634146341464, 0.13447432762836187, 0.13480392156862744, 0.13513513513513514, 0.1354679802955665, 0.13580246913580246, 0.13613861386138615, 0.13647642679900746, 0.13681592039800994, 0.1371571072319202, 0.1375, 0.13784461152882205, 0.13819095477386933, 0.1385390428211587, 0.1388888888888889, 0.13924050632911392, 0.13959390862944163, 0.13994910941475827, 0.14030612244897958, 0.14066496163682865, 0.14102564102564102, 0.14138817480719795, 0.14175257731958762, 0.1421188630490956, 0.14248704663212436, 0.14285714285714285, 0.14322916666666666, 0.14360313315926893, 0.14397905759162305, 0.14435695538057744, 0.14473684210526316, 0.14511873350923482, 0.1455026455026455, 0.14588859416445624, 0.14627659574468085, 0.14666666666666667, 0.14705882352941177, 0.14745308310991956, 0.1478494623655914, 0.14824797843665768, 0.14864864864864866, 0.14634146341463414, 0.14673913043478262, 0.14713896457765668, 0.14754098360655737, 0.14794520547945206, 0.14835164835164835, 0.1487603305785124, 0.14917127071823205, 0.14958448753462603, 0.15, 0.15041782729805014, 0.15083798882681565, 0.15126050420168066, 0.15168539325842698, 0.15211267605633802, 0.15254237288135594, 0.1529745042492918, 0.1534090909090909, 0.15384615384615385, 0.15428571428571428, 0.15472779369627507, 0.15517241379310345, 0.15561959654178675, 0.15606936416184972, 0.1565217391304348, 0.1569767441860465, 0.15743440233236153, 0.15789473684210525, 0.15542521994134897, 0.15588235294117647, 0.15634218289085547, 0.15680473372781065, 0.1572700296735905, 0.15773809523809523, 0.1582089552238806, 0.15868263473053892, 0.15915915915915915, 0.15963855421686746, 0.16012084592145015, 0.1606060606060606, 0.16109422492401215, 0.16158536585365854, 0.1620795107033639, 0.16257668711656442, 0.16307692307692306, 0.16358024691358025, 0.16408668730650156, 0.16459627329192547, 0.16199376947040497, 0.1625, 0.16300940438871472, 0.16352201257861634, 0.1640378548895899, 0.16455696202531644, 0.16507936507936508, 0.16560509554140126, 0.16613418530351437, 0.16666666666666666, 0.16720257234726688, 0.16774193548387098, 0.1650485436893204, 0.16558441558441558, 0.16612377850162866, 0.16666666666666666, 0.16721311475409836, 0.16776315789473684, 0.16831683168316833, 0.16887417218543047, 0.16943521594684385, 0.17, 0.1705685618729097, 0.17114093959731544, 0.1717171717171717, 0.17229729729729729, 0.17288135593220338, 0.17346938775510204, 0.17406143344709898, 0.17465753424657535, 0.17525773195876287, 0.17586206896551723, 0.17647058823529413, 0.17708333333333334, 0.17770034843205576, 0.17832167832167833, 0.17894736842105263, 0.1795774647887324, 0.17667844522968199, 0.1773049645390071, 0.17793594306049823, 0.17857142857142858, 0.17921146953405018, 0.17985611510791366, 0.18050541516245489, 0.18115942028985507, 0.18181818181818182, 0.18248175182481752, 0.18315018315018314, 0.18382352941176472, 0.18450184501845018, 0.18518518518518517, 0.18587360594795538, 0.1865671641791045, 0.18726591760299627, 0.18796992481203006, 0.18867924528301888, 0.1893939393939394, 0.19011406844106463, 0.19083969465648856, 0.18773946360153257, 0.18846153846153846, 0.1891891891891892, 0.18992248062015504, 0.19066147859922178, 0.1875, 0.18823529411764706, 0.18503937007874016, 0.1857707509881423, 0.18253968253968253, 0.18326693227091634, 0.184, 0.18473895582329317, 0.18548387096774194, 0.1862348178137652, 0.18699186991869918, 0.1836734693877551, 0.18442622950819673, 0.18518518518518517, 0.1859504132231405, 0.18672199170124482, 0.1875, 0.18828451882845187, 0.18907563025210083, 0.189873417721519, 0.1906779661016949, 0.18723404255319148, 0.18803418803418803, 0.1888412017167382, 0.1896551724137931, 0.19047619047619047, 0.19130434782608696, 0.18777292576419213, 0.18859649122807018, 0.1894273127753304, 0.1902654867256637, 0.19111111111111112, 0.19196428571428573, 0.18834080717488788, 0.1891891891891892, 0.19004524886877827, 0.19090909090909092, 0.1917808219178082, 0.18807339449541285, 0.1889400921658986, 0.18981481481481483, 0.19069767441860466, 0.19158878504672897, 0.19248826291079812, 0.19339622641509435, 0.1943127962085308, 0.19523809523809524, 0.19617224880382775, 0.1971153846153846, 0.19806763285024154, 0.19902912621359223, 0.2, 0.20098039215686275, 0.2019704433497537, 0.20297029702970298, 0.20398009950248755, 0.205, 0.20603015075376885, 0.20707070707070707, 0.20812182741116753, 0.20918367346938777, 0.21025641025641026, 0.211340206185567, 0.20725388601036268, 0.20833333333333334, 0.2094240837696335, 0.21052631578947367, 0.21164021164021163, 0.2074468085106383, 0.20855614973262032, 0.20967741935483872, 0.21081081081081082, 0.21195652173913043, 0.21311475409836064, 0.21428571428571427, 0.2154696132596685, 0.21666666666666667, 0.21787709497206703, 0.21348314606741572, 0.21468926553672316, 0.2159090909090909, 0.21714285714285714, 0.21839080459770116, 0.21965317919075145, 0.22093023255813954, 0.2222222222222222, 0.2235294117647059, 0.22485207100591717, 0.2261904761904762, 0.2275449101796407, 0.2289156626506024, 0.23030303030303031, 0.23170731707317074, 0.2331288343558282, 0.22839506172839505, 0.22981366459627328, 0.225, 0.22641509433962265, 0.22784810126582278, 0.22929936305732485, 0.23076923076923078, 0.23225806451612904, 0.23376623376623376, 0.23529411764705882, 0.23026315789473684, 0.23178807947019867, 0.23333333333333334, 0.2348993288590604, 0.23648648648648649, 0.23809523809523808, 0.23972602739726026, 0.2413793103448276, 0.24305555555555555, 0.24475524475524477, 0.24647887323943662, 0.24822695035460993, 0.25, 0.2517985611510791, 0.2536231884057971, 0.25547445255474455, 0.25735294117647056, 0.25925925925925924, 0.26119402985074625, 0.2631578947368421, 0.26515151515151514, 0.26717557251908397, 0.2692307692307692, 0.2713178294573643, 0.2734375, 0.2755905511811024, 0.2777777777777778, 0.28, 0.28225806451612906, 0.2845528455284553, 0.28688524590163933, 0.2892561983471074, 0.2916666666666667, 0.2857142857142857, 0.288135593220339, 0.2905982905982906, 0.28448275862068967, 0.28695652173913044, 0.2894736842105263, 0.2920353982300885, 0.29464285714285715, 0.2882882882882883, 0.2909090909090909, 0.29357798165137616, 0.2962962962962963, 0.29906542056074764, 0.3018867924528302, 0.3047619047619048, 0.3076923076923077, 0.3106796116504854, 0.3137254901960784, 0.31683168316831684, 0.32, 0.32323232323232326, 0.32653061224489793, 0.32989690721649484, 0.3333333333333333, 0.3368421052631579, 0.32978723404255317, 0.3333333333333333, 0.33695652173913043, 0.34065934065934067, 0.34444444444444444, 0.34831460674157305, 0.3522727272727273, 0.3563218390804598, 0.36046511627906974, 0.36470588235294116, 0.36904761904761907, 0.37349397590361444, 0.3780487804878049, 0.38271604938271603, 0.3875, 0.3924050632911392, 0.3974358974358974, 0.4025974025974026, 0.40789473684210525, 0.41333333333333333, 0.4189189189189189, 0.4246575342465753, 0.4305555555555556, 0.43661971830985913, 0.44285714285714284, 0.4492753623188406, 0.45588235294117646, 0.4626865671641791, 0.45454545454545453, 0.46153846153846156, 0.46875, 0.4603174603174603, 0.45161290322580644, 0.45901639344262296, 0.45, 0.4576271186440678, 0.46551724137931033, 0.45614035087719296, 0.44642857142857145, 0.45454545454545453, 0.46296296296296297, 0.4716981132075472, 0.46153846153846156, 0.45098039215686275, 0.46, 0.46938775510204084, 0.4791666666666667, 0.46808510638297873, 0.4782608695652174, 0.4888888888888889, 0.5, 0.5116279069767442, 0.5, 0.5121951219512195, 0.525, 0.5384615384615384, 0.5526315789473685, 0.5675675675675675, 0.5833333333333334, 0.6, 0.5882352941176471, 0.6060606060606061, 0.59375, 0.6129032258064516, 0.6, 0.5862068965517241, 0.5714285714285714, 0.5555555555555556, 0.5769230769230769, 0.6, 0.5833333333333334, 0.6086956521739131, 0.5909090909090909, 0.6190476190476191, 0.6, 0.5789473684210527, 0.5555555555555556, 0.5882352941176471, 0.5625, 0.6, 0.5714285714285714, 0.6153846153846154, 0.5833333333333334, 0.5454545454545454, 0.5, 0.4444444444444444, 0.375, 0.2857142857142857, 0.3333333333333333, 0.2, 0.25, 0.3333333333333333, 0.5, 1.0]}, {\"mode\": \"lines\", \"name\": \"No Skill\", \"type\": \"scatter\", \"x\": [0, 1], \"y\": [0, 0]}],\n",
              "                        {\"autosize\": false, \"height\": 500, \"template\": {\"data\": {\"bar\": [{\"error_x\": {\"color\": \"#2a3f5f\"}, \"error_y\": {\"color\": \"#2a3f5f\"}, \"marker\": {\"line\": {\"color\": \"#E5ECF6\", \"width\": 0.5}}, \"type\": \"bar\"}], \"barpolar\": [{\"marker\": {\"line\": {\"color\": \"#E5ECF6\", \"width\": 0.5}}, \"type\": \"barpolar\"}], \"carpet\": [{\"aaxis\": {\"endlinecolor\": \"#2a3f5f\", \"gridcolor\": \"white\", \"linecolor\": \"white\", \"minorgridcolor\": \"white\", \"startlinecolor\": \"#2a3f5f\"}, \"baxis\": {\"endlinecolor\": \"#2a3f5f\", \"gridcolor\": \"white\", \"linecolor\": \"white\", \"minorgridcolor\": \"white\", \"startlinecolor\": \"#2a3f5f\"}, \"type\": \"carpet\"}], \"choropleth\": [{\"colorbar\": {\"outlinewidth\": 0, \"ticks\": \"\"}, \"type\": \"choropleth\"}], \"contour\": [{\"colorbar\": {\"outlinewidth\": 0, \"ticks\": \"\"}, \"colorscale\": [[0.0, \"#0d0887\"], [0.1111111111111111, \"#46039f\"], [0.2222222222222222, \"#7201a8\"], [0.3333333333333333, \"#9c179e\"], [0.4444444444444444, \"#bd3786\"], [0.5555555555555556, \"#d8576b\"], [0.6666666666666666, \"#ed7953\"], [0.7777777777777778, \"#fb9f3a\"], [0.8888888888888888, \"#fdca26\"], [1.0, \"#f0f921\"]], \"type\": \"contour\"}], \"contourcarpet\": [{\"colorbar\": {\"outlinewidth\": 0, \"ticks\": \"\"}, \"type\": \"contourcarpet\"}], \"heatmap\": [{\"colorbar\": {\"outlinewidth\": 0, \"ticks\": \"\"}, \"colorscale\": [[0.0, \"#0d0887\"], [0.1111111111111111, \"#46039f\"], [0.2222222222222222, \"#7201a8\"], [0.3333333333333333, \"#9c179e\"], [0.4444444444444444, \"#bd3786\"], [0.5555555555555556, \"#d8576b\"], [0.6666666666666666, \"#ed7953\"], [0.7777777777777778, \"#fb9f3a\"], [0.8888888888888888, \"#fdca26\"], [1.0, \"#f0f921\"]], \"type\": \"heatmap\"}], \"heatmapgl\": [{\"colorbar\": {\"outlinewidth\": 0, \"ticks\": \"\"}, \"colorscale\": [[0.0, \"#0d0887\"], [0.1111111111111111, \"#46039f\"], [0.2222222222222222, \"#7201a8\"], [0.3333333333333333, \"#9c179e\"], [0.4444444444444444, \"#bd3786\"], [0.5555555555555556, \"#d8576b\"], [0.6666666666666666, \"#ed7953\"], [0.7777777777777778, \"#fb9f3a\"], [0.8888888888888888, \"#fdca26\"], [1.0, \"#f0f921\"]], \"type\": \"heatmapgl\"}], \"histogram\": [{\"marker\": {\"colorbar\": {\"outlinewidth\": 0, \"ticks\": \"\"}}, \"type\": \"histogram\"}], \"histogram2d\": [{\"colorbar\": {\"outlinewidth\": 0, \"ticks\": \"\"}, \"colorscale\": [[0.0, \"#0d0887\"], [0.1111111111111111, \"#46039f\"], [0.2222222222222222, \"#7201a8\"], [0.3333333333333333, \"#9c179e\"], [0.4444444444444444, \"#bd3786\"], [0.5555555555555556, \"#d8576b\"], [0.6666666666666666, \"#ed7953\"], [0.7777777777777778, \"#fb9f3a\"], [0.8888888888888888, \"#fdca26\"], [1.0, \"#f0f921\"]], \"type\": \"histogram2d\"}], \"histogram2dcontour\": [{\"colorbar\": {\"outlinewidth\": 0, \"ticks\": \"\"}, \"colorscale\": [[0.0, \"#0d0887\"], [0.1111111111111111, \"#46039f\"], [0.2222222222222222, \"#7201a8\"], [0.3333333333333333, \"#9c179e\"], [0.4444444444444444, \"#bd3786\"], [0.5555555555555556, \"#d8576b\"], [0.6666666666666666, \"#ed7953\"], [0.7777777777777778, \"#fb9f3a\"], [0.8888888888888888, \"#fdca26\"], [1.0, \"#f0f921\"]], \"type\": \"histogram2dcontour\"}], \"mesh3d\": [{\"colorbar\": {\"outlinewidth\": 0, \"ticks\": \"\"}, \"type\": \"mesh3d\"}], \"parcoords\": [{\"line\": {\"colorbar\": {\"outlinewidth\": 0, \"ticks\": \"\"}}, \"type\": \"parcoords\"}], \"pie\": [{\"automargin\": true, \"type\": \"pie\"}], \"scatter\": [{\"marker\": {\"colorbar\": {\"outlinewidth\": 0, \"ticks\": \"\"}}, \"type\": \"scatter\"}], \"scatter3d\": [{\"line\": {\"colorbar\": {\"outlinewidth\": 0, \"ticks\": \"\"}}, \"marker\": {\"colorbar\": {\"outlinewidth\": 0, \"ticks\": \"\"}}, \"type\": \"scatter3d\"}], \"scattercarpet\": [{\"marker\": {\"colorbar\": {\"outlinewidth\": 0, \"ticks\": \"\"}}, \"type\": \"scattercarpet\"}], \"scattergeo\": [{\"marker\": {\"colorbar\": {\"outlinewidth\": 0, \"ticks\": \"\"}}, \"type\": \"scattergeo\"}], \"scattergl\": [{\"marker\": {\"colorbar\": {\"outlinewidth\": 0, \"ticks\": \"\"}}, \"type\": \"scattergl\"}], \"scattermapbox\": [{\"marker\": {\"colorbar\": {\"outlinewidth\": 0, \"ticks\": \"\"}}, \"type\": \"scattermapbox\"}], \"scatterpolar\": [{\"marker\": {\"colorbar\": {\"outlinewidth\": 0, \"ticks\": \"\"}}, \"type\": \"scatterpolar\"}], \"scatterpolargl\": [{\"marker\": {\"colorbar\": {\"outlinewidth\": 0, \"ticks\": \"\"}}, \"type\": \"scatterpolargl\"}], \"scatterternary\": [{\"marker\": {\"colorbar\": {\"outlinewidth\": 0, \"ticks\": \"\"}}, \"type\": \"scatterternary\"}], \"surface\": [{\"colorbar\": {\"outlinewidth\": 0, \"ticks\": \"\"}, \"colorscale\": [[0.0, \"#0d0887\"], [0.1111111111111111, \"#46039f\"], [0.2222222222222222, \"#7201a8\"], [0.3333333333333333, \"#9c179e\"], [0.4444444444444444, \"#bd3786\"], [0.5555555555555556, \"#d8576b\"], [0.6666666666666666, \"#ed7953\"], [0.7777777777777778, \"#fb9f3a\"], [0.8888888888888888, \"#fdca26\"], [1.0, \"#f0f921\"]], \"type\": \"surface\"}], \"table\": [{\"cells\": {\"fill\": {\"color\": \"#EBF0F8\"}, \"line\": {\"color\": \"white\"}}, \"header\": {\"fill\": {\"color\": \"#C8D4E3\"}, \"line\": {\"color\": \"white\"}}, \"type\": \"table\"}]}, \"layout\": {\"annotationdefaults\": {\"arrowcolor\": \"#2a3f5f\", \"arrowhead\": 0, \"arrowwidth\": 1}, \"coloraxis\": {\"colorbar\": {\"outlinewidth\": 0, \"ticks\": \"\"}}, \"colorscale\": {\"diverging\": [[0, \"#8e0152\"], [0.1, \"#c51b7d\"], [0.2, \"#de77ae\"], [0.3, \"#f1b6da\"], [0.4, \"#fde0ef\"], [0.5, \"#f7f7f7\"], [0.6, \"#e6f5d0\"], [0.7, \"#b8e186\"], [0.8, \"#7fbc41\"], [0.9, \"#4d9221\"], [1, \"#276419\"]], \"sequential\": [[0.0, \"#0d0887\"], [0.1111111111111111, \"#46039f\"], [0.2222222222222222, \"#7201a8\"], [0.3333333333333333, \"#9c179e\"], [0.4444444444444444, \"#bd3786\"], [0.5555555555555556, \"#d8576b\"], [0.6666666666666666, \"#ed7953\"], [0.7777777777777778, \"#fb9f3a\"], [0.8888888888888888, \"#fdca26\"], [1.0, \"#f0f921\"]], \"sequentialminus\": [[0.0, \"#0d0887\"], [0.1111111111111111, \"#46039f\"], [0.2222222222222222, \"#7201a8\"], [0.3333333333333333, \"#9c179e\"], [0.4444444444444444, \"#bd3786\"], [0.5555555555555556, \"#d8576b\"], [0.6666666666666666, \"#ed7953\"], [0.7777777777777778, \"#fb9f3a\"], [0.8888888888888888, \"#fdca26\"], [1.0, \"#f0f921\"]]}, \"colorway\": [\"#636efa\", \"#EF553B\", \"#00cc96\", \"#ab63fa\", \"#FFA15A\", \"#19d3f3\", \"#FF6692\", \"#B6E880\", \"#FF97FF\", \"#FECB52\"], \"font\": {\"color\": \"#2a3f5f\"}, \"geo\": {\"bgcolor\": \"white\", \"lakecolor\": \"white\", \"landcolor\": \"#E5ECF6\", \"showlakes\": true, \"showland\": true, \"subunitcolor\": \"white\"}, \"hoverlabel\": {\"align\": \"left\"}, \"hovermode\": \"closest\", \"mapbox\": {\"style\": \"light\"}, \"paper_bgcolor\": \"white\", \"plot_bgcolor\": \"#E5ECF6\", \"polar\": {\"angularaxis\": {\"gridcolor\": \"white\", \"linecolor\": \"white\", \"ticks\": \"\"}, \"bgcolor\": \"#E5ECF6\", \"radialaxis\": {\"gridcolor\": \"white\", \"linecolor\": \"white\", \"ticks\": \"\"}}, \"scene\": {\"xaxis\": {\"backgroundcolor\": \"#E5ECF6\", \"gridcolor\": \"white\", \"gridwidth\": 2, \"linecolor\": \"white\", \"showbackground\": true, \"ticks\": \"\", \"zerolinecolor\": \"white\"}, \"yaxis\": {\"backgroundcolor\": \"#E5ECF6\", \"gridcolor\": \"white\", \"gridwidth\": 2, \"linecolor\": \"white\", \"showbackground\": true, \"ticks\": \"\", \"zerolinecolor\": \"white\"}, \"zaxis\": {\"backgroundcolor\": \"#E5ECF6\", \"gridcolor\": \"white\", \"gridwidth\": 2, \"linecolor\": \"white\", \"showbackground\": true, \"ticks\": \"\", \"zerolinecolor\": \"white\"}}, \"shapedefaults\": {\"line\": {\"color\": \"#2a3f5f\"}}, \"ternary\": {\"aaxis\": {\"gridcolor\": \"white\", \"linecolor\": \"white\", \"ticks\": \"\"}, \"baxis\": {\"gridcolor\": \"white\", \"linecolor\": \"white\", \"ticks\": \"\"}, \"bgcolor\": \"#E5ECF6\", \"caxis\": {\"gridcolor\": \"white\", \"linecolor\": \"white\", \"ticks\": \"\"}}, \"title\": {\"x\": 0.05}, \"xaxis\": {\"automargin\": true, \"gridcolor\": \"white\", \"linecolor\": \"white\", \"ticks\": \"\", \"title\": {\"standoff\": 15}, \"zerolinecolor\": \"white\", \"zerolinewidth\": 2}, \"yaxis\": {\"automargin\": true, \"gridcolor\": \"white\", \"linecolor\": \"white\", \"ticks\": \"\", \"title\": {\"standoff\": 15}, \"zerolinecolor\": \"white\", \"zerolinewidth\": 2}}}, \"width\": 500, \"xaxis\": {\"title\": {\"text\": \"Recall\"}}, \"yaxis\": {\"title\": {\"text\": \"Precision\"}}},\n",
              "                        {\"responsive\": true}\n",
              "                    ).then(function(){\n",
              "                            \n",
              "var gd = document.getElementById('f883f554-8e37-4d26-be4c-93af0e520707');\n",
              "var x = new MutationObserver(function (mutations, observer) {{\n",
              "        var display = window.getComputedStyle(gd).display;\n",
              "        if (!display || display === 'none') {{\n",
              "            console.log([gd, 'removed!']);\n",
              "            Plotly.purge(gd);\n",
              "            observer.disconnect();\n",
              "        }}\n",
              "}});\n",
              "\n",
              "// Listen for the removal of the full notebook cells\n",
              "var notebookContainer = gd.closest('#notebook-container');\n",
              "if (notebookContainer) {{\n",
              "    x.observe(notebookContainer, {childList: true});\n",
              "}}\n",
              "\n",
              "// Listen for the clearing of the current output cell\n",
              "var outputEl = gd.closest('.output');\n",
              "if (outputEl) {{\n",
              "    x.observe(outputEl, {childList: true});\n",
              "}}\n",
              "\n",
              "                        })\n",
              "                };\n",
              "                \n",
              "            </script>\n",
              "        </div>\n",
              "</body>\n",
              "</html>"
            ]
          },
          "metadata": {
            "tags": []
          }
        }
      ]
    },
    {
      "cell_type": "markdown",
      "metadata": {
        "id": "lv0yzs_1I10s"
      },
      "source": [
        ""
      ]
    },
    {
      "cell_type": "markdown",
      "metadata": {
        "id": "cCTJQ9DNI1vG"
      },
      "source": [
        "<b>MultiClass classification Seq2Seq LSTM model tried to achieve best performance results, but unfortunately not achieving good performance records   </b>"
      ]
    },
    {
      "cell_type": "code",
      "metadata": {
        "id": "sU3QkPze4AGY"
      },
      "source": [
        ""
      ],
      "execution_count": null,
      "outputs": []
    },
    {
      "cell_type": "code",
      "metadata": {
        "colab": {
          "base_uri": "https://localhost:8080/"
        },
        "id": "thBCYbdU4Ac2",
        "outputId": "1a3f2ce8-2ddf-490a-a20e-3979dd81c7fd"
      },
      "source": [
        "encoder_inputs = tf.keras.layers.Input(shape=(3, n_features - 1))\n",
        "# encoder_l1 = tf.keras.layers.LSTM(20,return_sequences = True, return_state=True)\n",
        "encoder_l1 = tf.keras.layers.LSTM(50, return_sequences=True, return_state=True)\n",
        "encoder_outputs1 = encoder_l1(encoder_inputs)\n",
        "encoder_states1 = encoder_outputs1[1:]\n",
        "# encoder_l2 = tf.keras.layers.LSTM(25, return_state=True)\n",
        "encoder_l2 = tf.keras.layers.LSTM(25, return_state=True)\n",
        "encoder_outputs2 = encoder_l2(encoder_outputs1[0])\n",
        "encoder_states2 = encoder_outputs2[1:]\n",
        "#\n",
        "decoder_inputs = tf.keras.layers.RepeatVector(n_future)(encoder_outputs2[0])\n",
        "#\n",
        "decoder_l1 = tf.keras.layers.LSTM(50, return_sequences=True)(decoder_inputs,initial_state = encoder_states1)\n",
        "decoder_l2 = tf.keras.layers.LSTM(25, return_sequences=True)(decoder_l1,initial_state = encoder_states2)\n",
        "decoder_outputs2 = tf.keras.layers.TimeDistributed(tf.keras.layers.Dense(4, activation=\"softmax\"))(decoder_l2)\n",
        "#\n",
        "model_e2d2 = tf.keras.models.Model(encoder_inputs,decoder_outputs2)\n",
        "#\n",
        "model_e2d2.summary()"
      ],
      "execution_count": null,
      "outputs": [
        {
          "output_type": "stream",
          "text": [
            "Model: \"model_5\"\n",
            "__________________________________________________________________________________________________\n",
            "Layer (type)                    Output Shape         Param #     Connected to                     \n",
            "==================================================================================================\n",
            "input_6 (InputLayer)            [(None, 3, 6)]       0                                            \n",
            "__________________________________________________________________________________________________\n",
            "lstm_20 (LSTM)                  [(None, 3, 50), (Non 11400       input_6[0][0]                    \n",
            "__________________________________________________________________________________________________\n",
            "lstm_21 (LSTM)                  [(None, 25), (None,  7600        lstm_20[0][0]                    \n",
            "__________________________________________________________________________________________________\n",
            "repeat_vector_5 (RepeatVector)  (None, 1, 25)        0           lstm_21[0][0]                    \n",
            "__________________________________________________________________________________________________\n",
            "lstm_22 (LSTM)                  (None, 1, 50)        15200       repeat_vector_5[0][0]            \n",
            "                                                                 lstm_20[0][1]                    \n",
            "                                                                 lstm_20[0][2]                    \n",
            "__________________________________________________________________________________________________\n",
            "lstm_23 (LSTM)                  (None, 1, 25)        7600        lstm_22[0][0]                    \n",
            "                                                                 lstm_21[0][1]                    \n",
            "                                                                 lstm_21[0][2]                    \n",
            "__________________________________________________________________________________________________\n",
            "time_distributed_5 (TimeDistrib (None, 1, 4)         104         lstm_23[0][0]                    \n",
            "==================================================================================================\n",
            "Total params: 41,904\n",
            "Trainable params: 41,904\n",
            "Non-trainable params: 0\n",
            "__________________________________________________________________________________________________\n"
          ],
          "name": "stdout"
        }
      ]
    },
    {
      "cell_type": "code",
      "metadata": {
        "colab": {
          "base_uri": "https://localhost:8080/"
        },
        "id": "jIO9JQPP4NX8",
        "outputId": "1a3f2ce8-2ddf-490a-a20e-3979dd81c7fd"
      },
      "source": [
        "encoder_inputs = tf.keras.layers.Input(shape=(3, n_features - 1))\n",
        "# encoder_l1 = tf.keras.layers.LSTM(20,return_sequences = True, return_state=True)\n",
        "encoder_l1 = tf.keras.layers.LSTM(50, return_sequences=True, return_state=True)\n",
        "encoder_outputs1 = encoder_l1(encoder_inputs)\n",
        "encoder_states1 = encoder_outputs1[1:]\n",
        "# encoder_l2 = tf.keras.layers.LSTM(25, return_state=True)\n",
        "encoder_l2 = tf.keras.layers.LSTM(25, return_state=True)\n",
        "encoder_outputs2 = encoder_l2(encoder_outputs1[0])\n",
        "encoder_states2 = encoder_outputs2[1:]\n",
        "#\n",
        "decoder_inputs = tf.keras.layers.RepeatVector(n_future)(encoder_outputs2[0])\n",
        "#\n",
        "decoder_l1 = tf.keras.layers.LSTM(50, return_sequences=True)(decoder_inputs,initial_state = encoder_states1)\n",
        "decoder_l2 = tf.keras.layers.LSTM(25, return_sequences=True)(decoder_l1,initial_state = encoder_states2)\n",
        "decoder_outputs2 = tf.keras.layers.TimeDistributed(tf.keras.layers.Dense(4, activation=\"softmax\"))(decoder_l2)\n",
        "#\n",
        "model_e2d2 = tf.keras.models.Model(encoder_inputs,decoder_outputs2)\n",
        "#\n",
        "model_e2d2.summary()"
      ],
      "execution_count": null,
      "outputs": [
        {
          "output_type": "stream",
          "text": [
            "Model: \"model_5\"\n",
            "__________________________________________________________________________________________________\n",
            "Layer (type)                    Output Shape         Param #     Connected to                     \n",
            "==================================================================================================\n",
            "input_6 (InputLayer)            [(None, 3, 6)]       0                                            \n",
            "__________________________________________________________________________________________________\n",
            "lstm_20 (LSTM)                  [(None, 3, 50), (Non 11400       input_6[0][0]                    \n",
            "__________________________________________________________________________________________________\n",
            "lstm_21 (LSTM)                  [(None, 25), (None,  7600        lstm_20[0][0]                    \n",
            "__________________________________________________________________________________________________\n",
            "repeat_vector_5 (RepeatVector)  (None, 1, 25)        0           lstm_21[0][0]                    \n",
            "__________________________________________________________________________________________________\n",
            "lstm_22 (LSTM)                  (None, 1, 50)        15200       repeat_vector_5[0][0]            \n",
            "                                                                 lstm_20[0][1]                    \n",
            "                                                                 lstm_20[0][2]                    \n",
            "__________________________________________________________________________________________________\n",
            "lstm_23 (LSTM)                  (None, 1, 25)        7600        lstm_22[0][0]                    \n",
            "                                                                 lstm_21[0][1]                    \n",
            "                                                                 lstm_21[0][2]                    \n",
            "__________________________________________________________________________________________________\n",
            "time_distributed_5 (TimeDistrib (None, 1, 4)         104         lstm_23[0][0]                    \n",
            "==================================================================================================\n",
            "Total params: 41,904\n",
            "Trainable params: 41,904\n",
            "Non-trainable params: 0\n",
            "__________________________________________________________________________________________________\n"
          ],
          "name": "stdout"
        }
      ]
    },
    {
      "cell_type": "code",
      "metadata": {
        "colab": {
          "base_uri": "https://localhost:8080/"
        },
        "id": "zeyWNBHS4NX-",
        "outputId": "fc6edcbb-aa99-4966-8cee-2f8461cbd554"
      },
      "source": [
        "reduce_lr = tf.keras.callbacks.LearningRateScheduler(lambda x: 1e-7 * 0.90 ** x)\n",
        "opt = tf.keras.optimizers.Adam(learning_rate=0.01, epsilon=1e-2, clipvalue=0.5)\n",
        "# sample_weight[y_train.reshape(y_train.shape[0]) == 1] = 15\n",
        "\n",
        "# model_e1d1.compile(optimizer=tf.keras.optimizers.Adam(), loss=tf.keras.losses.MeanAbsoluteError())\n",
        "# history_e1d1=model_e1d1.fit(X_train,y_train,epochs=50,validation_data=(X_test,y_test),batch_size=20,verbose=2,callbacks=[reduce_lr], shuffle=False)\n",
        "\n",
        "model_e2d2.compile(optimizer=opt, loss='categorical_crossentropy', metrics=['accuracy'])\n",
        "history=model_e2d2.fit(X_train,y_train1,epochs=1000,validation_data=(X_test,y_test1),batch_size=100,verbose=2, shuffle=False, sample_weight=sample_weight)"
      ],
      "execution_count": null,
      "outputs": [
        {
          "output_type": "stream",
          "text": [
            "Epoch 1/1000\n",
            "33/33 - 8s - loss: 3.0557 - accuracy: 0.8015 - val_loss: 0.9381 - val_accuracy: 0.9728\n",
            "Epoch 2/1000\n",
            "33/33 - 0s - loss: 2.9654 - accuracy: 0.9737 - val_loss: 0.8560 - val_accuracy: 0.9728\n",
            "Epoch 3/1000\n",
            "33/33 - 0s - loss: 2.9669 - accuracy: 0.9737 - val_loss: 0.8746 - val_accuracy: 0.9728\n",
            "Epoch 4/1000\n",
            "33/33 - 0s - loss: 2.9664 - accuracy: 0.9737 - val_loss: 0.8696 - val_accuracy: 0.9728\n",
            "Epoch 5/1000\n",
            "33/33 - 0s - loss: 2.9663 - accuracy: 0.9737 - val_loss: 0.8694 - val_accuracy: 0.9728\n",
            "Epoch 6/1000\n",
            "33/33 - 0s - loss: 2.9660 - accuracy: 0.9737 - val_loss: 0.8684 - val_accuracy: 0.9728\n",
            "Epoch 7/1000\n",
            "33/33 - 0s - loss: 2.9656 - accuracy: 0.9737 - val_loss: 0.8675 - val_accuracy: 0.9728\n",
            "Epoch 8/1000\n",
            "33/33 - 0s - loss: 2.9652 - accuracy: 0.9737 - val_loss: 0.8667 - val_accuracy: 0.9728\n",
            "Epoch 9/1000\n",
            "33/33 - 0s - loss: 2.9647 - accuracy: 0.9737 - val_loss: 0.8659 - val_accuracy: 0.9728\n",
            "Epoch 10/1000\n",
            "33/33 - 0s - loss: 2.9643 - accuracy: 0.9737 - val_loss: 0.8652 - val_accuracy: 0.9728\n",
            "Epoch 11/1000\n",
            "33/33 - 0s - loss: 2.9639 - accuracy: 0.9737 - val_loss: 0.8644 - val_accuracy: 0.9728\n",
            "Epoch 12/1000\n",
            "33/33 - 0s - loss: 2.9634 - accuracy: 0.9737 - val_loss: 0.8637 - val_accuracy: 0.9728\n",
            "Epoch 13/1000\n",
            "33/33 - 0s - loss: 2.9629 - accuracy: 0.9737 - val_loss: 0.8630 - val_accuracy: 0.9728\n",
            "Epoch 14/1000\n",
            "33/33 - 0s - loss: 2.9623 - accuracy: 0.9737 - val_loss: 0.8624 - val_accuracy: 0.9728\n",
            "Epoch 15/1000\n",
            "33/33 - 0s - loss: 2.9617 - accuracy: 0.9737 - val_loss: 0.8617 - val_accuracy: 0.9728\n",
            "Epoch 16/1000\n",
            "33/33 - 0s - loss: 2.9610 - accuracy: 0.9737 - val_loss: 0.8612 - val_accuracy: 0.9728\n",
            "Epoch 17/1000\n",
            "33/33 - 0s - loss: 2.9602 - accuracy: 0.9737 - val_loss: 0.8610 - val_accuracy: 0.9728\n",
            "Epoch 18/1000\n",
            "33/33 - 0s - loss: 2.9593 - accuracy: 0.9737 - val_loss: 0.8610 - val_accuracy: 0.9728\n",
            "Epoch 19/1000\n",
            "33/33 - 0s - loss: 2.9583 - accuracy: 0.9737 - val_loss: 0.8616 - val_accuracy: 0.9728\n",
            "Epoch 20/1000\n",
            "33/33 - 0s - loss: 2.9572 - accuracy: 0.9737 - val_loss: 0.8632 - val_accuracy: 0.9728\n",
            "Epoch 21/1000\n",
            "33/33 - 0s - loss: 2.9561 - accuracy: 0.9737 - val_loss: 0.8659 - val_accuracy: 0.9728\n",
            "Epoch 22/1000\n",
            "33/33 - 0s - loss: 2.9549 - accuracy: 0.9737 - val_loss: 0.8700 - val_accuracy: 0.9728\n",
            "Epoch 23/1000\n",
            "33/33 - 0s - loss: 2.9537 - accuracy: 0.9737 - val_loss: 0.8758 - val_accuracy: 0.9728\n",
            "Epoch 24/1000\n",
            "33/33 - 0s - loss: 2.9525 - accuracy: 0.9737 - val_loss: 0.8831 - val_accuracy: 0.9728\n",
            "Epoch 25/1000\n",
            "33/33 - 0s - loss: 2.9513 - accuracy: 0.9737 - val_loss: 0.8908 - val_accuracy: 0.9728\n",
            "Epoch 26/1000\n",
            "33/33 - 0s - loss: 2.9499 - accuracy: 0.9737 - val_loss: 0.8974 - val_accuracy: 0.9728\n",
            "Epoch 27/1000\n",
            "33/33 - 0s - loss: 2.9483 - accuracy: 0.9737 - val_loss: 0.9008 - val_accuracy: 0.9728\n",
            "Epoch 28/1000\n",
            "33/33 - 0s - loss: 2.9462 - accuracy: 0.9737 - val_loss: 0.9011 - val_accuracy: 0.9728\n",
            "Epoch 29/1000\n",
            "33/33 - 0s - loss: 2.9437 - accuracy: 0.9737 - val_loss: 0.9004 - val_accuracy: 0.9728\n",
            "Epoch 30/1000\n",
            "33/33 - 0s - loss: 2.9410 - accuracy: 0.9737 - val_loss: 0.9000 - val_accuracy: 0.9728\n",
            "Epoch 31/1000\n",
            "33/33 - 0s - loss: 2.9381 - accuracy: 0.9737 - val_loss: 0.8999 - val_accuracy: 0.9728\n",
            "Epoch 32/1000\n",
            "33/33 - 0s - loss: 2.9347 - accuracy: 0.9737 - val_loss: 0.8998 - val_accuracy: 0.9728\n",
            "Epoch 33/1000\n",
            "33/33 - 0s - loss: 2.9307 - accuracy: 0.9737 - val_loss: 0.8993 - val_accuracy: 0.9728\n",
            "Epoch 34/1000\n",
            "33/33 - 0s - loss: 2.9259 - accuracy: 0.9737 - val_loss: 0.8986 - val_accuracy: 0.9728\n",
            "Epoch 35/1000\n",
            "33/33 - 0s - loss: 2.9203 - accuracy: 0.9737 - val_loss: 0.8977 - val_accuracy: 0.9728\n",
            "Epoch 36/1000\n",
            "33/33 - 0s - loss: 2.9135 - accuracy: 0.9737 - val_loss: 0.8960 - val_accuracy: 0.9728\n",
            "Epoch 37/1000\n",
            "33/33 - 0s - loss: 2.9055 - accuracy: 0.9737 - val_loss: 0.8928 - val_accuracy: 0.9728\n",
            "Epoch 38/1000\n",
            "33/33 - 0s - loss: 2.8968 - accuracy: 0.9737 - val_loss: 0.8881 - val_accuracy: 0.9728\n",
            "Epoch 39/1000\n",
            "33/33 - 0s - loss: 2.8887 - accuracy: 0.9737 - val_loss: 0.8827 - val_accuracy: 0.9728\n",
            "Epoch 40/1000\n",
            "33/33 - 0s - loss: 2.8823 - accuracy: 0.9737 - val_loss: 0.8778 - val_accuracy: 0.9728\n",
            "Epoch 41/1000\n",
            "33/33 - 0s - loss: 2.8777 - accuracy: 0.9737 - val_loss: 0.8747 - val_accuracy: 0.9728\n",
            "Epoch 42/1000\n",
            "33/33 - 0s - loss: 2.8741 - accuracy: 0.9737 - val_loss: 0.8738 - val_accuracy: 0.9728\n",
            "Epoch 43/1000\n",
            "33/33 - 0s - loss: 2.8711 - accuracy: 0.9737 - val_loss: 0.8743 - val_accuracy: 0.9728\n",
            "Epoch 44/1000\n",
            "33/33 - 0s - loss: 2.8683 - accuracy: 0.9737 - val_loss: 0.8760 - val_accuracy: 0.9728\n",
            "Epoch 45/1000\n",
            "33/33 - 0s - loss: 2.8655 - accuracy: 0.9737 - val_loss: 0.8782 - val_accuracy: 0.9728\n",
            "Epoch 46/1000\n",
            "33/33 - 0s - loss: 2.8627 - accuracy: 0.9734 - val_loss: 0.8809 - val_accuracy: 0.9728\n",
            "Epoch 47/1000\n",
            "33/33 - 0s - loss: 2.8597 - accuracy: 0.9719 - val_loss: 0.8835 - val_accuracy: 0.9728\n",
            "Epoch 48/1000\n",
            "33/33 - 0s - loss: 2.8568 - accuracy: 0.9716 - val_loss: 0.8866 - val_accuracy: 0.9728\n",
            "Epoch 49/1000\n",
            "33/33 - 0s - loss: 2.8532 - accuracy: 0.9716 - val_loss: 0.8888 - val_accuracy: 0.9728\n",
            "Epoch 50/1000\n",
            "33/33 - 0s - loss: 2.8501 - accuracy: 0.9716 - val_loss: 0.8914 - val_accuracy: 0.9728\n",
            "Epoch 51/1000\n",
            "33/33 - 0s - loss: 2.8451 - accuracy: 0.9713 - val_loss: 0.8907 - val_accuracy: 0.9728\n",
            "Epoch 52/1000\n",
            "33/33 - 0s - loss: 2.8418 - accuracy: 0.9698 - val_loss: 0.8919 - val_accuracy: 0.9728\n",
            "Epoch 53/1000\n",
            "33/33 - 0s - loss: 2.8351 - accuracy: 0.9670 - val_loss: 0.8860 - val_accuracy: 0.9728\n",
            "Epoch 54/1000\n",
            "33/33 - 0s - loss: 2.8308 - accuracy: 0.9661 - val_loss: 0.8840 - val_accuracy: 0.9717\n",
            "Epoch 55/1000\n",
            "33/33 - 0s - loss: 2.8232 - accuracy: 0.9652 - val_loss: 0.8751 - val_accuracy: 0.9728\n",
            "Epoch 56/1000\n",
            "33/33 - 0s - loss: 2.8164 - accuracy: 0.9542 - val_loss: 0.8705 - val_accuracy: 0.9728\n",
            "Epoch 57/1000\n",
            "33/33 - 0s - loss: 2.8082 - accuracy: 0.9466 - val_loss: 0.8671 - val_accuracy: 0.9634\n",
            "Epoch 58/1000\n",
            "33/33 - 0s - loss: 2.8002 - accuracy: 0.9359 - val_loss: 0.8743 - val_accuracy: 0.9280\n",
            "Epoch 59/1000\n",
            "33/33 - 0s - loss: 2.7924 - accuracy: 0.9234 - val_loss: 0.8971 - val_accuracy: 0.8996\n",
            "Epoch 60/1000\n",
            "33/33 - 0s - loss: 2.7846 - accuracy: 0.8995 - val_loss: 0.9298 - val_accuracy: 0.8796\n",
            "Epoch 61/1000\n",
            "33/33 - 0s - loss: 2.7787 - accuracy: 0.8864 - val_loss: 0.9626 - val_accuracy: 0.8229\n",
            "Epoch 62/1000\n",
            "33/33 - 0s - loss: 2.7850 - accuracy: 0.8565 - val_loss: 0.9309 - val_accuracy: 0.8229\n",
            "Epoch 63/1000\n",
            "33/33 - 0s - loss: 2.8179 - accuracy: 0.8021 - val_loss: 0.7549 - val_accuracy: 0.9705\n",
            "Epoch 64/1000\n",
            "33/33 - 0s - loss: 2.8410 - accuracy: 0.8131 - val_loss: 0.8752 - val_accuracy: 0.8949\n",
            "Epoch 65/1000\n",
            "33/33 - 0s - loss: 2.7859 - accuracy: 0.8556 - val_loss: 0.7976 - val_accuracy: 0.9634\n",
            "Epoch 66/1000\n",
            "33/33 - 0s - loss: 2.7879 - accuracy: 0.8040 - val_loss: 0.8651 - val_accuracy: 0.9445\n",
            "Epoch 67/1000\n",
            "33/33 - 0s - loss: 2.7863 - accuracy: 0.8452 - val_loss: 0.8859 - val_accuracy: 0.8867\n",
            "Epoch 68/1000\n",
            "33/33 - 0s - loss: 2.7612 - accuracy: 0.8727 - val_loss: 0.8631 - val_accuracy: 0.9303\n",
            "Epoch 69/1000\n",
            "33/33 - 0s - loss: 2.7467 - accuracy: 0.8272 - val_loss: 0.8450 - val_accuracy: 0.9398\n",
            "Epoch 70/1000\n",
            "33/33 - 0s - loss: 2.7668 - accuracy: 0.7881 - val_loss: 0.8375 - val_accuracy: 0.8973\n",
            "Epoch 71/1000\n",
            "33/33 - 0s - loss: 2.7603 - accuracy: 0.7887 - val_loss: 0.8174 - val_accuracy: 0.9020\n",
            "Epoch 72/1000\n",
            "33/33 - 0s - loss: 2.7490 - accuracy: 0.7973 - val_loss: 0.8189 - val_accuracy: 0.9032\n",
            "Epoch 73/1000\n",
            "33/33 - 0s - loss: 2.7341 - accuracy: 0.7918 - val_loss: 0.8323 - val_accuracy: 0.8949\n",
            "Epoch 74/1000\n",
            "33/33 - 0s - loss: 2.7225 - accuracy: 0.7692 - val_loss: 0.8433 - val_accuracy: 0.8973\n",
            "Epoch 75/1000\n",
            "33/33 - 0s - loss: 2.7214 - accuracy: 0.7624 - val_loss: 0.8538 - val_accuracy: 0.8843\n",
            "Epoch 76/1000\n",
            "33/33 - 0s - loss: 2.7344 - accuracy: 0.7747 - val_loss: 0.8744 - val_accuracy: 0.8536\n",
            "Epoch 77/1000\n",
            "33/33 - 0s - loss: 2.7433 - accuracy: 0.7915 - val_loss: 0.8798 - val_accuracy: 0.8111\n",
            "Epoch 78/1000\n",
            "33/33 - 0s - loss: 2.7206 - accuracy: 0.8024 - val_loss: 0.7882 - val_accuracy: 0.8796\n",
            "Epoch 79/1000\n",
            "33/33 - 0s - loss: 2.7238 - accuracy: 0.7597 - val_loss: 0.7460 - val_accuracy: 0.8418\n",
            "Epoch 80/1000\n",
            "33/33 - 0s - loss: 2.7709 - accuracy: 0.7490 - val_loss: 0.7755 - val_accuracy: 0.9433\n",
            "Epoch 81/1000\n",
            "33/33 - 0s - loss: 2.7535 - accuracy: 0.7957 - val_loss: 0.8996 - val_accuracy: 0.8300\n",
            "Epoch 82/1000\n",
            "33/33 - 0s - loss: 2.6933 - accuracy: 0.8556 - val_loss: 0.8624 - val_accuracy: 0.7934\n",
            "Epoch 83/1000\n",
            "33/33 - 0s - loss: 2.6628 - accuracy: 0.7957 - val_loss: 0.7825 - val_accuracy: 0.8713\n",
            "Epoch 84/1000\n",
            "33/33 - 0s - loss: 2.6753 - accuracy: 0.7402 - val_loss: 0.8006 - val_accuracy: 0.8701\n",
            "Epoch 85/1000\n",
            "33/33 - 0s - loss: 2.6547 - accuracy: 0.7142 - val_loss: 0.8371 - val_accuracy: 0.8465\n",
            "Epoch 86/1000\n",
            "33/33 - 0s - loss: 2.6566 - accuracy: 0.7463 - val_loss: 0.8537 - val_accuracy: 0.7816\n",
            "Epoch 87/1000\n",
            "33/33 - 0s - loss: 2.6774 - accuracy: 0.7713 - val_loss: 0.8332 - val_accuracy: 0.8560\n",
            "Epoch 88/1000\n",
            "33/33 - 0s - loss: 2.6816 - accuracy: 0.7939 - val_loss: 0.8828 - val_accuracy: 0.8524\n",
            "Epoch 89/1000\n",
            "33/33 - 0s - loss: 2.6754 - accuracy: 0.7948 - val_loss: 0.8515 - val_accuracy: 0.8253\n",
            "Epoch 90/1000\n",
            "33/33 - 0s - loss: 2.6505 - accuracy: 0.7536 - val_loss: 0.8181 - val_accuracy: 0.8442\n",
            "Epoch 91/1000\n",
            "33/33 - 0s - loss: 2.6321 - accuracy: 0.7499 - val_loss: 0.8484 - val_accuracy: 0.7910\n",
            "Epoch 92/1000\n",
            "33/33 - 0s - loss: 2.6237 - accuracy: 0.7597 - val_loss: 0.8642 - val_accuracy: 0.8099\n",
            "Epoch 93/1000\n",
            "33/33 - 0s - loss: 2.6375 - accuracy: 0.7331 - val_loss: 0.8041 - val_accuracy: 0.8630\n",
            "Epoch 94/1000\n",
            "33/33 - 0s - loss: 2.6473 - accuracy: 0.7053 - val_loss: 0.6973 - val_accuracy: 0.9492\n",
            "Epoch 95/1000\n",
            "33/33 - 0s - loss: 2.6362 - accuracy: 0.7450 - val_loss: 0.8277 - val_accuracy: 0.7828\n",
            "Epoch 96/1000\n",
            "33/33 - 0s - loss: 2.6357 - accuracy: 0.7753 - val_loss: 0.9420 - val_accuracy: 0.7296\n",
            "Epoch 97/1000\n",
            "33/33 - 0s - loss: 2.7615 - accuracy: 0.7750 - val_loss: 0.9449 - val_accuracy: 0.6765\n",
            "Epoch 98/1000\n",
            "33/33 - 0s - loss: 2.7079 - accuracy: 0.8431 - val_loss: 0.8388 - val_accuracy: 0.7875\n",
            "Epoch 99/1000\n",
            "33/33 - 0s - loss: 2.6716 - accuracy: 0.7765 - val_loss: 0.8909 - val_accuracy: 0.7143\n",
            "Epoch 100/1000\n",
            "33/33 - 0s - loss: 2.6499 - accuracy: 0.7841 - val_loss: 0.8721 - val_accuracy: 0.8135\n",
            "Epoch 101/1000\n",
            "33/33 - 0s - loss: 2.6481 - accuracy: 0.7731 - val_loss: 0.7575 - val_accuracy: 0.8241\n",
            "Epoch 102/1000\n",
            "33/33 - 0s - loss: 2.6481 - accuracy: 0.7411 - val_loss: 0.8150 - val_accuracy: 0.7190\n",
            "Epoch 103/1000\n",
            "33/33 - 0s - loss: 2.7287 - accuracy: 0.7270 - val_loss: 0.7068 - val_accuracy: 0.9221\n",
            "Epoch 104/1000\n",
            "33/33 - 0s - loss: 2.6839 - accuracy: 0.8403 - val_loss: 0.8358 - val_accuracy: 0.6989\n",
            "Epoch 105/1000\n",
            "33/33 - 0s - loss: 2.7859 - accuracy: 0.6760 - val_loss: 0.9432 - val_accuracy: 0.7639\n",
            "Epoch 106/1000\n",
            "33/33 - 0s - loss: 2.6600 - accuracy: 0.8895 - val_loss: 0.8759 - val_accuracy: 0.8465\n",
            "Epoch 107/1000\n",
            "33/33 - 0s - loss: 2.6382 - accuracy: 0.7115 - val_loss: 0.8635 - val_accuracy: 0.7344\n",
            "Epoch 108/1000\n",
            "33/33 - 0s - loss: 2.5931 - accuracy: 0.7624 - val_loss: 0.8111 - val_accuracy: 0.8595\n",
            "Epoch 109/1000\n",
            "33/33 - 0s - loss: 2.5643 - accuracy: 0.7285 - val_loss: 0.8459 - val_accuracy: 0.8076\n",
            "Epoch 110/1000\n",
            "33/33 - 0s - loss: 2.5462 - accuracy: 0.7759 - val_loss: 0.8080 - val_accuracy: 0.8288\n",
            "Epoch 111/1000\n",
            "33/33 - 0s - loss: 2.5206 - accuracy: 0.7118 - val_loss: 0.7660 - val_accuracy: 0.8430\n",
            "Epoch 112/1000\n",
            "33/33 - 0s - loss: 2.5129 - accuracy: 0.7328 - val_loss: 0.8181 - val_accuracy: 0.8335\n",
            "Epoch 113/1000\n",
            "33/33 - 0s - loss: 2.4888 - accuracy: 0.7655 - val_loss: 0.8335 - val_accuracy: 0.7686\n",
            "Epoch 114/1000\n",
            "33/33 - 0s - loss: 2.5250 - accuracy: 0.7566 - val_loss: 0.8712 - val_accuracy: 0.7485\n",
            "Epoch 115/1000\n",
            "33/33 - 0s - loss: 2.7000 - accuracy: 0.7356 - val_loss: 1.0680 - val_accuracy: 0.6257\n",
            "Epoch 116/1000\n",
            "33/33 - 0s - loss: 2.6591 - accuracy: 0.8027 - val_loss: 0.8330 - val_accuracy: 0.8194\n",
            "Epoch 117/1000\n",
            "33/33 - 0s - loss: 2.5379 - accuracy: 0.7365 - val_loss: 0.7297 - val_accuracy: 0.8595\n",
            "Epoch 118/1000\n",
            "33/33 - 0s - loss: 2.5198 - accuracy: 0.7414 - val_loss: 0.7865 - val_accuracy: 0.7981\n",
            "Epoch 119/1000\n",
            "33/33 - 0s - loss: 2.5035 - accuracy: 0.6904 - val_loss: 0.7796 - val_accuracy: 0.8052\n",
            "Epoch 120/1000\n",
            "33/33 - 0s - loss: 2.4664 - accuracy: 0.7392 - val_loss: 0.8524 - val_accuracy: 0.6942\n",
            "Epoch 121/1000\n",
            "33/33 - 0s - loss: 2.4491 - accuracy: 0.7166 - val_loss: 0.7782 - val_accuracy: 0.7096\n",
            "Epoch 122/1000\n",
            "33/33 - 0s - loss: 2.6374 - accuracy: 0.6769 - val_loss: 0.6076 - val_accuracy: 0.8548\n",
            "Epoch 123/1000\n",
            "33/33 - 0s - loss: 2.6522 - accuracy: 0.6556 - val_loss: 1.0067 - val_accuracy: 0.5915\n",
            "Epoch 124/1000\n",
            "33/33 - 0s - loss: 2.4936 - accuracy: 0.7585 - val_loss: 0.8990 - val_accuracy: 0.6576\n",
            "Epoch 125/1000\n",
            "33/33 - 0s - loss: 2.4728 - accuracy: 0.6953 - val_loss: 0.6893 - val_accuracy: 0.7875\n",
            "Epoch 126/1000\n",
            "33/33 - 0s - loss: 2.3923 - accuracy: 0.7026 - val_loss: 0.7319 - val_accuracy: 0.8288\n",
            "Epoch 127/1000\n",
            "33/33 - 0s - loss: 2.5344 - accuracy: 0.6916 - val_loss: 0.7679 - val_accuracy: 0.7934\n",
            "Epoch 128/1000\n",
            "33/33 - 0s - loss: 2.4329 - accuracy: 0.6858 - val_loss: 0.8032 - val_accuracy: 0.7627\n",
            "Epoch 129/1000\n",
            "33/33 - 0s - loss: 2.4434 - accuracy: 0.7292 - val_loss: 0.7113 - val_accuracy: 0.8253\n",
            "Epoch 130/1000\n",
            "33/33 - 0s - loss: 2.5031 - accuracy: 0.7096 - val_loss: 0.9727 - val_accuracy: 0.6340\n",
            "Epoch 131/1000\n",
            "33/33 - 0s - loss: 2.5663 - accuracy: 0.6834 - val_loss: 0.6974 - val_accuracy: 0.8312\n",
            "Epoch 132/1000\n",
            "33/33 - 0s - loss: 2.5215 - accuracy: 0.5646 - val_loss: 0.7573 - val_accuracy: 0.7922\n",
            "Epoch 133/1000\n",
            "33/33 - 0s - loss: 2.4512 - accuracy: 0.7237 - val_loss: 0.8294 - val_accuracy: 0.7485\n",
            "Epoch 134/1000\n",
            "33/33 - 0s - loss: 2.4357 - accuracy: 0.7426 - val_loss: 0.6888 - val_accuracy: 0.8052\n",
            "Epoch 135/1000\n",
            "33/33 - 0s - loss: 2.6436 - accuracy: 0.7264 - val_loss: 1.0488 - val_accuracy: 0.6541\n",
            "Epoch 136/1000\n",
            "33/33 - 0s - loss: 2.6555 - accuracy: 0.8275 - val_loss: 0.8629 - val_accuracy: 0.7591\n",
            "Epoch 137/1000\n",
            "33/33 - 0s - loss: 2.5677 - accuracy: 0.7298 - val_loss: 0.8200 - val_accuracy: 0.7887\n",
            "Epoch 138/1000\n",
            "33/33 - 0s - loss: 2.4508 - accuracy: 0.8082 - val_loss: 0.7570 - val_accuracy: 0.7662\n",
            "Epoch 139/1000\n",
            "33/33 - 0s - loss: 2.3571 - accuracy: 0.7508 - val_loss: 0.7949 - val_accuracy: 0.7792\n",
            "Epoch 140/1000\n",
            "33/33 - 0s - loss: 2.3050 - accuracy: 0.7661 - val_loss: 0.7748 - val_accuracy: 0.7698\n",
            "Epoch 141/1000\n",
            "33/33 - 0s - loss: 2.2875 - accuracy: 0.7667 - val_loss: 0.8914 - val_accuracy: 0.7273\n",
            "Epoch 142/1000\n",
            "33/33 - 0s - loss: 2.3212 - accuracy: 0.7380 - val_loss: 0.8573 - val_accuracy: 0.7119\n",
            "Epoch 143/1000\n",
            "33/33 - 0s - loss: 2.3038 - accuracy: 0.7615 - val_loss: 0.8076 - val_accuracy: 0.7615\n",
            "Epoch 144/1000\n",
            "33/33 - 0s - loss: 2.2708 - accuracy: 0.7600 - val_loss: 0.7390 - val_accuracy: 0.7839\n",
            "Epoch 145/1000\n",
            "33/33 - 0s - loss: 2.3466 - accuracy: 0.7505 - val_loss: 0.8858 - val_accuracy: 0.6257\n",
            "Epoch 146/1000\n",
            "33/33 - 0s - loss: 2.9054 - accuracy: 0.6821 - val_loss: 0.5162 - val_accuracy: 0.8831\n",
            "Epoch 147/1000\n",
            "33/33 - 0s - loss: 2.5969 - accuracy: 0.7487 - val_loss: 0.8078 - val_accuracy: 0.7839\n",
            "Epoch 148/1000\n",
            "33/33 - 0s - loss: 2.4561 - accuracy: 0.7521 - val_loss: 0.7293 - val_accuracy: 0.8111\n",
            "Epoch 149/1000\n",
            "33/33 - 0s - loss: 2.4232 - accuracy: 0.7350 - val_loss: 0.7452 - val_accuracy: 0.7910\n",
            "Epoch 150/1000\n",
            "33/33 - 0s - loss: 2.3147 - accuracy: 0.7353 - val_loss: 0.8733 - val_accuracy: 0.7072\n",
            "Epoch 151/1000\n",
            "33/33 - 0s - loss: 2.2396 - accuracy: 0.7466 - val_loss: 0.8820 - val_accuracy: 0.6175\n",
            "Epoch 152/1000\n",
            "33/33 - 0s - loss: 2.6110 - accuracy: 0.7276 - val_loss: 0.7386 - val_accuracy: 0.8312\n",
            "Epoch 153/1000\n",
            "33/33 - 0s - loss: 2.4022 - accuracy: 0.7423 - val_loss: 0.6467 - val_accuracy: 0.8489\n",
            "Epoch 154/1000\n",
            "33/33 - 0s - loss: 2.2691 - accuracy: 0.7295 - val_loss: 0.9246 - val_accuracy: 0.6564\n",
            "Epoch 155/1000\n",
            "33/33 - 0s - loss: 2.6030 - accuracy: 0.7518 - val_loss: 0.8466 - val_accuracy: 0.7178\n",
            "Epoch 156/1000\n",
            "33/33 - 0s - loss: 2.4376 - accuracy: 0.7747 - val_loss: 0.7946 - val_accuracy: 0.6930\n",
            "Epoch 157/1000\n",
            "33/33 - 0s - loss: 2.2316 - accuracy: 0.7334 - val_loss: 0.6840 - val_accuracy: 0.8347\n",
            "Epoch 158/1000\n",
            "33/33 - 0s - loss: 2.1995 - accuracy: 0.7215 - val_loss: 0.6824 - val_accuracy: 0.8076\n",
            "Epoch 159/1000\n",
            "33/33 - 0s - loss: 2.1928 - accuracy: 0.7673 - val_loss: 0.7430 - val_accuracy: 0.7816\n",
            "Epoch 160/1000\n",
            "33/33 - 0s - loss: 2.2098 - accuracy: 0.7347 - val_loss: 0.8026 - val_accuracy: 0.7591\n",
            "Epoch 161/1000\n",
            "33/33 - 0s - loss: 2.2194 - accuracy: 0.7524 - val_loss: 0.7976 - val_accuracy: 0.7839\n",
            "Epoch 162/1000\n",
            "33/33 - 0s - loss: 2.1583 - accuracy: 0.8220 - val_loss: 0.6210 - val_accuracy: 0.8571\n",
            "Epoch 163/1000\n",
            "33/33 - 0s - loss: 2.1036 - accuracy: 0.7249 - val_loss: 0.7892 - val_accuracy: 0.7651\n",
            "Epoch 164/1000\n",
            "33/33 - 0s - loss: 2.3024 - accuracy: 0.7328 - val_loss: 0.8664 - val_accuracy: 0.7568\n",
            "Epoch 165/1000\n",
            "33/33 - 0s - loss: 2.3799 - accuracy: 0.7240 - val_loss: 0.7042 - val_accuracy: 0.8028\n",
            "Epoch 166/1000\n",
            "33/33 - 0s - loss: 2.6792 - accuracy: 0.7426 - val_loss: 0.9986 - val_accuracy: 0.5502\n",
            "Epoch 167/1000\n",
            "33/33 - 0s - loss: 2.7409 - accuracy: 0.7056 - val_loss: 0.7566 - val_accuracy: 0.8229\n",
            "Epoch 168/1000\n",
            "33/33 - 0s - loss: 2.4577 - accuracy: 0.7148 - val_loss: 0.8139 - val_accuracy: 0.7839\n",
            "Epoch 169/1000\n",
            "33/33 - 0s - loss: 2.4579 - accuracy: 0.7402 - val_loss: 0.8110 - val_accuracy: 0.7568\n",
            "Epoch 170/1000\n",
            "33/33 - 0s - loss: 2.3829 - accuracy: 0.7383 - val_loss: 0.8028 - val_accuracy: 0.7166\n",
            "Epoch 171/1000\n",
            "33/33 - 0s - loss: 2.3074 - accuracy: 0.7069 - val_loss: 0.7536 - val_accuracy: 0.8253\n",
            "Epoch 172/1000\n",
            "33/33 - 0s - loss: 2.3437 - accuracy: 0.7948 - val_loss: 0.8427 - val_accuracy: 0.6919\n",
            "Epoch 173/1000\n",
            "33/33 - 0s - loss: 2.4081 - accuracy: 0.7133 - val_loss: 0.7945 - val_accuracy: 0.7438\n",
            "Epoch 174/1000\n",
            "33/33 - 0s - loss: 2.4897 - accuracy: 0.7328 - val_loss: 0.6426 - val_accuracy: 0.8312\n",
            "Epoch 175/1000\n",
            "33/33 - 0s - loss: 2.3709 - accuracy: 0.7701 - val_loss: 0.7075 - val_accuracy: 0.8406\n",
            "Epoch 176/1000\n",
            "33/33 - 0s - loss: 2.2178 - accuracy: 0.8180 - val_loss: 0.8173 - val_accuracy: 0.6588\n",
            "Epoch 177/1000\n",
            "33/33 - 0s - loss: 2.1929 - accuracy: 0.7679 - val_loss: 0.7161 - val_accuracy: 0.8028\n",
            "Epoch 178/1000\n",
            "33/33 - 0s - loss: 2.0443 - accuracy: 0.7808 - val_loss: 0.7179 - val_accuracy: 0.7981\n",
            "Epoch 179/1000\n",
            "33/33 - 0s - loss: 1.9959 - accuracy: 0.7832 - val_loss: 0.7013 - val_accuracy: 0.8099\n",
            "Epoch 180/1000\n",
            "33/33 - 0s - loss: 1.9874 - accuracy: 0.7685 - val_loss: 0.6583 - val_accuracy: 0.8288\n",
            "Epoch 181/1000\n",
            "33/33 - 0s - loss: 1.9894 - accuracy: 0.7212 - val_loss: 0.5946 - val_accuracy: 0.8548\n",
            "Epoch 182/1000\n",
            "33/33 - 0s - loss: 2.0574 - accuracy: 0.7279 - val_loss: 0.6761 - val_accuracy: 0.7745\n",
            "Epoch 183/1000\n",
            "33/33 - 0s - loss: 2.0719 - accuracy: 0.7643 - val_loss: 0.7344 - val_accuracy: 0.7603\n",
            "Epoch 184/1000\n",
            "33/33 - 0s - loss: 2.5610 - accuracy: 0.7169 - val_loss: 0.8661 - val_accuracy: 0.7013\n",
            "Epoch 185/1000\n",
            "33/33 - 0s - loss: 2.5525 - accuracy: 0.7359 - val_loss: 0.7619 - val_accuracy: 0.7119\n",
            "Epoch 186/1000\n",
            "33/33 - 0s - loss: 2.2339 - accuracy: 0.7539 - val_loss: 0.7872 - val_accuracy: 0.7391\n",
            "Epoch 187/1000\n",
            "33/33 - 0s - loss: 2.1060 - accuracy: 0.8052 - val_loss: 0.7603 - val_accuracy: 0.7792\n",
            "Epoch 188/1000\n",
            "33/33 - 0s - loss: 2.0182 - accuracy: 0.7783 - val_loss: 0.6564 - val_accuracy: 0.7875\n",
            "Epoch 189/1000\n",
            "33/33 - 0s - loss: 2.0445 - accuracy: 0.7689 - val_loss: 0.7546 - val_accuracy: 0.7556\n",
            "Epoch 190/1000\n",
            "33/33 - 0s - loss: 2.1262 - accuracy: 0.7789 - val_loss: 0.7407 - val_accuracy: 0.7721\n",
            "Epoch 191/1000\n",
            "33/33 - 0s - loss: 2.1340 - accuracy: 0.7582 - val_loss: 0.8369 - val_accuracy: 0.7698\n",
            "Epoch 192/1000\n",
            "33/33 - 0s - loss: 2.1226 - accuracy: 0.8140 - val_loss: 0.6725 - val_accuracy: 0.8087\n",
            "Epoch 193/1000\n",
            "33/33 - 0s - loss: 2.1320 - accuracy: 0.8437 - val_loss: 0.8234 - val_accuracy: 0.7662\n",
            "Epoch 194/1000\n",
            "33/33 - 0s - loss: 2.4732 - accuracy: 0.7469 - val_loss: 0.8749 - val_accuracy: 0.7544\n",
            "Epoch 195/1000\n",
            "33/33 - 0s - loss: 2.4345 - accuracy: 0.7649 - val_loss: 0.7940 - val_accuracy: 0.7981\n",
            "Epoch 196/1000\n",
            "33/33 - 0s - loss: 2.2382 - accuracy: 0.8391 - val_loss: 0.6557 - val_accuracy: 0.8536\n",
            "Epoch 197/1000\n",
            "33/33 - 0s - loss: 2.1058 - accuracy: 0.7802 - val_loss: 0.7793 - val_accuracy: 0.7308\n",
            "Epoch 198/1000\n",
            "33/33 - 0s - loss: 2.0465 - accuracy: 0.8095 - val_loss: 0.6976 - val_accuracy: 0.7863\n",
            "Epoch 199/1000\n",
            "33/33 - 0s - loss: 2.0201 - accuracy: 0.7786 - val_loss: 0.6532 - val_accuracy: 0.7851\n",
            "Epoch 200/1000\n",
            "33/33 - 0s - loss: 2.1412 - accuracy: 0.7719 - val_loss: 0.7738 - val_accuracy: 0.7438\n",
            "Epoch 201/1000\n",
            "33/33 - 0s - loss: 2.0650 - accuracy: 0.7612 - val_loss: 0.7755 - val_accuracy: 0.7769\n",
            "Epoch 202/1000\n",
            "33/33 - 0s - loss: 2.0110 - accuracy: 0.8070 - val_loss: 0.7257 - val_accuracy: 0.8111\n",
            "Epoch 203/1000\n",
            "33/33 - 0s - loss: 2.0614 - accuracy: 0.7606 - val_loss: 0.6288 - val_accuracy: 0.8276\n",
            "Epoch 204/1000\n",
            "33/33 - 0s - loss: 2.0635 - accuracy: 0.8107 - val_loss: 0.7894 - val_accuracy: 0.7214\n",
            "Epoch 205/1000\n",
            "33/33 - 0s - loss: 2.0303 - accuracy: 0.8058 - val_loss: 0.7308 - val_accuracy: 0.8064\n",
            "Epoch 206/1000\n",
            "33/33 - 0s - loss: 2.0154 - accuracy: 0.8238 - val_loss: 0.7706 - val_accuracy: 0.7851\n",
            "Epoch 207/1000\n",
            "33/33 - 0s - loss: 1.9962 - accuracy: 0.7872 - val_loss: 0.6310 - val_accuracy: 0.8453\n",
            "Epoch 208/1000\n",
            "33/33 - 0s - loss: 2.0255 - accuracy: 0.8031 - val_loss: 0.9632 - val_accuracy: 0.7226\n",
            "Epoch 209/1000\n",
            "33/33 - 0s - loss: 2.3197 - accuracy: 0.8198 - val_loss: 0.8521 - val_accuracy: 0.7332\n",
            "Epoch 210/1000\n",
            "33/33 - 0s - loss: 2.0647 - accuracy: 0.7771 - val_loss: 0.7574 - val_accuracy: 0.8453\n",
            "Epoch 211/1000\n",
            "33/33 - 0s - loss: 1.9585 - accuracy: 0.7585 - val_loss: 0.5897 - val_accuracy: 0.8713\n",
            "Epoch 212/1000\n",
            "33/33 - 0s - loss: 1.8923 - accuracy: 0.8269 - val_loss: 0.7189 - val_accuracy: 0.8135\n",
            "Epoch 213/1000\n",
            "33/33 - 0s - loss: 2.0522 - accuracy: 0.7737 - val_loss: 0.8677 - val_accuracy: 0.7072\n",
            "Epoch 214/1000\n",
            "33/33 - 0s - loss: 2.4191 - accuracy: 0.8113 - val_loss: 0.7658 - val_accuracy: 0.7875\n",
            "Epoch 215/1000\n",
            "33/33 - 0s - loss: 1.9748 - accuracy: 0.7853 - val_loss: 0.6400 - val_accuracy: 0.8205\n",
            "Epoch 216/1000\n",
            "33/33 - 0s - loss: 1.8208 - accuracy: 0.8537 - val_loss: 0.5869 - val_accuracy: 0.8418\n",
            "Epoch 217/1000\n",
            "33/33 - 0s - loss: 1.8462 - accuracy: 0.7869 - val_loss: 0.6001 - val_accuracy: 0.8146\n",
            "Epoch 218/1000\n",
            "33/33 - 0s - loss: 1.8044 - accuracy: 0.8159 - val_loss: 0.6085 - val_accuracy: 0.8371\n",
            "Epoch 219/1000\n",
            "33/33 - 0s - loss: 1.8585 - accuracy: 0.7340 - val_loss: 0.6637 - val_accuracy: 0.7828\n",
            "Epoch 220/1000\n",
            "33/33 - 0s - loss: 2.0122 - accuracy: 0.7826 - val_loss: 0.6565 - val_accuracy: 0.8099\n",
            "Epoch 221/1000\n",
            "33/33 - 0s - loss: 2.0947 - accuracy: 0.8217 - val_loss: 0.6724 - val_accuracy: 0.8300\n",
            "Epoch 222/1000\n",
            "33/33 - 0s - loss: 2.0827 - accuracy: 0.8485 - val_loss: 0.8527 - val_accuracy: 0.7721\n",
            "Epoch 223/1000\n",
            "33/33 - 0s - loss: 2.1742 - accuracy: 0.8137 - val_loss: 0.7883 - val_accuracy: 0.7780\n",
            "Epoch 224/1000\n",
            "33/33 - 0s - loss: 2.0271 - accuracy: 0.8040 - val_loss: 0.7928 - val_accuracy: 0.7580\n",
            "Epoch 225/1000\n",
            "33/33 - 0s - loss: 1.9011 - accuracy: 0.7915 - val_loss: 0.7419 - val_accuracy: 0.7875\n",
            "Epoch 226/1000\n",
            "33/33 - 0s - loss: 1.8628 - accuracy: 0.7963 - val_loss: 0.6462 - val_accuracy: 0.8064\n",
            "Epoch 227/1000\n",
            "33/33 - 0s - loss: 1.7177 - accuracy: 0.8018 - val_loss: 0.6561 - val_accuracy: 0.8205\n",
            "Epoch 228/1000\n",
            "33/33 - 0s - loss: 1.7561 - accuracy: 0.8119 - val_loss: 0.7024 - val_accuracy: 0.8099\n",
            "Epoch 229/1000\n",
            "33/33 - 0s - loss: 1.8194 - accuracy: 0.7759 - val_loss: 0.9225 - val_accuracy: 0.6505\n",
            "Epoch 230/1000\n",
            "33/33 - 0s - loss: 1.9219 - accuracy: 0.7884 - val_loss: 0.7611 - val_accuracy: 0.8158\n",
            "Epoch 231/1000\n",
            "33/33 - 0s - loss: 1.7884 - accuracy: 0.7915 - val_loss: 0.8554 - val_accuracy: 0.6989\n",
            "Epoch 232/1000\n",
            "33/33 - 0s - loss: 1.8520 - accuracy: 0.7453 - val_loss: 0.6463 - val_accuracy: 0.8064\n",
            "Epoch 233/1000\n",
            "33/33 - 0s - loss: 2.1109 - accuracy: 0.7350 - val_loss: 0.6308 - val_accuracy: 0.8052\n",
            "Epoch 234/1000\n",
            "33/33 - 0s - loss: 1.9769 - accuracy: 0.7963 - val_loss: 0.9388 - val_accuracy: 0.6198\n",
            "Epoch 235/1000\n",
            "33/33 - 0s - loss: 2.0426 - accuracy: 0.7698 - val_loss: 0.7662 - val_accuracy: 0.7509\n",
            "Epoch 236/1000\n",
            "33/33 - 0s - loss: 2.2030 - accuracy: 0.8037 - val_loss: 0.7973 - val_accuracy: 0.7214\n",
            "Epoch 237/1000\n",
            "33/33 - 0s - loss: 1.9041 - accuracy: 0.8198 - val_loss: 0.6203 - val_accuracy: 0.8725\n",
            "Epoch 238/1000\n",
            "33/33 - 0s - loss: 1.9450 - accuracy: 0.8290 - val_loss: 0.6179 - val_accuracy: 0.8453\n",
            "Epoch 239/1000\n",
            "33/33 - 0s - loss: 2.0457 - accuracy: 0.8122 - val_loss: 0.8079 - val_accuracy: 0.7509\n",
            "Epoch 240/1000\n",
            "33/33 - 0s - loss: 1.9708 - accuracy: 0.7966 - val_loss: 0.5633 - val_accuracy: 0.8619\n",
            "Epoch 241/1000\n",
            "33/33 - 0s - loss: 2.0114 - accuracy: 0.7905 - val_loss: 0.6837 - val_accuracy: 0.7957\n",
            "Epoch 242/1000\n",
            "33/33 - 0s - loss: 1.7600 - accuracy: 0.8131 - val_loss: 0.6820 - val_accuracy: 0.7957\n",
            "Epoch 243/1000\n",
            "33/33 - 0s - loss: 1.6538 - accuracy: 0.7905 - val_loss: 0.5826 - val_accuracy: 0.8784\n",
            "Epoch 244/1000\n",
            "33/33 - 0s - loss: 1.5784 - accuracy: 0.8144 - val_loss: 0.5968 - val_accuracy: 0.8300\n",
            "Epoch 245/1000\n",
            "33/33 - 0s - loss: 1.4648 - accuracy: 0.7969 - val_loss: 0.5092 - val_accuracy: 0.8607\n",
            "Epoch 246/1000\n",
            "33/33 - 0s - loss: 1.5315 - accuracy: 0.7850 - val_loss: 0.7000 - val_accuracy: 0.7237\n",
            "Epoch 247/1000\n",
            "33/33 - 0s - loss: 1.5314 - accuracy: 0.8009 - val_loss: 0.6625 - val_accuracy: 0.7568\n",
            "Epoch 248/1000\n",
            "33/33 - 0s - loss: 1.9087 - accuracy: 0.7453 - val_loss: 0.8702 - val_accuracy: 0.7556\n",
            "Epoch 249/1000\n",
            "33/33 - 0s - loss: 1.9753 - accuracy: 0.7866 - val_loss: 0.7000 - val_accuracy: 0.7993\n",
            "Epoch 250/1000\n",
            "33/33 - 0s - loss: 1.8102 - accuracy: 0.7808 - val_loss: 0.6847 - val_accuracy: 0.8229\n",
            "Epoch 251/1000\n",
            "33/33 - 0s - loss: 1.8470 - accuracy: 0.7524 - val_loss: 0.6756 - val_accuracy: 0.8123\n",
            "Epoch 252/1000\n",
            "33/33 - 0s - loss: 1.6735 - accuracy: 0.7838 - val_loss: 0.6985 - val_accuracy: 0.7922\n",
            "Epoch 253/1000\n",
            "33/33 - 0s - loss: 1.7375 - accuracy: 0.7936 - val_loss: 0.6418 - val_accuracy: 0.7993\n",
            "Epoch 254/1000\n",
            "33/33 - 0s - loss: 1.7754 - accuracy: 0.7298 - val_loss: 0.4491 - val_accuracy: 0.9067\n",
            "Epoch 255/1000\n",
            "33/33 - 0s - loss: 1.8527 - accuracy: 0.7783 - val_loss: 0.6264 - val_accuracy: 0.8194\n",
            "Epoch 256/1000\n",
            "33/33 - 0s - loss: 1.6507 - accuracy: 0.7472 - val_loss: 0.6327 - val_accuracy: 0.7544\n",
            "Epoch 257/1000\n",
            "33/33 - 0s - loss: 1.5871 - accuracy: 0.7453 - val_loss: 0.5772 - val_accuracy: 0.8194\n",
            "Epoch 258/1000\n",
            "33/33 - 0s - loss: 1.5565 - accuracy: 0.7905 - val_loss: 0.6013 - val_accuracy: 0.7957\n",
            "Epoch 259/1000\n",
            "33/33 - 0s - loss: 1.5753 - accuracy: 0.7319 - val_loss: 0.4586 - val_accuracy: 0.8831\n",
            "Epoch 260/1000\n",
            "33/33 - 0s - loss: 1.5097 - accuracy: 0.8061 - val_loss: 0.5566 - val_accuracy: 0.8170\n",
            "Epoch 261/1000\n",
            "33/33 - 0s - loss: 1.6034 - accuracy: 0.7591 - val_loss: 0.5874 - val_accuracy: 0.8359\n",
            "Epoch 262/1000\n",
            "33/33 - 0s - loss: 2.0153 - accuracy: 0.7487 - val_loss: 0.8490 - val_accuracy: 0.6458\n",
            "Epoch 263/1000\n",
            "33/33 - 0s - loss: 1.8477 - accuracy: 0.7591 - val_loss: 0.6103 - val_accuracy: 0.8253\n",
            "Epoch 264/1000\n",
            "33/33 - 0s - loss: 1.7244 - accuracy: 0.7634 - val_loss: 0.6669 - val_accuracy: 0.7957\n",
            "Epoch 265/1000\n",
            "33/33 - 0s - loss: 1.5873 - accuracy: 0.7698 - val_loss: 0.7006 - val_accuracy: 0.7863\n",
            "Epoch 266/1000\n",
            "33/33 - 0s - loss: 1.5042 - accuracy: 0.8037 - val_loss: 0.7770 - val_accuracy: 0.7131\n",
            "Epoch 267/1000\n",
            "33/33 - 0s - loss: 1.5673 - accuracy: 0.7939 - val_loss: 0.7425 - val_accuracy: 0.8005\n",
            "Epoch 268/1000\n",
            "33/33 - 0s - loss: 1.8299 - accuracy: 0.7563 - val_loss: 0.7294 - val_accuracy: 0.7969\n",
            "Epoch 269/1000\n",
            "33/33 - 0s - loss: 1.9268 - accuracy: 0.8144 - val_loss: 0.8052 - val_accuracy: 0.7898\n",
            "Epoch 270/1000\n",
            "33/33 - 0s - loss: 1.7221 - accuracy: 0.7841 - val_loss: 0.8427 - val_accuracy: 0.6411\n",
            "Epoch 271/1000\n",
            "33/33 - 0s - loss: 1.6877 - accuracy: 0.7402 - val_loss: 0.6081 - val_accuracy: 0.8442\n",
            "Epoch 272/1000\n",
            "33/33 - 0s - loss: 1.5510 - accuracy: 0.8174 - val_loss: 0.6106 - val_accuracy: 0.8217\n",
            "Epoch 273/1000\n",
            "33/33 - 0s - loss: 1.5091 - accuracy: 0.7301 - val_loss: 0.5559 - val_accuracy: 0.8194\n",
            "Epoch 274/1000\n",
            "33/33 - 0s - loss: 1.4435 - accuracy: 0.8006 - val_loss: 0.6604 - val_accuracy: 0.7214\n",
            "Epoch 275/1000\n",
            "33/33 - 0s - loss: 1.4543 - accuracy: 0.7282 - val_loss: 0.5896 - val_accuracy: 0.8158\n",
            "Epoch 276/1000\n",
            "33/33 - 0s - loss: 1.4925 - accuracy: 0.7643 - val_loss: 0.5975 - val_accuracy: 0.7839\n",
            "Epoch 277/1000\n",
            "33/33 - 0s - loss: 1.3384 - accuracy: 0.8180 - val_loss: 0.5807 - val_accuracy: 0.8005\n",
            "Epoch 278/1000\n",
            "33/33 - 0s - loss: 1.4635 - accuracy: 0.7750 - val_loss: 0.7586 - val_accuracy: 0.7639\n",
            "Epoch 279/1000\n",
            "33/33 - 0s - loss: 1.5173 - accuracy: 0.7313 - val_loss: 0.6463 - val_accuracy: 0.7639\n",
            "Epoch 280/1000\n",
            "33/33 - 0s - loss: 1.4267 - accuracy: 0.7676 - val_loss: 0.7884 - val_accuracy: 0.6895\n",
            "Epoch 281/1000\n",
            "33/33 - 0s - loss: 1.2509 - accuracy: 0.7966 - val_loss: 0.6731 - val_accuracy: 0.7568\n",
            "Epoch 282/1000\n",
            "33/33 - 0s - loss: 1.1591 - accuracy: 0.8049 - val_loss: 0.7029 - val_accuracy: 0.7875\n",
            "Epoch 283/1000\n",
            "33/33 - 0s - loss: 1.2306 - accuracy: 0.7731 - val_loss: 0.7129 - val_accuracy: 0.7226\n",
            "Epoch 284/1000\n",
            "33/33 - 0s - loss: 1.1243 - accuracy: 0.8299 - val_loss: 0.7632 - val_accuracy: 0.7615\n",
            "Epoch 285/1000\n",
            "33/33 - 0s - loss: 1.3086 - accuracy: 0.7313 - val_loss: 0.6364 - val_accuracy: 0.7839\n",
            "Epoch 286/1000\n",
            "33/33 - 0s - loss: 1.6738 - accuracy: 0.7771 - val_loss: 1.2189 - val_accuracy: 0.5478\n",
            "Epoch 287/1000\n",
            "33/33 - 0s - loss: 2.0349 - accuracy: 0.6696 - val_loss: 0.9744 - val_accuracy: 0.7025\n",
            "Epoch 288/1000\n",
            "33/33 - 0s - loss: 1.9110 - accuracy: 0.7337 - val_loss: 1.0105 - val_accuracy: 0.6564\n",
            "Epoch 289/1000\n",
            "33/33 - 0s - loss: 1.9727 - accuracy: 0.7353 - val_loss: 0.9530 - val_accuracy: 0.6718\n",
            "Epoch 290/1000\n",
            "33/33 - 0s - loss: 1.7217 - accuracy: 0.7429 - val_loss: 0.7518 - val_accuracy: 0.7285\n",
            "Epoch 291/1000\n",
            "33/33 - 0s - loss: 1.5441 - accuracy: 0.7444 - val_loss: 0.6420 - val_accuracy: 0.7839\n",
            "Epoch 292/1000\n",
            "33/33 - 0s - loss: 1.3396 - accuracy: 0.7744 - val_loss: 0.5801 - val_accuracy: 0.8335\n",
            "Epoch 293/1000\n",
            "33/33 - 0s - loss: 1.3799 - accuracy: 0.8049 - val_loss: 0.5980 - val_accuracy: 0.8017\n",
            "Epoch 294/1000\n",
            "33/33 - 0s - loss: 1.3160 - accuracy: 0.7844 - val_loss: 0.5371 - val_accuracy: 0.8477\n",
            "Epoch 295/1000\n",
            "33/33 - 0s - loss: 1.5814 - accuracy: 0.7695 - val_loss: 0.5837 - val_accuracy: 0.8359\n",
            "Epoch 296/1000\n",
            "33/33 - 0s - loss: 1.5493 - accuracy: 0.7337 - val_loss: 0.6134 - val_accuracy: 0.8040\n",
            "Epoch 297/1000\n",
            "33/33 - 0s - loss: 1.3722 - accuracy: 0.7527 - val_loss: 0.7314 - val_accuracy: 0.7403\n",
            "Epoch 298/1000\n",
            "33/33 - 0s - loss: 1.3685 - accuracy: 0.7792 - val_loss: 0.7938 - val_accuracy: 0.7261\n",
            "Epoch 299/1000\n",
            "33/33 - 0s - loss: 1.3752 - accuracy: 0.7750 - val_loss: 0.6677 - val_accuracy: 0.8005\n",
            "Epoch 300/1000\n",
            "33/33 - 0s - loss: 1.4174 - accuracy: 0.7652 - val_loss: 0.7809 - val_accuracy: 0.6765\n",
            "Epoch 301/1000\n",
            "33/33 - 0s - loss: 1.1933 - accuracy: 0.7777 - val_loss: 0.5966 - val_accuracy: 0.7910\n",
            "Epoch 302/1000\n",
            "33/33 - 0s - loss: 1.1257 - accuracy: 0.8076 - val_loss: 0.6943 - val_accuracy: 0.7473\n",
            "Epoch 303/1000\n",
            "33/33 - 0s - loss: 1.1900 - accuracy: 0.8024 - val_loss: 0.5882 - val_accuracy: 0.8111\n",
            "Epoch 304/1000\n",
            "33/33 - 0s - loss: 1.1758 - accuracy: 0.7835 - val_loss: 0.6553 - val_accuracy: 0.7568\n",
            "Epoch 305/1000\n",
            "33/33 - 0s - loss: 1.1966 - accuracy: 0.8000 - val_loss: 0.6393 - val_accuracy: 0.7934\n",
            "Epoch 306/1000\n",
            "33/33 - 0s - loss: 1.2873 - accuracy: 0.7716 - val_loss: 0.8148 - val_accuracy: 0.6553\n",
            "Epoch 307/1000\n",
            "33/33 - 0s - loss: 1.3635 - accuracy: 0.7942 - val_loss: 0.5854 - val_accuracy: 0.8028\n",
            "Epoch 308/1000\n",
            "33/33 - 0s - loss: 1.8241 - accuracy: 0.7017 - val_loss: 0.5311 - val_accuracy: 0.8371\n",
            "Epoch 309/1000\n",
            "33/33 - 0s - loss: 1.4926 - accuracy: 0.7878 - val_loss: 0.7133 - val_accuracy: 0.7591\n",
            "Epoch 310/1000\n",
            "33/33 - 0s - loss: 1.4333 - accuracy: 0.7725 - val_loss: 0.9863 - val_accuracy: 0.6151\n",
            "Epoch 311/1000\n",
            "33/33 - 0s - loss: 1.2891 - accuracy: 0.7398 - val_loss: 0.5813 - val_accuracy: 0.7957\n",
            "Epoch 312/1000\n",
            "33/33 - 0s - loss: 1.1588 - accuracy: 0.8122 - val_loss: 0.7935 - val_accuracy: 0.7391\n",
            "Epoch 313/1000\n",
            "33/33 - 0s - loss: 1.1226 - accuracy: 0.7588 - val_loss: 0.5590 - val_accuracy: 0.8359\n",
            "Epoch 314/1000\n",
            "33/33 - 0s - loss: 1.1582 - accuracy: 0.7969 - val_loss: 0.7340 - val_accuracy: 0.7107\n",
            "Epoch 315/1000\n",
            "33/33 - 0s - loss: 1.1876 - accuracy: 0.7863 - val_loss: 0.5176 - val_accuracy: 0.8524\n",
            "Epoch 316/1000\n",
            "33/33 - 0s - loss: 1.2114 - accuracy: 0.7924 - val_loss: 0.5929 - val_accuracy: 0.7792\n",
            "Epoch 317/1000\n",
            "33/33 - 0s - loss: 1.0854 - accuracy: 0.8067 - val_loss: 0.5512 - val_accuracy: 0.8205\n",
            "Epoch 318/1000\n",
            "33/33 - 0s - loss: 1.2326 - accuracy: 0.7811 - val_loss: 0.7143 - val_accuracy: 0.7497\n",
            "Epoch 319/1000\n",
            "33/33 - 0s - loss: 1.5589 - accuracy: 0.7621 - val_loss: 0.9586 - val_accuracy: 0.5939\n",
            "Epoch 320/1000\n",
            "33/33 - 0s - loss: 1.4912 - accuracy: 0.7331 - val_loss: 0.6808 - val_accuracy: 0.7544\n",
            "Epoch 321/1000\n",
            "33/33 - 0s - loss: 1.2204 - accuracy: 0.7453 - val_loss: 0.5491 - val_accuracy: 0.8229\n",
            "Epoch 322/1000\n",
            "33/33 - 0s - loss: 1.1466 - accuracy: 0.8159 - val_loss: 0.6454 - val_accuracy: 0.7887\n",
            "Epoch 323/1000\n",
            "33/33 - 0s - loss: 1.4093 - accuracy: 0.7557 - val_loss: 0.5497 - val_accuracy: 0.7745\n",
            "Epoch 324/1000\n",
            "33/33 - 0s - loss: 1.3936 - accuracy: 0.7624 - val_loss: 0.9774 - val_accuracy: 0.6033\n",
            "Epoch 325/1000\n",
            "33/33 - 0s - loss: 1.2089 - accuracy: 0.7206 - val_loss: 0.5179 - val_accuracy: 0.8217\n",
            "Epoch 326/1000\n",
            "33/33 - 0s - loss: 1.2190 - accuracy: 0.7643 - val_loss: 0.7349 - val_accuracy: 0.7178\n",
            "Epoch 327/1000\n",
            "33/33 - 0s - loss: 1.0541 - accuracy: 0.7832 - val_loss: 0.5931 - val_accuracy: 0.8146\n",
            "Epoch 328/1000\n",
            "33/33 - 0s - loss: 1.0186 - accuracy: 0.8128 - val_loss: 0.5996 - val_accuracy: 0.8276\n",
            "Epoch 329/1000\n",
            "33/33 - 0s - loss: 1.1871 - accuracy: 0.8302 - val_loss: 0.5845 - val_accuracy: 0.8146\n",
            "Epoch 330/1000\n",
            "33/33 - 0s - loss: 0.9710 - accuracy: 0.8220 - val_loss: 0.6345 - val_accuracy: 0.8052\n",
            "Epoch 331/1000\n",
            "33/33 - 0s - loss: 0.9397 - accuracy: 0.8156 - val_loss: 0.5263 - val_accuracy: 0.8678\n",
            "Epoch 332/1000\n",
            "33/33 - 0s - loss: 1.0116 - accuracy: 0.8076 - val_loss: 0.5555 - val_accuracy: 0.8689\n",
            "Epoch 333/1000\n",
            "33/33 - 0s - loss: 1.0356 - accuracy: 0.8177 - val_loss: 0.6018 - val_accuracy: 0.8229\n",
            "Epoch 334/1000\n",
            "33/33 - 0s - loss: 1.0071 - accuracy: 0.7869 - val_loss: 0.5015 - val_accuracy: 0.8607\n",
            "Epoch 335/1000\n",
            "33/33 - 0s - loss: 1.0526 - accuracy: 0.7887 - val_loss: 0.5884 - val_accuracy: 0.7792\n",
            "Epoch 336/1000\n",
            "33/33 - 0s - loss: 1.6635 - accuracy: 0.7789 - val_loss: 0.5929 - val_accuracy: 0.8371\n",
            "Epoch 337/1000\n",
            "33/33 - 0s - loss: 1.4161 - accuracy: 0.7417 - val_loss: 0.7303 - val_accuracy: 0.6671\n",
            "Epoch 338/1000\n",
            "33/33 - 0s - loss: 1.0490 - accuracy: 0.8076 - val_loss: 0.5363 - val_accuracy: 0.8123\n",
            "Epoch 339/1000\n",
            "33/33 - 0s - loss: 0.9691 - accuracy: 0.7716 - val_loss: 0.4798 - val_accuracy: 0.8831\n",
            "Epoch 340/1000\n",
            "33/33 - 0s - loss: 1.1109 - accuracy: 0.8263 - val_loss: 0.6035 - val_accuracy: 0.8264\n",
            "Epoch 341/1000\n",
            "33/33 - 0s - loss: 1.2702 - accuracy: 0.7627 - val_loss: 0.7984 - val_accuracy: 0.7166\n",
            "Epoch 342/1000\n",
            "33/33 - 0s - loss: 1.7383 - accuracy: 0.7722 - val_loss: 0.6389 - val_accuracy: 0.7556\n",
            "Epoch 343/1000\n",
            "33/33 - 0s - loss: 1.2223 - accuracy: 0.7264 - val_loss: 0.5686 - val_accuracy: 0.8312\n",
            "Epoch 344/1000\n",
            "33/33 - 0s - loss: 1.2002 - accuracy: 0.7557 - val_loss: 0.5660 - val_accuracy: 0.7863\n",
            "Epoch 345/1000\n",
            "33/33 - 0s - loss: 1.2349 - accuracy: 0.7713 - val_loss: 0.6042 - val_accuracy: 0.8158\n",
            "Epoch 346/1000\n",
            "33/33 - 0s - loss: 1.4428 - accuracy: 0.7377 - val_loss: 0.6481 - val_accuracy: 0.7863\n",
            "Epoch 347/1000\n",
            "33/33 - 0s - loss: 1.4499 - accuracy: 0.7954 - val_loss: 0.7291 - val_accuracy: 0.7521\n",
            "Epoch 348/1000\n",
            "33/33 - 0s - loss: 1.6916 - accuracy: 0.7356 - val_loss: 0.7870 - val_accuracy: 0.7084\n",
            "Epoch 349/1000\n",
            "33/33 - 0s - loss: 1.3347 - accuracy: 0.7670 - val_loss: 0.6994 - val_accuracy: 0.7403\n",
            "Epoch 350/1000\n",
            "33/33 - 0s - loss: 1.2537 - accuracy: 0.7545 - val_loss: 0.7274 - val_accuracy: 0.6895\n",
            "Epoch 351/1000\n",
            "33/33 - 0s - loss: 0.9973 - accuracy: 0.7976 - val_loss: 0.5203 - val_accuracy: 0.8501\n",
            "Epoch 352/1000\n",
            "33/33 - 0s - loss: 0.9047 - accuracy: 0.8195 - val_loss: 0.5427 - val_accuracy: 0.8300\n",
            "Epoch 353/1000\n",
            "33/33 - 0s - loss: 0.8974 - accuracy: 0.8211 - val_loss: 0.5780 - val_accuracy: 0.7981\n",
            "Epoch 354/1000\n",
            "33/33 - 0s - loss: 0.9148 - accuracy: 0.7869 - val_loss: 0.4878 - val_accuracy: 0.8619\n",
            "Epoch 355/1000\n",
            "33/33 - 0s - loss: 0.9613 - accuracy: 0.8528 - val_loss: 0.5803 - val_accuracy: 0.8276\n",
            "Epoch 356/1000\n",
            "33/33 - 0s - loss: 1.0058 - accuracy: 0.8113 - val_loss: 0.5414 - val_accuracy: 0.8347\n",
            "Epoch 357/1000\n",
            "33/33 - 0s - loss: 1.0160 - accuracy: 0.8018 - val_loss: 0.7183 - val_accuracy: 0.7367\n",
            "Epoch 358/1000\n",
            "33/33 - 0s - loss: 1.1093 - accuracy: 0.7377 - val_loss: 0.5063 - val_accuracy: 0.8642\n",
            "Epoch 359/1000\n",
            "33/33 - 0s - loss: 0.8897 - accuracy: 0.8131 - val_loss: 0.5662 - val_accuracy: 0.7863\n",
            "Epoch 360/1000\n",
            "33/33 - 0s - loss: 0.7833 - accuracy: 0.8565 - val_loss: 0.5415 - val_accuracy: 0.8477\n",
            "Epoch 361/1000\n",
            "33/33 - 0s - loss: 0.8174 - accuracy: 0.8311 - val_loss: 0.5058 - val_accuracy: 0.8418\n",
            "Epoch 362/1000\n",
            "33/33 - 0s - loss: 0.8295 - accuracy: 0.8427 - val_loss: 0.6206 - val_accuracy: 0.7509\n",
            "Epoch 363/1000\n",
            "33/33 - 0s - loss: 0.8415 - accuracy: 0.8208 - val_loss: 0.6120 - val_accuracy: 0.7792\n",
            "Epoch 364/1000\n",
            "33/33 - 0s - loss: 0.8132 - accuracy: 0.8479 - val_loss: 0.5494 - val_accuracy: 0.8229\n",
            "Epoch 365/1000\n",
            "33/33 - 0s - loss: 0.9167 - accuracy: 0.8079 - val_loss: 0.5263 - val_accuracy: 0.8241\n",
            "Epoch 366/1000\n",
            "33/33 - 0s - loss: 1.1650 - accuracy: 0.7725 - val_loss: 0.4899 - val_accuracy: 0.8619\n",
            "Epoch 367/1000\n",
            "33/33 - 0s - loss: 1.6388 - accuracy: 0.7820 - val_loss: 0.8379 - val_accuracy: 0.7037\n",
            "Epoch 368/1000\n",
            "33/33 - 0s - loss: 1.2580 - accuracy: 0.7325 - val_loss: 0.6894 - val_accuracy: 0.7485\n",
            "Epoch 369/1000\n",
            "33/33 - 0s - loss: 1.1567 - accuracy: 0.7554 - val_loss: 0.6055 - val_accuracy: 0.8217\n",
            "Epoch 370/1000\n",
            "33/33 - 0s - loss: 1.0446 - accuracy: 0.8183 - val_loss: 0.6788 - val_accuracy: 0.7662\n",
            "Epoch 371/1000\n",
            "33/33 - 0s - loss: 0.9251 - accuracy: 0.8061 - val_loss: 0.5085 - val_accuracy: 0.8630\n",
            "Epoch 372/1000\n",
            "33/33 - 0s - loss: 1.0560 - accuracy: 0.8238 - val_loss: 0.6925 - val_accuracy: 0.7131\n",
            "Epoch 373/1000\n",
            "33/33 - 0s - loss: 1.0074 - accuracy: 0.7695 - val_loss: 0.5057 - val_accuracy: 0.8430\n",
            "Epoch 374/1000\n",
            "33/33 - 0s - loss: 0.8449 - accuracy: 0.8073 - val_loss: 0.4927 - val_accuracy: 0.8406\n",
            "Epoch 375/1000\n",
            "33/33 - 0s - loss: 0.8120 - accuracy: 0.8198 - val_loss: 0.5737 - val_accuracy: 0.8123\n",
            "Epoch 376/1000\n",
            "33/33 - 0s - loss: 0.7554 - accuracy: 0.8241 - val_loss: 0.5463 - val_accuracy: 0.8371\n",
            "Epoch 377/1000\n",
            "33/33 - 0s - loss: 0.6885 - accuracy: 0.8507 - val_loss: 0.5119 - val_accuracy: 0.8406\n",
            "Epoch 378/1000\n",
            "33/33 - 0s - loss: 0.6450 - accuracy: 0.8455 - val_loss: 0.4926 - val_accuracy: 0.8524\n",
            "Epoch 379/1000\n",
            "33/33 - 0s - loss: 0.6495 - accuracy: 0.8544 - val_loss: 0.4850 - val_accuracy: 0.8300\n",
            "Epoch 380/1000\n",
            "33/33 - 0s - loss: 0.6546 - accuracy: 0.8379 - val_loss: 0.4100 - val_accuracy: 0.8996\n",
            "Epoch 381/1000\n",
            "33/33 - 0s - loss: 0.7515 - accuracy: 0.8165 - val_loss: 0.4886 - val_accuracy: 0.8359\n",
            "Epoch 382/1000\n",
            "33/33 - 0s - loss: 0.8363 - accuracy: 0.8647 - val_loss: 0.7453 - val_accuracy: 0.7780\n",
            "Epoch 383/1000\n",
            "33/33 - 0s - loss: 1.0952 - accuracy: 0.7582 - val_loss: 0.5755 - val_accuracy: 0.8205\n",
            "Epoch 384/1000\n",
            "33/33 - 0s - loss: 0.8475 - accuracy: 0.8153 - val_loss: 0.5074 - val_accuracy: 0.8560\n",
            "Epoch 385/1000\n",
            "33/33 - 0s - loss: 0.8914 - accuracy: 0.7963 - val_loss: 0.5342 - val_accuracy: 0.8288\n",
            "Epoch 386/1000\n",
            "33/33 - 0s - loss: 1.0755 - accuracy: 0.7915 - val_loss: 0.5869 - val_accuracy: 0.8052\n",
            "Epoch 387/1000\n",
            "33/33 - 0s - loss: 1.2777 - accuracy: 0.7340 - val_loss: 0.5940 - val_accuracy: 0.8017\n",
            "Epoch 388/1000\n",
            "33/33 - 0s - loss: 1.2877 - accuracy: 0.7951 - val_loss: 0.7263 - val_accuracy: 0.7426\n",
            "Epoch 389/1000\n",
            "33/33 - 0s - loss: 1.1344 - accuracy: 0.7539 - val_loss: 0.5318 - val_accuracy: 0.8371\n",
            "Epoch 390/1000\n",
            "33/33 - 0s - loss: 1.2583 - accuracy: 0.7722 - val_loss: 0.9034 - val_accuracy: 0.6954\n",
            "Epoch 391/1000\n",
            "33/33 - 0s - loss: 1.1168 - accuracy: 0.7728 - val_loss: 0.6594 - val_accuracy: 0.7780\n",
            "Epoch 392/1000\n",
            "33/33 - 0s - loss: 1.0150 - accuracy: 0.7646 - val_loss: 0.6872 - val_accuracy: 0.7509\n",
            "Epoch 393/1000\n",
            "33/33 - 0s - loss: 0.8664 - accuracy: 0.7991 - val_loss: 0.5241 - val_accuracy: 0.8430\n",
            "Epoch 394/1000\n",
            "33/33 - 0s - loss: 0.8629 - accuracy: 0.7927 - val_loss: 0.5705 - val_accuracy: 0.7993\n",
            "Epoch 395/1000\n",
            "33/33 - 0s - loss: 0.8045 - accuracy: 0.8321 - val_loss: 0.5940 - val_accuracy: 0.8064\n",
            "Epoch 396/1000\n",
            "33/33 - 0s - loss: 0.8299 - accuracy: 0.7973 - val_loss: 0.6470 - val_accuracy: 0.7957\n",
            "Epoch 397/1000\n",
            "33/33 - 0s - loss: 0.8666 - accuracy: 0.7973 - val_loss: 0.4952 - val_accuracy: 0.8442\n",
            "Epoch 398/1000\n",
            "33/33 - 0s - loss: 0.7416 - accuracy: 0.8470 - val_loss: 0.5809 - val_accuracy: 0.7969\n",
            "Epoch 399/1000\n",
            "33/33 - 0s - loss: 0.6587 - accuracy: 0.8113 - val_loss: 0.4713 - val_accuracy: 0.8501\n",
            "Epoch 400/1000\n",
            "33/33 - 0s - loss: 0.6304 - accuracy: 0.8452 - val_loss: 0.4952 - val_accuracy: 0.8512\n",
            "Epoch 401/1000\n",
            "33/33 - 0s - loss: 0.8416 - accuracy: 0.8354 - val_loss: 0.5629 - val_accuracy: 0.7969\n",
            "Epoch 402/1000\n",
            "33/33 - 0s - loss: 0.6927 - accuracy: 0.8156 - val_loss: 0.4847 - val_accuracy: 0.8347\n",
            "Epoch 403/1000\n",
            "33/33 - 0s - loss: 0.8388 - accuracy: 0.8208 - val_loss: 0.5927 - val_accuracy: 0.8052\n",
            "Epoch 404/1000\n",
            "33/33 - 0s - loss: 0.9828 - accuracy: 0.8006 - val_loss: 0.5790 - val_accuracy: 0.8158\n",
            "Epoch 405/1000\n",
            "33/33 - 0s - loss: 1.0717 - accuracy: 0.7664 - val_loss: 0.6739 - val_accuracy: 0.7615\n",
            "Epoch 406/1000\n",
            "33/33 - 0s - loss: 1.4342 - accuracy: 0.7829 - val_loss: 0.5806 - val_accuracy: 0.8359\n",
            "Epoch 407/1000\n",
            "33/33 - 0s - loss: 1.3997 - accuracy: 0.7597 - val_loss: 0.7670 - val_accuracy: 0.7096\n",
            "Epoch 408/1000\n",
            "33/33 - 0s - loss: 1.1077 - accuracy: 0.7615 - val_loss: 0.5960 - val_accuracy: 0.8087\n",
            "Epoch 409/1000\n",
            "33/33 - 0s - loss: 1.0485 - accuracy: 0.7682 - val_loss: 0.5166 - val_accuracy: 0.8383\n",
            "Epoch 410/1000\n",
            "33/33 - 0s - loss: 1.0293 - accuracy: 0.8238 - val_loss: 0.5042 - val_accuracy: 0.8678\n",
            "Epoch 411/1000\n",
            "33/33 - 0s - loss: 0.7817 - accuracy: 0.7988 - val_loss: 0.4929 - val_accuracy: 0.8477\n",
            "Epoch 412/1000\n",
            "33/33 - 0s - loss: 0.7822 - accuracy: 0.8055 - val_loss: 0.5201 - val_accuracy: 0.8158\n",
            "Epoch 413/1000\n",
            "33/33 - 0s - loss: 0.6967 - accuracy: 0.8516 - val_loss: 0.4845 - val_accuracy: 0.8394\n",
            "Epoch 414/1000\n",
            "33/33 - 0s - loss: 0.7303 - accuracy: 0.8400 - val_loss: 0.4841 - val_accuracy: 0.8477\n",
            "Epoch 415/1000\n",
            "33/33 - 0s - loss: 0.9008 - accuracy: 0.8174 - val_loss: 0.5872 - val_accuracy: 0.8300\n",
            "Epoch 416/1000\n",
            "33/33 - 0s - loss: 1.0302 - accuracy: 0.8082 - val_loss: 0.5226 - val_accuracy: 0.8335\n",
            "Epoch 417/1000\n",
            "33/33 - 0s - loss: 1.1566 - accuracy: 0.8250 - val_loss: 0.6504 - val_accuracy: 0.7839\n",
            "Epoch 418/1000\n",
            "33/33 - 0s - loss: 1.2396 - accuracy: 0.7472 - val_loss: 0.5658 - val_accuracy: 0.8111\n",
            "Epoch 419/1000\n",
            "33/33 - 0s - loss: 0.9791 - accuracy: 0.7588 - val_loss: 0.5045 - val_accuracy: 0.8347\n",
            "Epoch 420/1000\n",
            "33/33 - 0s - loss: 0.9591 - accuracy: 0.7960 - val_loss: 0.6098 - val_accuracy: 0.7710\n",
            "Epoch 421/1000\n",
            "33/33 - 0s - loss: 1.0366 - accuracy: 0.7762 - val_loss: 0.5656 - val_accuracy: 0.8253\n",
            "Epoch 422/1000\n",
            "33/33 - 0s - loss: 0.8899 - accuracy: 0.8315 - val_loss: 0.4657 - val_accuracy: 0.8465\n",
            "Epoch 423/1000\n",
            "33/33 - 0s - loss: 0.6945 - accuracy: 0.8092 - val_loss: 0.5058 - val_accuracy: 0.8678\n",
            "Epoch 424/1000\n",
            "33/33 - 0s - loss: 0.6125 - accuracy: 0.8574 - val_loss: 0.4290 - val_accuracy: 0.8819\n",
            "Epoch 425/1000\n",
            "33/33 - 0s - loss: 0.5930 - accuracy: 0.8473 - val_loss: 0.4852 - val_accuracy: 0.8394\n",
            "Epoch 426/1000\n",
            "33/33 - 0s - loss: 0.6668 - accuracy: 0.8598 - val_loss: 0.5157 - val_accuracy: 0.8418\n",
            "Epoch 427/1000\n",
            "33/33 - 0s - loss: 0.6856 - accuracy: 0.8391 - val_loss: 0.4348 - val_accuracy: 0.8867\n",
            "Epoch 428/1000\n",
            "33/33 - 0s - loss: 0.7146 - accuracy: 0.8455 - val_loss: 0.4895 - val_accuracy: 0.8501\n",
            "Epoch 429/1000\n",
            "33/33 - 0s - loss: 0.6614 - accuracy: 0.8327 - val_loss: 0.4194 - val_accuracy: 0.8737\n",
            "Epoch 430/1000\n",
            "33/33 - 0s - loss: 0.6301 - accuracy: 0.8544 - val_loss: 0.3997 - val_accuracy: 0.9044\n",
            "Epoch 431/1000\n",
            "33/33 - 0s - loss: 0.9253 - accuracy: 0.8211 - val_loss: 0.4829 - val_accuracy: 0.8477\n",
            "Epoch 432/1000\n",
            "33/33 - 0s - loss: 1.0130 - accuracy: 0.8180 - val_loss: 0.4744 - val_accuracy: 0.8796\n",
            "Epoch 433/1000\n",
            "33/33 - 0s - loss: 1.0865 - accuracy: 0.7631 - val_loss: 0.4696 - val_accuracy: 0.8701\n",
            "Epoch 434/1000\n",
            "33/33 - 0s - loss: 1.1369 - accuracy: 0.7689 - val_loss: 0.6117 - val_accuracy: 0.7922\n",
            "Epoch 435/1000\n",
            "33/33 - 0s - loss: 0.9477 - accuracy: 0.8183 - val_loss: 0.4554 - val_accuracy: 0.8630\n",
            "Epoch 436/1000\n",
            "33/33 - 0s - loss: 0.8340 - accuracy: 0.8241 - val_loss: 0.6235 - val_accuracy: 0.7674\n",
            "Epoch 437/1000\n",
            "33/33 - 0s - loss: 0.7363 - accuracy: 0.7963 - val_loss: 0.4812 - val_accuracy: 0.8264\n",
            "Epoch 438/1000\n",
            "33/33 - 0s - loss: 0.6918 - accuracy: 0.8562 - val_loss: 0.5863 - val_accuracy: 0.7887\n",
            "Epoch 439/1000\n",
            "33/33 - 0s - loss: 0.6638 - accuracy: 0.8174 - val_loss: 0.4388 - val_accuracy: 0.8760\n",
            "Epoch 440/1000\n",
            "33/33 - 0s - loss: 0.6740 - accuracy: 0.8617 - val_loss: 0.4414 - val_accuracy: 0.9020\n",
            "Epoch 441/1000\n",
            "33/33 - 0s - loss: 0.7726 - accuracy: 0.8092 - val_loss: 0.4662 - val_accuracy: 0.8477\n",
            "Epoch 442/1000\n",
            "33/33 - 0s - loss: 0.7455 - accuracy: 0.8073 - val_loss: 0.4119 - val_accuracy: 0.8985\n",
            "Epoch 443/1000\n",
            "33/33 - 0s - loss: 0.6798 - accuracy: 0.8287 - val_loss: 0.4272 - val_accuracy: 0.8772\n",
            "Epoch 444/1000\n",
            "33/33 - 0s - loss: 0.7741 - accuracy: 0.8131 - val_loss: 0.4865 - val_accuracy: 0.8442\n",
            "Epoch 445/1000\n",
            "33/33 - 0s - loss: 0.7944 - accuracy: 0.8211 - val_loss: 0.4798 - val_accuracy: 0.8512\n",
            "Epoch 446/1000\n",
            "33/33 - 0s - loss: 0.8291 - accuracy: 0.8089 - val_loss: 0.5087 - val_accuracy: 0.8784\n",
            "Epoch 447/1000\n",
            "33/33 - 0s - loss: 0.7662 - accuracy: 0.8043 - val_loss: 0.4773 - val_accuracy: 0.8583\n",
            "Epoch 448/1000\n",
            "33/33 - 0s - loss: 0.7358 - accuracy: 0.8507 - val_loss: 0.4339 - val_accuracy: 0.8996\n",
            "Epoch 449/1000\n",
            "33/33 - 0s - loss: 0.6434 - accuracy: 0.8250 - val_loss: 0.4748 - val_accuracy: 0.8701\n",
            "Epoch 450/1000\n",
            "33/33 - 0s - loss: 0.6048 - accuracy: 0.8373 - val_loss: 0.4544 - val_accuracy: 0.8855\n",
            "Epoch 451/1000\n",
            "33/33 - 0s - loss: 0.6017 - accuracy: 0.8452 - val_loss: 0.4437 - val_accuracy: 0.8796\n",
            "Epoch 452/1000\n",
            "33/33 - 0s - loss: 0.5916 - accuracy: 0.8516 - val_loss: 0.4707 - val_accuracy: 0.8808\n",
            "Epoch 453/1000\n",
            "33/33 - 0s - loss: 0.6460 - accuracy: 0.8308 - val_loss: 0.4993 - val_accuracy: 0.8524\n",
            "Epoch 454/1000\n",
            "33/33 - 0s - loss: 0.6036 - accuracy: 0.8479 - val_loss: 0.4962 - val_accuracy: 0.8477\n",
            "Epoch 455/1000\n",
            "33/33 - 0s - loss: 0.6688 - accuracy: 0.8504 - val_loss: 0.4515 - val_accuracy: 0.9008\n",
            "Epoch 456/1000\n",
            "33/33 - 0s - loss: 0.7740 - accuracy: 0.8217 - val_loss: 0.4587 - val_accuracy: 0.8725\n",
            "Epoch 457/1000\n",
            "33/33 - 0s - loss: 0.6927 - accuracy: 0.8397 - val_loss: 0.4349 - val_accuracy: 0.8914\n",
            "Epoch 458/1000\n",
            "33/33 - 0s - loss: 0.8787 - accuracy: 0.8134 - val_loss: 0.4598 - val_accuracy: 0.8678\n",
            "Epoch 459/1000\n",
            "33/33 - 0s - loss: 0.9160 - accuracy: 0.8168 - val_loss: 0.4717 - val_accuracy: 0.8512\n",
            "Epoch 460/1000\n",
            "33/33 - 0s - loss: 0.9288 - accuracy: 0.8238 - val_loss: 0.5902 - val_accuracy: 0.8217\n",
            "Epoch 461/1000\n",
            "33/33 - 0s - loss: 0.9125 - accuracy: 0.7899 - val_loss: 0.6027 - val_accuracy: 0.8052\n",
            "Epoch 462/1000\n",
            "33/33 - 0s - loss: 0.8134 - accuracy: 0.7814 - val_loss: 0.4015 - val_accuracy: 0.9162\n",
            "Epoch 463/1000\n",
            "33/33 - 0s - loss: 0.8067 - accuracy: 0.8434 - val_loss: 0.5988 - val_accuracy: 0.8217\n",
            "Epoch 464/1000\n",
            "33/33 - 0s - loss: 0.7793 - accuracy: 0.8076 - val_loss: 0.5132 - val_accuracy: 0.8583\n",
            "Epoch 465/1000\n",
            "33/33 - 0s - loss: 0.8568 - accuracy: 0.8473 - val_loss: 0.4869 - val_accuracy: 0.8512\n",
            "Epoch 466/1000\n",
            "33/33 - 0s - loss: 0.7341 - accuracy: 0.8085 - val_loss: 0.4793 - val_accuracy: 0.8678\n",
            "Epoch 467/1000\n",
            "33/33 - 0s - loss: 0.7700 - accuracy: 0.8321 - val_loss: 0.5035 - val_accuracy: 0.8571\n",
            "Epoch 468/1000\n",
            "33/33 - 0s - loss: 0.8597 - accuracy: 0.8385 - val_loss: 0.4983 - val_accuracy: 0.8760\n",
            "Epoch 469/1000\n",
            "33/33 - 0s - loss: 1.0083 - accuracy: 0.8333 - val_loss: 0.5398 - val_accuracy: 0.8300\n",
            "Epoch 470/1000\n",
            "33/33 - 0s - loss: 0.9641 - accuracy: 0.8040 - val_loss: 0.5285 - val_accuracy: 0.8347\n",
            "Epoch 471/1000\n",
            "33/33 - 0s - loss: 0.9852 - accuracy: 0.7844 - val_loss: 0.4258 - val_accuracy: 0.8725\n",
            "Epoch 472/1000\n",
            "33/33 - 0s - loss: 1.1116 - accuracy: 0.8119 - val_loss: 0.5713 - val_accuracy: 0.8158\n",
            "Epoch 473/1000\n",
            "33/33 - 0s - loss: 1.2336 - accuracy: 0.7615 - val_loss: 0.7267 - val_accuracy: 0.7367\n",
            "Epoch 474/1000\n",
            "33/33 - 0s - loss: 1.1067 - accuracy: 0.8418 - val_loss: 0.6097 - val_accuracy: 0.7910\n",
            "Epoch 475/1000\n",
            "33/33 - 0s - loss: 1.1491 - accuracy: 0.7615 - val_loss: 0.5304 - val_accuracy: 0.8442\n",
            "Epoch 476/1000\n",
            "33/33 - 0s - loss: 1.0009 - accuracy: 0.8055 - val_loss: 0.4855 - val_accuracy: 0.8501\n",
            "Epoch 477/1000\n",
            "33/33 - 0s - loss: 0.8752 - accuracy: 0.7957 - val_loss: 0.5925 - val_accuracy: 0.8300\n",
            "Epoch 478/1000\n",
            "33/33 - 0s - loss: 0.8034 - accuracy: 0.8253 - val_loss: 0.5021 - val_accuracy: 0.8772\n",
            "Epoch 479/1000\n",
            "33/33 - 0s - loss: 0.6901 - accuracy: 0.8351 - val_loss: 0.4438 - val_accuracy: 0.9020\n",
            "Epoch 480/1000\n",
            "33/33 - 0s - loss: 0.7313 - accuracy: 0.8385 - val_loss: 0.4654 - val_accuracy: 0.8784\n",
            "Epoch 481/1000\n",
            "33/33 - 0s - loss: 0.5906 - accuracy: 0.8485 - val_loss: 0.4577 - val_accuracy: 0.8831\n",
            "Epoch 482/1000\n",
            "33/33 - 0s - loss: 0.7696 - accuracy: 0.8159 - val_loss: 0.4524 - val_accuracy: 0.8619\n",
            "Epoch 483/1000\n",
            "33/33 - 0s - loss: 0.7670 - accuracy: 0.8412 - val_loss: 0.4133 - val_accuracy: 0.8855\n",
            "Epoch 484/1000\n",
            "33/33 - 0s - loss: 0.7336 - accuracy: 0.8308 - val_loss: 0.5208 - val_accuracy: 0.8300\n",
            "Epoch 485/1000\n",
            "33/33 - 0s - loss: 0.7321 - accuracy: 0.8485 - val_loss: 0.5426 - val_accuracy: 0.8194\n",
            "Epoch 486/1000\n",
            "33/33 - 0s - loss: 0.7711 - accuracy: 0.8321 - val_loss: 0.4077 - val_accuracy: 0.8867\n",
            "Epoch 487/1000\n",
            "33/33 - 0s - loss: 0.8591 - accuracy: 0.8305 - val_loss: 0.5166 - val_accuracy: 0.8442\n",
            "Epoch 488/1000\n",
            "33/33 - 0s - loss: 0.6747 - accuracy: 0.8073 - val_loss: 0.3815 - val_accuracy: 0.9221\n",
            "Epoch 489/1000\n",
            "33/33 - 0s - loss: 0.6733 - accuracy: 0.8592 - val_loss: 0.5675 - val_accuracy: 0.8453\n",
            "Epoch 490/1000\n",
            "33/33 - 0s - loss: 0.6592 - accuracy: 0.8049 - val_loss: 0.4552 - val_accuracy: 0.8819\n",
            "Epoch 491/1000\n",
            "33/33 - 0s - loss: 0.6368 - accuracy: 0.8345 - val_loss: 0.3939 - val_accuracy: 0.9044\n",
            "Epoch 492/1000\n",
            "33/33 - 0s - loss: 0.5794 - accuracy: 0.8556 - val_loss: 0.4615 - val_accuracy: 0.8560\n",
            "Epoch 493/1000\n",
            "33/33 - 0s - loss: 0.5450 - accuracy: 0.8568 - val_loss: 0.3993 - val_accuracy: 0.9067\n",
            "Epoch 494/1000\n",
            "33/33 - 0s - loss: 0.5950 - accuracy: 0.8592 - val_loss: 0.4788 - val_accuracy: 0.8630\n",
            "Epoch 495/1000\n",
            "33/33 - 0s - loss: 0.6497 - accuracy: 0.8507 - val_loss: 0.4112 - val_accuracy: 0.9091\n",
            "Epoch 496/1000\n",
            "33/33 - 0s - loss: 0.6279 - accuracy: 0.8580 - val_loss: 0.4758 - val_accuracy: 0.8642\n",
            "Epoch 497/1000\n",
            "33/33 - 0s - loss: 0.7398 - accuracy: 0.8293 - val_loss: 0.4077 - val_accuracy: 0.9174\n",
            "Epoch 498/1000\n",
            "33/33 - 0s - loss: 0.9030 - accuracy: 0.8098 - val_loss: 0.5504 - val_accuracy: 0.8312\n",
            "Epoch 499/1000\n",
            "33/33 - 0s - loss: 1.1110 - accuracy: 0.8140 - val_loss: 0.5660 - val_accuracy: 0.8300\n",
            "Epoch 500/1000\n",
            "33/33 - 0s - loss: 0.8154 - accuracy: 0.8226 - val_loss: 0.5012 - val_accuracy: 0.8430\n",
            "Epoch 501/1000\n",
            "33/33 - 0s - loss: 0.6568 - accuracy: 0.8473 - val_loss: 0.4106 - val_accuracy: 0.9162\n",
            "Epoch 502/1000\n",
            "33/33 - 0s - loss: 0.6938 - accuracy: 0.8565 - val_loss: 0.4647 - val_accuracy: 0.8678\n",
            "Epoch 503/1000\n",
            "33/33 - 0s - loss: 0.6712 - accuracy: 0.8131 - val_loss: 0.4393 - val_accuracy: 0.8890\n",
            "Epoch 504/1000\n",
            "33/33 - 0s - loss: 0.6151 - accuracy: 0.8446 - val_loss: 0.4140 - val_accuracy: 0.8902\n",
            "Epoch 505/1000\n",
            "33/33 - 0s - loss: 0.6006 - accuracy: 0.8708 - val_loss: 0.4131 - val_accuracy: 0.9020\n",
            "Epoch 506/1000\n",
            "33/33 - 0s - loss: 0.6892 - accuracy: 0.8327 - val_loss: 0.4248 - val_accuracy: 0.8985\n",
            "Epoch 507/1000\n",
            "33/33 - 0s - loss: 0.6983 - accuracy: 0.8354 - val_loss: 0.3489 - val_accuracy: 0.9292\n",
            "Epoch 508/1000\n",
            "33/33 - 0s - loss: 0.5692 - accuracy: 0.8485 - val_loss: 0.4525 - val_accuracy: 0.8819\n",
            "Epoch 509/1000\n",
            "33/33 - 0s - loss: 0.5406 - accuracy: 0.8711 - val_loss: 0.3771 - val_accuracy: 0.9233\n",
            "Epoch 510/1000\n",
            "33/33 - 0s - loss: 0.5172 - accuracy: 0.8571 - val_loss: 0.3878 - val_accuracy: 0.9115\n",
            "Epoch 511/1000\n",
            "33/33 - 0s - loss: 0.5352 - accuracy: 0.8617 - val_loss: 0.3684 - val_accuracy: 0.9315\n",
            "Epoch 512/1000\n",
            "33/33 - 0s - loss: 0.5120 - accuracy: 0.8446 - val_loss: 0.3760 - val_accuracy: 0.9126\n",
            "Epoch 513/1000\n",
            "33/33 - 0s - loss: 0.7982 - accuracy: 0.8522 - val_loss: 0.3892 - val_accuracy: 0.9115\n",
            "Epoch 514/1000\n",
            "33/33 - 0s - loss: 0.7907 - accuracy: 0.8492 - val_loss: 0.5499 - val_accuracy: 0.8205\n",
            "Epoch 515/1000\n",
            "33/33 - 0s - loss: 0.8032 - accuracy: 0.8122 - val_loss: 0.4736 - val_accuracy: 0.8571\n",
            "Epoch 516/1000\n",
            "33/33 - 0s - loss: 1.0114 - accuracy: 0.7832 - val_loss: 0.5779 - val_accuracy: 0.8288\n",
            "Epoch 517/1000\n",
            "33/33 - 0s - loss: 0.8776 - accuracy: 0.8171 - val_loss: 0.4311 - val_accuracy: 0.8855\n",
            "Epoch 518/1000\n",
            "33/33 - 0s - loss: 0.7050 - accuracy: 0.8299 - val_loss: 0.7063 - val_accuracy: 0.7509\n",
            "Epoch 519/1000\n",
            "33/33 - 0s - loss: 0.7737 - accuracy: 0.8299 - val_loss: 0.5653 - val_accuracy: 0.8371\n",
            "Epoch 520/1000\n",
            "33/33 - 0s - loss: 0.5969 - accuracy: 0.8275 - val_loss: 0.4511 - val_accuracy: 0.8808\n",
            "Epoch 521/1000\n",
            "33/33 - 0s - loss: 0.6178 - accuracy: 0.8308 - val_loss: 0.4631 - val_accuracy: 0.8784\n",
            "Epoch 522/1000\n",
            "33/33 - 0s - loss: 0.7873 - accuracy: 0.8253 - val_loss: 0.4269 - val_accuracy: 0.8819\n",
            "Epoch 523/1000\n",
            "33/33 - 0s - loss: 0.8536 - accuracy: 0.8177 - val_loss: 0.6254 - val_accuracy: 0.8028\n",
            "Epoch 524/1000\n",
            "33/33 - 0s - loss: 0.6640 - accuracy: 0.8198 - val_loss: 0.5150 - val_accuracy: 0.8442\n",
            "Epoch 525/1000\n",
            "33/33 - 0s - loss: 0.5351 - accuracy: 0.8519 - val_loss: 0.4441 - val_accuracy: 0.8902\n",
            "Epoch 526/1000\n",
            "33/33 - 0s - loss: 0.5172 - accuracy: 0.8757 - val_loss: 0.4726 - val_accuracy: 0.8831\n",
            "Epoch 527/1000\n",
            "33/33 - 0s - loss: 0.5615 - accuracy: 0.8278 - val_loss: 0.4688 - val_accuracy: 0.8737\n",
            "Epoch 528/1000\n",
            "33/33 - 0s - loss: 0.5677 - accuracy: 0.8690 - val_loss: 0.4514 - val_accuracy: 0.8666\n",
            "Epoch 529/1000\n",
            "33/33 - 0s - loss: 0.5427 - accuracy: 0.8547 - val_loss: 0.4042 - val_accuracy: 0.9126\n",
            "Epoch 530/1000\n",
            "33/33 - 0s - loss: 0.5057 - accuracy: 0.8675 - val_loss: 0.3976 - val_accuracy: 0.9292\n",
            "Epoch 531/1000\n",
            "33/33 - 0s - loss: 0.5591 - accuracy: 0.8696 - val_loss: 0.4494 - val_accuracy: 0.8796\n",
            "Epoch 532/1000\n",
            "33/33 - 0s - loss: 0.6078 - accuracy: 0.8736 - val_loss: 0.4204 - val_accuracy: 0.9150\n",
            "Epoch 533/1000\n",
            "33/33 - 0s - loss: 0.6386 - accuracy: 0.8568 - val_loss: 0.5518 - val_accuracy: 0.8264\n",
            "Epoch 534/1000\n",
            "33/33 - 0s - loss: 0.7741 - accuracy: 0.8366 - val_loss: 0.4052 - val_accuracy: 0.9044\n",
            "Epoch 535/1000\n",
            "33/33 - 0s - loss: 0.8893 - accuracy: 0.8171 - val_loss: 0.5627 - val_accuracy: 0.8205\n",
            "Epoch 536/1000\n",
            "33/33 - 0s - loss: 1.0794 - accuracy: 0.7649 - val_loss: 0.4906 - val_accuracy: 0.8678\n",
            "Epoch 537/1000\n",
            "33/33 - 0s - loss: 1.1128 - accuracy: 0.8256 - val_loss: 0.6582 - val_accuracy: 0.7969\n",
            "Epoch 538/1000\n",
            "33/33 - 0s - loss: 1.0090 - accuracy: 0.7774 - val_loss: 0.5018 - val_accuracy: 0.8642\n",
            "Epoch 539/1000\n",
            "33/33 - 0s - loss: 1.0860 - accuracy: 0.8217 - val_loss: 0.5264 - val_accuracy: 0.8489\n",
            "Epoch 540/1000\n",
            "33/33 - 0s - loss: 0.8665 - accuracy: 0.8107 - val_loss: 0.5373 - val_accuracy: 0.8524\n",
            "Epoch 541/1000\n",
            "33/33 - 0s - loss: 0.9216 - accuracy: 0.8485 - val_loss: 0.7093 - val_accuracy: 0.7426\n",
            "Epoch 542/1000\n",
            "33/33 - 0s - loss: 1.7183 - accuracy: 0.7768 - val_loss: 0.5969 - val_accuracy: 0.8194\n",
            "Epoch 543/1000\n",
            "33/33 - 0s - loss: 1.2395 - accuracy: 0.7518 - val_loss: 0.5720 - val_accuracy: 0.7993\n",
            "Epoch 544/1000\n",
            "33/33 - 0s - loss: 0.8053 - accuracy: 0.8150 - val_loss: 0.4500 - val_accuracy: 0.8867\n",
            "Epoch 545/1000\n",
            "33/33 - 0s - loss: 0.6314 - accuracy: 0.8318 - val_loss: 0.4446 - val_accuracy: 0.8701\n",
            "Epoch 546/1000\n",
            "33/33 - 0s - loss: 0.5771 - accuracy: 0.8485 - val_loss: 0.4393 - val_accuracy: 0.8689\n",
            "Epoch 547/1000\n",
            "33/33 - 0s - loss: 0.5435 - accuracy: 0.8550 - val_loss: 0.4169 - val_accuracy: 0.8926\n",
            "Epoch 548/1000\n",
            "33/33 - 0s - loss: 0.5962 - accuracy: 0.8528 - val_loss: 0.4341 - val_accuracy: 0.8926\n",
            "Epoch 549/1000\n",
            "33/33 - 0s - loss: 0.5828 - accuracy: 0.8696 - val_loss: 0.4091 - val_accuracy: 0.8985\n",
            "Epoch 550/1000\n",
            "33/33 - 0s - loss: 0.6050 - accuracy: 0.8354 - val_loss: 0.4694 - val_accuracy: 0.8725\n",
            "Epoch 551/1000\n",
            "33/33 - 0s - loss: 0.7313 - accuracy: 0.8577 - val_loss: 0.3511 - val_accuracy: 0.9374\n",
            "Epoch 552/1000\n",
            "33/33 - 0s - loss: 0.6026 - accuracy: 0.8571 - val_loss: 0.3876 - val_accuracy: 0.9091\n",
            "Epoch 553/1000\n",
            "33/33 - 0s - loss: 0.6388 - accuracy: 0.8293 - val_loss: 0.4327 - val_accuracy: 0.9044\n",
            "Epoch 554/1000\n",
            "33/33 - 0s - loss: 0.9093 - accuracy: 0.8470 - val_loss: 0.4646 - val_accuracy: 0.8796\n",
            "Epoch 555/1000\n",
            "33/33 - 0s - loss: 0.7373 - accuracy: 0.8174 - val_loss: 0.4437 - val_accuracy: 0.8749\n",
            "Epoch 556/1000\n",
            "33/33 - 0s - loss: 0.5663 - accuracy: 0.8501 - val_loss: 0.4534 - val_accuracy: 0.8749\n",
            "Epoch 557/1000\n",
            "33/33 - 0s - loss: 0.5949 - accuracy: 0.8342 - val_loss: 0.4313 - val_accuracy: 0.8902\n",
            "Epoch 558/1000\n",
            "33/33 - 0s - loss: 0.4904 - accuracy: 0.8656 - val_loss: 0.3618 - val_accuracy: 0.9315\n",
            "Epoch 559/1000\n",
            "33/33 - 0s - loss: 0.5345 - accuracy: 0.8473 - val_loss: 0.4033 - val_accuracy: 0.9221\n",
            "Epoch 560/1000\n",
            "33/33 - 0s - loss: 0.5857 - accuracy: 0.8571 - val_loss: 0.4123 - val_accuracy: 0.9174\n",
            "Epoch 561/1000\n",
            "33/33 - 0s - loss: 0.5727 - accuracy: 0.8577 - val_loss: 0.3725 - val_accuracy: 0.9374\n",
            "Epoch 562/1000\n",
            "33/33 - 0s - loss: 0.5799 - accuracy: 0.8516 - val_loss: 0.4178 - val_accuracy: 0.9138\n",
            "Epoch 563/1000\n",
            "33/33 - 0s - loss: 0.5692 - accuracy: 0.8351 - val_loss: 0.3883 - val_accuracy: 0.9327\n",
            "Epoch 564/1000\n",
            "33/33 - 0s - loss: 0.5445 - accuracy: 0.8708 - val_loss: 0.3759 - val_accuracy: 0.9339\n",
            "Epoch 565/1000\n",
            "33/33 - 0s - loss: 0.6575 - accuracy: 0.8397 - val_loss: 0.4215 - val_accuracy: 0.8949\n",
            "Epoch 566/1000\n",
            "33/33 - 0s - loss: 0.6276 - accuracy: 0.8647 - val_loss: 0.3909 - val_accuracy: 0.9115\n",
            "Epoch 567/1000\n",
            "33/33 - 0s - loss: 0.6591 - accuracy: 0.8244 - val_loss: 0.4872 - val_accuracy: 0.8512\n",
            "Epoch 568/1000\n",
            "33/33 - 0s - loss: 0.5965 - accuracy: 0.8498 - val_loss: 0.4618 - val_accuracy: 0.8914\n",
            "Epoch 569/1000\n",
            "33/33 - 0s - loss: 0.5881 - accuracy: 0.8693 - val_loss: 0.4710 - val_accuracy: 0.8867\n",
            "Epoch 570/1000\n",
            "33/33 - 0s - loss: 0.5379 - accuracy: 0.8137 - val_loss: 0.4486 - val_accuracy: 0.8878\n",
            "Epoch 571/1000\n",
            "33/33 - 0s - loss: 0.5639 - accuracy: 0.8504 - val_loss: 0.4329 - val_accuracy: 0.8996\n",
            "Epoch 572/1000\n",
            "33/33 - 0s - loss: 0.5746 - accuracy: 0.8565 - val_loss: 0.4460 - val_accuracy: 0.8890\n",
            "Epoch 573/1000\n",
            "33/33 - 0s - loss: 0.9358 - accuracy: 0.8498 - val_loss: 0.4719 - val_accuracy: 0.8961\n",
            "Epoch 574/1000\n",
            "33/33 - 0s - loss: 1.6302 - accuracy: 0.8089 - val_loss: 0.8414 - val_accuracy: 0.7721\n",
            "Epoch 575/1000\n",
            "33/33 - 0s - loss: 1.1320 - accuracy: 0.7753 - val_loss: 0.5170 - val_accuracy: 0.8548\n",
            "Epoch 576/1000\n",
            "33/33 - 0s - loss: 1.1428 - accuracy: 0.7954 - val_loss: 0.7130 - val_accuracy: 0.7851\n",
            "Epoch 577/1000\n",
            "33/33 - 0s - loss: 1.0890 - accuracy: 0.7502 - val_loss: 0.5770 - val_accuracy: 0.8205\n",
            "Epoch 578/1000\n",
            "33/33 - 0s - loss: 0.9484 - accuracy: 0.8073 - val_loss: 0.5759 - val_accuracy: 0.8288\n",
            "Epoch 579/1000\n",
            "33/33 - 0s - loss: 0.7157 - accuracy: 0.7939 - val_loss: 0.4880 - val_accuracy: 0.8713\n",
            "Epoch 580/1000\n",
            "33/33 - 0s - loss: 0.7873 - accuracy: 0.8424 - val_loss: 0.4846 - val_accuracy: 0.8867\n",
            "Epoch 581/1000\n",
            "33/33 - 0s - loss: 0.6482 - accuracy: 0.8476 - val_loss: 0.5340 - val_accuracy: 0.8477\n",
            "Epoch 582/1000\n",
            "33/33 - 0s - loss: 0.6849 - accuracy: 0.8198 - val_loss: 0.5519 - val_accuracy: 0.8241\n",
            "Epoch 583/1000\n",
            "33/33 - 0s - loss: 0.7337 - accuracy: 0.8449 - val_loss: 0.4674 - val_accuracy: 0.8760\n",
            "Epoch 584/1000\n",
            "33/33 - 0s - loss: 0.9081 - accuracy: 0.8064 - val_loss: 0.4649 - val_accuracy: 0.8689\n",
            "Epoch 585/1000\n",
            "33/33 - 0s - loss: 0.6773 - accuracy: 0.8113 - val_loss: 0.4715 - val_accuracy: 0.8890\n",
            "Epoch 586/1000\n",
            "33/33 - 0s - loss: 0.6190 - accuracy: 0.8308 - val_loss: 0.4207 - val_accuracy: 0.8996\n",
            "Epoch 587/1000\n",
            "33/33 - 0s - loss: 0.6884 - accuracy: 0.8336 - val_loss: 0.4331 - val_accuracy: 0.8926\n",
            "Epoch 588/1000\n",
            "33/33 - 0s - loss: 0.6109 - accuracy: 0.8379 - val_loss: 0.3760 - val_accuracy: 0.9209\n",
            "Epoch 589/1000\n",
            "33/33 - 0s - loss: 0.5394 - accuracy: 0.8580 - val_loss: 0.4257 - val_accuracy: 0.9055\n",
            "Epoch 590/1000\n",
            "33/33 - 0s - loss: 0.6974 - accuracy: 0.8290 - val_loss: 0.4924 - val_accuracy: 0.8749\n",
            "Epoch 591/1000\n",
            "33/33 - 0s - loss: 0.8599 - accuracy: 0.8244 - val_loss: 0.4251 - val_accuracy: 0.9067\n",
            "Epoch 592/1000\n",
            "33/33 - 0s - loss: 0.8028 - accuracy: 0.8232 - val_loss: 0.4946 - val_accuracy: 0.8819\n",
            "Epoch 593/1000\n",
            "33/33 - 0s - loss: 0.7479 - accuracy: 0.8284 - val_loss: 0.4061 - val_accuracy: 0.9221\n",
            "Epoch 594/1000\n",
            "33/33 - 0s - loss: 0.6796 - accuracy: 0.8305 - val_loss: 0.4317 - val_accuracy: 0.9008\n",
            "Epoch 595/1000\n",
            "33/33 - 0s - loss: 0.5191 - accuracy: 0.8379 - val_loss: 0.3865 - val_accuracy: 0.9162\n",
            "Epoch 596/1000\n",
            "33/33 - 0s - loss: 0.4602 - accuracy: 0.8653 - val_loss: 0.3745 - val_accuracy: 0.9209\n",
            "Epoch 597/1000\n",
            "33/33 - 0s - loss: 0.4480 - accuracy: 0.8522 - val_loss: 0.3774 - val_accuracy: 0.9315\n",
            "Epoch 598/1000\n",
            "33/33 - 0s - loss: 0.4265 - accuracy: 0.8776 - val_loss: 0.3692 - val_accuracy: 0.9339\n",
            "Epoch 599/1000\n",
            "33/33 - 0s - loss: 0.4218 - accuracy: 0.8675 - val_loss: 0.3714 - val_accuracy: 0.9303\n",
            "Epoch 600/1000\n",
            "33/33 - 0s - loss: 0.4440 - accuracy: 0.8962 - val_loss: 0.3794 - val_accuracy: 0.9280\n",
            "Epoch 601/1000\n",
            "33/33 - 0s - loss: 0.4531 - accuracy: 0.8632 - val_loss: 0.3737 - val_accuracy: 0.9339\n",
            "Epoch 602/1000\n",
            "33/33 - 0s - loss: 0.4527 - accuracy: 0.8855 - val_loss: 0.3953 - val_accuracy: 0.9221\n",
            "Epoch 603/1000\n",
            "33/33 - 0s - loss: 0.4822 - accuracy: 0.8653 - val_loss: 0.4332 - val_accuracy: 0.9185\n",
            "Epoch 604/1000\n",
            "33/33 - 0s - loss: 0.7180 - accuracy: 0.8919 - val_loss: 0.4824 - val_accuracy: 0.8619\n",
            "Epoch 605/1000\n",
            "33/33 - 0s - loss: 0.6418 - accuracy: 0.8525 - val_loss: 0.5633 - val_accuracy: 0.8501\n",
            "Epoch 606/1000\n",
            "33/33 - 0s - loss: 0.6498 - accuracy: 0.8363 - val_loss: 0.4018 - val_accuracy: 0.9209\n",
            "Epoch 607/1000\n",
            "33/33 - 0s - loss: 0.7062 - accuracy: 0.8327 - val_loss: 0.4784 - val_accuracy: 0.8937\n",
            "Epoch 608/1000\n",
            "33/33 - 0s - loss: 0.7928 - accuracy: 0.8434 - val_loss: 0.4707 - val_accuracy: 0.8937\n",
            "Epoch 609/1000\n",
            "33/33 - 0s - loss: 0.8169 - accuracy: 0.8397 - val_loss: 0.5044 - val_accuracy: 0.8607\n",
            "Epoch 610/1000\n",
            "33/33 - 0s - loss: 1.1915 - accuracy: 0.8171 - val_loss: 0.4927 - val_accuracy: 0.8855\n",
            "Epoch 611/1000\n",
            "33/33 - 0s - loss: 0.8369 - accuracy: 0.8324 - val_loss: 0.4913 - val_accuracy: 0.8701\n",
            "Epoch 612/1000\n",
            "33/33 - 0s - loss: 0.6439 - accuracy: 0.8162 - val_loss: 0.4939 - val_accuracy: 0.8689\n",
            "Epoch 613/1000\n",
            "33/33 - 0s - loss: 0.5732 - accuracy: 0.8779 - val_loss: 0.4095 - val_accuracy: 0.9327\n",
            "Epoch 614/1000\n",
            "33/33 - 0s - loss: 0.6436 - accuracy: 0.8516 - val_loss: 0.4402 - val_accuracy: 0.8985\n",
            "Epoch 615/1000\n",
            "33/33 - 0s - loss: 0.5625 - accuracy: 0.8461 - val_loss: 0.4114 - val_accuracy: 0.9115\n",
            "Epoch 616/1000\n",
            "33/33 - 0s - loss: 0.4900 - accuracy: 0.8711 - val_loss: 0.3880 - val_accuracy: 0.9221\n",
            "Epoch 617/1000\n",
            "33/33 - 0s - loss: 0.4736 - accuracy: 0.8705 - val_loss: 0.4247 - val_accuracy: 0.9256\n",
            "Epoch 618/1000\n",
            "33/33 - 0s - loss: 0.5135 - accuracy: 0.8702 - val_loss: 0.3970 - val_accuracy: 0.9268\n",
            "Epoch 619/1000\n",
            "33/33 - 0s - loss: 0.5413 - accuracy: 0.8647 - val_loss: 0.4201 - val_accuracy: 0.9032\n",
            "Epoch 620/1000\n",
            "33/33 - 0s - loss: 0.5879 - accuracy: 0.8901 - val_loss: 0.4134 - val_accuracy: 0.9256\n",
            "Epoch 621/1000\n",
            "33/33 - 0s - loss: 0.8110 - accuracy: 0.8202 - val_loss: 0.4033 - val_accuracy: 0.9162\n",
            "Epoch 622/1000\n",
            "33/33 - 0s - loss: 0.6017 - accuracy: 0.8513 - val_loss: 0.3830 - val_accuracy: 0.9481\n",
            "Epoch 623/1000\n",
            "33/33 - 0s - loss: 0.5900 - accuracy: 0.8647 - val_loss: 0.4295 - val_accuracy: 0.9103\n",
            "Epoch 624/1000\n",
            "33/33 - 0s - loss: 0.5347 - accuracy: 0.8641 - val_loss: 0.4254 - val_accuracy: 0.9008\n",
            "Epoch 625/1000\n",
            "33/33 - 0s - loss: 0.7207 - accuracy: 0.8635 - val_loss: 0.4551 - val_accuracy: 0.8843\n",
            "Epoch 626/1000\n",
            "33/33 - 0s - loss: 0.9766 - accuracy: 0.8360 - val_loss: 0.6035 - val_accuracy: 0.8430\n",
            "Epoch 627/1000\n",
            "33/33 - 0s - loss: 1.2140 - accuracy: 0.8070 - val_loss: 0.5417 - val_accuracy: 0.8465\n",
            "Epoch 628/1000\n",
            "33/33 - 0s - loss: 0.9059 - accuracy: 0.8110 - val_loss: 0.4194 - val_accuracy: 0.8937\n",
            "Epoch 629/1000\n",
            "33/33 - 0s - loss: 0.8967 - accuracy: 0.8366 - val_loss: 0.4840 - val_accuracy: 0.8784\n",
            "Epoch 630/1000\n",
            "33/33 - 0s - loss: 0.9572 - accuracy: 0.7771 - val_loss: 0.5318 - val_accuracy: 0.8619\n",
            "Epoch 631/1000\n",
            "33/33 - 0s - loss: 0.8427 - accuracy: 0.7969 - val_loss: 0.5215 - val_accuracy: 0.8465\n",
            "Epoch 632/1000\n",
            "33/33 - 0s - loss: 0.6644 - accuracy: 0.8513 - val_loss: 0.5044 - val_accuracy: 0.8595\n",
            "Epoch 633/1000\n",
            "33/33 - 0s - loss: 0.8042 - accuracy: 0.8104 - val_loss: 0.4478 - val_accuracy: 0.8666\n",
            "Epoch 634/1000\n",
            "33/33 - 0s - loss: 0.5450 - accuracy: 0.8418 - val_loss: 0.4298 - val_accuracy: 0.8949\n",
            "Epoch 635/1000\n",
            "33/33 - 0s - loss: 0.5465 - accuracy: 0.8702 - val_loss: 0.4173 - val_accuracy: 0.9268\n",
            "Epoch 636/1000\n",
            "33/33 - 0s - loss: 0.5184 - accuracy: 0.8574 - val_loss: 0.4283 - val_accuracy: 0.8961\n",
            "Epoch 637/1000\n",
            "33/33 - 0s - loss: 0.4761 - accuracy: 0.8736 - val_loss: 0.4219 - val_accuracy: 0.8926\n",
            "Epoch 638/1000\n",
            "33/33 - 0s - loss: 0.4806 - accuracy: 0.8690 - val_loss: 0.4305 - val_accuracy: 0.8843\n",
            "Epoch 639/1000\n",
            "33/33 - 0s - loss: 0.5925 - accuracy: 0.8678 - val_loss: 0.4145 - val_accuracy: 0.9079\n",
            "Epoch 640/1000\n",
            "33/33 - 0s - loss: 0.7124 - accuracy: 0.8571 - val_loss: 0.4634 - val_accuracy: 0.8689\n",
            "Epoch 641/1000\n",
            "33/33 - 0s - loss: 0.6334 - accuracy: 0.8211 - val_loss: 0.4049 - val_accuracy: 0.9433\n",
            "Epoch 642/1000\n",
            "33/33 - 0s - loss: 0.4890 - accuracy: 0.8867 - val_loss: 0.4051 - val_accuracy: 0.9091\n",
            "Epoch 643/1000\n",
            "33/33 - 0s - loss: 0.4940 - accuracy: 0.8537 - val_loss: 0.4126 - val_accuracy: 0.9292\n",
            "Epoch 644/1000\n",
            "33/33 - 0s - loss: 0.4928 - accuracy: 0.8831 - val_loss: 0.3969 - val_accuracy: 0.9292\n",
            "Epoch 645/1000\n",
            "33/33 - 0s - loss: 0.4905 - accuracy: 0.8785 - val_loss: 0.3763 - val_accuracy: 0.9374\n",
            "Epoch 646/1000\n",
            "33/33 - 0s - loss: 0.5993 - accuracy: 0.8617 - val_loss: 0.4780 - val_accuracy: 0.8796\n",
            "Epoch 647/1000\n",
            "33/33 - 0s - loss: 0.6835 - accuracy: 0.8440 - val_loss: 0.4567 - val_accuracy: 0.8973\n",
            "Epoch 648/1000\n",
            "33/33 - 0s - loss: 0.6658 - accuracy: 0.8409 - val_loss: 0.4872 - val_accuracy: 0.8749\n",
            "Epoch 649/1000\n",
            "33/33 - 0s - loss: 0.6009 - accuracy: 0.8336 - val_loss: 0.4239 - val_accuracy: 0.8996\n",
            "Epoch 650/1000\n",
            "33/33 - 0s - loss: 0.6242 - accuracy: 0.8763 - val_loss: 0.4468 - val_accuracy: 0.9044\n",
            "Epoch 651/1000\n",
            "33/33 - 0s - loss: 0.7995 - accuracy: 0.8376 - val_loss: 0.5144 - val_accuracy: 0.8619\n",
            "Epoch 652/1000\n",
            "33/33 - 0s - loss: 0.8774 - accuracy: 0.7915 - val_loss: 0.5637 - val_accuracy: 0.8229\n",
            "Epoch 653/1000\n",
            "33/33 - 0s - loss: 0.8654 - accuracy: 0.7860 - val_loss: 0.3849 - val_accuracy: 0.9221\n",
            "Epoch 654/1000\n",
            "33/33 - 0s - loss: 0.7215 - accuracy: 0.8782 - val_loss: 0.4432 - val_accuracy: 0.8701\n",
            "Epoch 655/1000\n",
            "33/33 - 0s - loss: 0.5470 - accuracy: 0.8055 - val_loss: 0.3888 - val_accuracy: 0.9280\n",
            "Epoch 656/1000\n",
            "33/33 - 0s - loss: 0.5189 - accuracy: 0.8626 - val_loss: 0.3944 - val_accuracy: 0.9185\n",
            "Epoch 657/1000\n",
            "33/33 - 0s - loss: 0.5447 - accuracy: 0.8687 - val_loss: 0.3576 - val_accuracy: 0.9481\n",
            "Epoch 658/1000\n",
            "33/33 - 0s - loss: 0.5494 - accuracy: 0.8544 - val_loss: 0.3566 - val_accuracy: 0.9492\n",
            "Epoch 659/1000\n",
            "33/33 - 0s - loss: 0.4963 - accuracy: 0.8944 - val_loss: 0.3567 - val_accuracy: 0.9433\n",
            "Epoch 660/1000\n",
            "33/33 - 0s - loss: 0.5246 - accuracy: 0.8519 - val_loss: 0.4269 - val_accuracy: 0.9174\n",
            "Epoch 661/1000\n",
            "33/33 - 0s - loss: 0.4856 - accuracy: 0.8715 - val_loss: 0.4429 - val_accuracy: 0.8973\n",
            "Epoch 662/1000\n",
            "33/33 - 0s - loss: 0.5750 - accuracy: 0.8620 - val_loss: 0.4450 - val_accuracy: 0.8890\n",
            "Epoch 663/1000\n",
            "33/33 - 0s - loss: 0.5401 - accuracy: 0.8525 - val_loss: 0.4345 - val_accuracy: 0.8973\n",
            "Epoch 664/1000\n",
            "33/33 - 0s - loss: 0.5584 - accuracy: 0.8580 - val_loss: 0.4118 - val_accuracy: 0.8949\n",
            "Epoch 665/1000\n",
            "33/33 - 0s - loss: 0.5993 - accuracy: 0.8357 - val_loss: 0.4523 - val_accuracy: 0.8949\n",
            "Epoch 666/1000\n",
            "33/33 - 0s - loss: 0.5830 - accuracy: 0.8467 - val_loss: 0.3725 - val_accuracy: 0.9386\n",
            "Epoch 667/1000\n",
            "33/33 - 0s - loss: 0.5117 - accuracy: 0.8626 - val_loss: 0.3767 - val_accuracy: 0.9303\n",
            "Epoch 668/1000\n",
            "33/33 - 0s - loss: 0.6290 - accuracy: 0.8611 - val_loss: 0.4129 - val_accuracy: 0.9233\n",
            "Epoch 669/1000\n",
            "33/33 - 0s - loss: 0.5829 - accuracy: 0.8608 - val_loss: 0.3821 - val_accuracy: 0.9268\n",
            "Epoch 670/1000\n",
            "33/33 - 0s - loss: 0.6460 - accuracy: 0.8330 - val_loss: 0.4262 - val_accuracy: 0.9162\n",
            "Epoch 671/1000\n",
            "33/33 - 0s - loss: 0.7887 - accuracy: 0.8559 - val_loss: 0.4659 - val_accuracy: 0.8843\n",
            "Epoch 672/1000\n",
            "33/33 - 0s - loss: 0.6623 - accuracy: 0.8256 - val_loss: 0.4067 - val_accuracy: 0.9280\n",
            "Epoch 673/1000\n",
            "33/33 - 0s - loss: 0.9203 - accuracy: 0.8550 - val_loss: 0.5326 - val_accuracy: 0.8489\n",
            "Epoch 674/1000\n",
            "33/33 - 0s - loss: 0.7155 - accuracy: 0.8192 - val_loss: 0.4638 - val_accuracy: 0.8843\n",
            "Epoch 675/1000\n",
            "33/33 - 0s - loss: 0.5337 - accuracy: 0.8446 - val_loss: 0.4896 - val_accuracy: 0.8678\n",
            "Epoch 676/1000\n",
            "33/33 - 0s - loss: 0.4844 - accuracy: 0.8693 - val_loss: 0.4220 - val_accuracy: 0.9032\n",
            "Epoch 677/1000\n",
            "33/33 - 0s - loss: 0.4251 - accuracy: 0.8748 - val_loss: 0.3893 - val_accuracy: 0.9362\n",
            "Epoch 678/1000\n",
            "33/33 - 0s - loss: 0.4048 - accuracy: 0.8873 - val_loss: 0.4219 - val_accuracy: 0.9032\n",
            "Epoch 679/1000\n",
            "33/33 - 0s - loss: 0.4176 - accuracy: 0.8840 - val_loss: 0.3979 - val_accuracy: 0.9197\n",
            "Epoch 680/1000\n",
            "33/33 - 0s - loss: 0.4336 - accuracy: 0.8837 - val_loss: 0.4024 - val_accuracy: 0.9209\n",
            "Epoch 681/1000\n",
            "33/33 - 0s - loss: 0.4355 - accuracy: 0.8769 - val_loss: 0.3937 - val_accuracy: 0.9315\n",
            "Epoch 682/1000\n",
            "33/33 - 0s - loss: 0.4306 - accuracy: 0.9029 - val_loss: 0.3976 - val_accuracy: 0.9197\n",
            "Epoch 683/1000\n",
            "33/33 - 0s - loss: 0.4489 - accuracy: 0.8437 - val_loss: 0.3676 - val_accuracy: 0.9492\n",
            "Epoch 684/1000\n",
            "33/33 - 0s - loss: 0.4395 - accuracy: 0.9099 - val_loss: 0.3791 - val_accuracy: 0.9410\n",
            "Epoch 685/1000\n",
            "33/33 - 0s - loss: 0.5733 - accuracy: 0.8482 - val_loss: 0.4233 - val_accuracy: 0.9115\n",
            "Epoch 686/1000\n",
            "33/33 - 0s - loss: 0.9990 - accuracy: 0.8672 - val_loss: 0.4688 - val_accuracy: 0.8418\n",
            "Epoch 687/1000\n",
            "33/33 - 0s - loss: 0.7312 - accuracy: 0.8449 - val_loss: 0.5326 - val_accuracy: 0.8642\n",
            "Epoch 688/1000\n",
            "33/33 - 0s - loss: 1.1720 - accuracy: 0.7918 - val_loss: 0.5672 - val_accuracy: 0.8194\n",
            "Epoch 689/1000\n",
            "33/33 - 0s - loss: 0.9489 - accuracy: 0.8241 - val_loss: 0.5228 - val_accuracy: 0.8808\n",
            "Epoch 690/1000\n",
            "33/33 - 0s - loss: 1.4206 - accuracy: 0.8082 - val_loss: 0.5479 - val_accuracy: 0.8253\n",
            "Epoch 691/1000\n",
            "33/33 - 0s - loss: 1.1431 - accuracy: 0.8058 - val_loss: 0.6908 - val_accuracy: 0.8146\n",
            "Epoch 692/1000\n",
            "33/33 - 0s - loss: 0.7485 - accuracy: 0.8305 - val_loss: 0.4471 - val_accuracy: 0.9150\n",
            "Epoch 693/1000\n",
            "33/33 - 0s - loss: 0.6518 - accuracy: 0.8565 - val_loss: 0.4763 - val_accuracy: 0.8713\n",
            "Epoch 694/1000\n",
            "33/33 - 0s - loss: 0.5684 - accuracy: 0.8263 - val_loss: 0.4023 - val_accuracy: 0.9221\n",
            "Epoch 695/1000\n",
            "33/33 - 0s - loss: 0.5108 - accuracy: 0.8620 - val_loss: 0.4379 - val_accuracy: 0.9044\n",
            "Epoch 696/1000\n",
            "33/33 - 0s - loss: 0.5020 - accuracy: 0.8559 - val_loss: 0.4181 - val_accuracy: 0.9020\n",
            "Epoch 697/1000\n",
            "33/33 - 0s - loss: 0.4913 - accuracy: 0.8675 - val_loss: 0.4082 - val_accuracy: 0.9209\n",
            "Epoch 698/1000\n",
            "33/33 - 0s - loss: 0.5232 - accuracy: 0.8733 - val_loss: 0.4060 - val_accuracy: 0.9174\n",
            "Epoch 699/1000\n",
            "33/33 - 0s - loss: 0.5308 - accuracy: 0.8653 - val_loss: 0.4286 - val_accuracy: 0.9233\n",
            "Epoch 700/1000\n",
            "33/33 - 0s - loss: 0.5227 - accuracy: 0.8580 - val_loss: 0.5191 - val_accuracy: 0.8654\n",
            "Epoch 701/1000\n",
            "33/33 - 0s - loss: 0.4921 - accuracy: 0.8803 - val_loss: 0.4523 - val_accuracy: 0.9008\n",
            "Epoch 702/1000\n",
            "33/33 - 0s - loss: 0.4443 - accuracy: 0.8623 - val_loss: 0.4297 - val_accuracy: 0.9126\n",
            "Epoch 703/1000\n",
            "33/33 - 0s - loss: 0.4499 - accuracy: 0.8779 - val_loss: 0.4274 - val_accuracy: 0.9162\n",
            "Epoch 704/1000\n",
            "33/33 - 0s - loss: 0.4438 - accuracy: 0.8794 - val_loss: 0.4454 - val_accuracy: 0.9008\n",
            "Epoch 705/1000\n",
            "33/33 - 0s - loss: 0.5718 - accuracy: 0.8544 - val_loss: 0.4023 - val_accuracy: 0.9339\n",
            "Epoch 706/1000\n",
            "33/33 - 0s - loss: 0.6699 - accuracy: 0.8895 - val_loss: 0.5064 - val_accuracy: 0.8619\n",
            "Epoch 707/1000\n",
            "33/33 - 0s - loss: 0.7266 - accuracy: 0.8424 - val_loss: 0.4303 - val_accuracy: 0.9091\n",
            "Epoch 708/1000\n",
            "33/33 - 0s - loss: 0.5977 - accuracy: 0.8189 - val_loss: 0.5008 - val_accuracy: 0.8689\n",
            "Epoch 709/1000\n",
            "33/33 - 0s - loss: 0.7813 - accuracy: 0.8479 - val_loss: 0.5624 - val_accuracy: 0.8371\n",
            "Epoch 710/1000\n",
            "33/33 - 0s - loss: 0.7088 - accuracy: 0.8238 - val_loss: 0.5015 - val_accuracy: 0.8548\n",
            "Epoch 711/1000\n",
            "33/33 - 0s - loss: 0.5885 - accuracy: 0.8705 - val_loss: 0.4841 - val_accuracy: 0.8808\n",
            "Epoch 712/1000\n",
            "33/33 - 0s - loss: 0.6903 - accuracy: 0.8504 - val_loss: 0.5467 - val_accuracy: 0.8536\n",
            "Epoch 713/1000\n",
            "33/33 - 0s - loss: 0.6546 - accuracy: 0.8156 - val_loss: 0.4201 - val_accuracy: 0.8985\n",
            "Epoch 714/1000\n",
            "33/33 - 0s - loss: 0.8030 - accuracy: 0.8485 - val_loss: 0.6015 - val_accuracy: 0.8052\n",
            "Epoch 715/1000\n",
            "33/33 - 0s - loss: 0.8746 - accuracy: 0.7924 - val_loss: 0.4926 - val_accuracy: 0.8961\n",
            "Epoch 716/1000\n",
            "33/33 - 0s - loss: 0.7558 - accuracy: 0.8357 - val_loss: 0.5705 - val_accuracy: 0.8359\n",
            "Epoch 717/1000\n",
            "33/33 - 0s - loss: 0.5767 - accuracy: 0.8452 - val_loss: 0.4967 - val_accuracy: 0.8619\n",
            "Epoch 718/1000\n",
            "33/33 - 0s - loss: 0.5812 - accuracy: 0.8519 - val_loss: 0.5156 - val_accuracy: 0.8701\n",
            "Epoch 719/1000\n",
            "33/33 - 0s - loss: 0.5087 - accuracy: 0.8678 - val_loss: 0.4734 - val_accuracy: 0.8843\n",
            "Epoch 720/1000\n",
            "33/33 - 0s - loss: 0.4810 - accuracy: 0.8452 - val_loss: 0.4771 - val_accuracy: 0.8713\n",
            "Epoch 721/1000\n",
            "33/33 - 0s - loss: 0.4709 - accuracy: 0.8760 - val_loss: 0.4845 - val_accuracy: 0.8583\n",
            "Epoch 722/1000\n",
            "33/33 - 0s - loss: 0.4397 - accuracy: 0.8907 - val_loss: 0.4450 - val_accuracy: 0.9008\n",
            "Epoch 723/1000\n",
            "33/33 - 0s - loss: 0.4292 - accuracy: 0.8882 - val_loss: 0.4431 - val_accuracy: 0.8772\n",
            "Epoch 724/1000\n",
            "33/33 - 0s - loss: 0.4113 - accuracy: 0.8736 - val_loss: 0.4301 - val_accuracy: 0.9079\n",
            "Epoch 725/1000\n",
            "33/33 - 0s - loss: 0.3850 - accuracy: 0.8831 - val_loss: 0.4153 - val_accuracy: 0.9055\n",
            "Epoch 726/1000\n",
            "33/33 - 0s - loss: 0.3837 - accuracy: 0.9020 - val_loss: 0.4496 - val_accuracy: 0.8973\n",
            "Epoch 727/1000\n",
            "33/33 - 0s - loss: 0.3907 - accuracy: 0.8754 - val_loss: 0.4292 - val_accuracy: 0.9103\n",
            "Epoch 728/1000\n",
            "33/33 - 0s - loss: 0.3778 - accuracy: 0.8995 - val_loss: 0.3993 - val_accuracy: 0.9185\n",
            "Epoch 729/1000\n",
            "33/33 - 0s - loss: 0.4687 - accuracy: 0.8944 - val_loss: 0.5023 - val_accuracy: 0.8689\n",
            "Epoch 730/1000\n",
            "33/33 - 0s - loss: 0.5362 - accuracy: 0.8626 - val_loss: 0.3892 - val_accuracy: 0.9244\n",
            "Epoch 731/1000\n",
            "33/33 - 0s - loss: 0.4247 - accuracy: 0.8901 - val_loss: 0.4520 - val_accuracy: 0.8973\n",
            "Epoch 732/1000\n",
            "33/33 - 0s - loss: 0.4772 - accuracy: 0.8690 - val_loss: 0.4317 - val_accuracy: 0.9044\n",
            "Epoch 733/1000\n",
            "33/33 - 0s - loss: 0.4185 - accuracy: 0.8889 - val_loss: 0.4447 - val_accuracy: 0.8961\n",
            "Epoch 734/1000\n",
            "33/33 - 0s - loss: 0.4819 - accuracy: 0.8852 - val_loss: 0.4854 - val_accuracy: 0.8784\n",
            "Epoch 735/1000\n",
            "33/33 - 0s - loss: 0.5321 - accuracy: 0.8458 - val_loss: 0.5342 - val_accuracy: 0.8536\n",
            "Epoch 736/1000\n",
            "33/33 - 0s - loss: 0.6450 - accuracy: 0.8818 - val_loss: 0.5353 - val_accuracy: 0.8548\n",
            "Epoch 737/1000\n",
            "33/33 - 0s - loss: 0.6398 - accuracy: 0.8525 - val_loss: 0.5634 - val_accuracy: 0.8489\n",
            "Epoch 738/1000\n",
            "33/33 - 0s - loss: 0.7583 - accuracy: 0.8608 - val_loss: 0.5175 - val_accuracy: 0.8524\n",
            "Epoch 739/1000\n",
            "33/33 - 0s - loss: 0.5907 - accuracy: 0.8568 - val_loss: 0.5114 - val_accuracy: 0.8477\n",
            "Epoch 740/1000\n",
            "33/33 - 0s - loss: 0.5868 - accuracy: 0.8437 - val_loss: 0.5340 - val_accuracy: 0.8512\n",
            "Epoch 741/1000\n",
            "33/33 - 0s - loss: 0.5212 - accuracy: 0.8727 - val_loss: 0.4535 - val_accuracy: 0.8878\n",
            "Epoch 742/1000\n",
            "33/33 - 0s - loss: 0.4427 - accuracy: 0.8644 - val_loss: 0.4763 - val_accuracy: 0.8784\n",
            "Epoch 743/1000\n",
            "33/33 - 0s - loss: 0.4297 - accuracy: 0.8882 - val_loss: 0.4378 - val_accuracy: 0.8737\n",
            "Epoch 744/1000\n",
            "33/33 - 0s - loss: 0.3863 - accuracy: 0.8773 - val_loss: 0.4168 - val_accuracy: 0.9138\n",
            "Epoch 745/1000\n",
            "33/33 - 0s - loss: 0.3711 - accuracy: 0.8889 - val_loss: 0.4211 - val_accuracy: 0.9103\n",
            "Epoch 746/1000\n",
            "33/33 - 0s - loss: 0.4011 - accuracy: 0.8858 - val_loss: 0.4383 - val_accuracy: 0.9079\n",
            "Epoch 747/1000\n",
            "33/33 - 0s - loss: 0.4140 - accuracy: 0.8843 - val_loss: 0.4596 - val_accuracy: 0.9091\n",
            "Epoch 748/1000\n",
            "33/33 - 0s - loss: 0.4751 - accuracy: 0.8837 - val_loss: 0.4328 - val_accuracy: 0.8973\n",
            "Epoch 749/1000\n",
            "33/33 - 0s - loss: 0.7243 - accuracy: 0.8797 - val_loss: 0.5232 - val_accuracy: 0.8654\n",
            "Epoch 750/1000\n",
            "33/33 - 0s - loss: 0.7788 - accuracy: 0.8403 - val_loss: 0.4108 - val_accuracy: 0.8878\n",
            "Epoch 751/1000\n",
            "33/33 - 0s - loss: 0.7445 - accuracy: 0.8595 - val_loss: 0.4888 - val_accuracy: 0.8689\n",
            "Epoch 752/1000\n",
            "33/33 - 0s - loss: 0.7319 - accuracy: 0.8315 - val_loss: 0.6009 - val_accuracy: 0.8501\n",
            "Epoch 753/1000\n",
            "33/33 - 0s - loss: 0.9811 - accuracy: 0.8357 - val_loss: 0.6928 - val_accuracy: 0.8099\n",
            "Epoch 754/1000\n",
            "33/33 - 0s - loss: 0.9753 - accuracy: 0.8107 - val_loss: 0.6682 - val_accuracy: 0.8158\n",
            "Epoch 755/1000\n",
            "33/33 - 0s - loss: 0.7056 - accuracy: 0.8208 - val_loss: 0.6323 - val_accuracy: 0.8028\n",
            "Epoch 756/1000\n",
            "33/33 - 0s - loss: 0.6001 - accuracy: 0.8266 - val_loss: 0.5443 - val_accuracy: 0.8524\n",
            "Epoch 757/1000\n",
            "33/33 - 0s - loss: 0.7728 - accuracy: 0.8513 - val_loss: 0.6967 - val_accuracy: 0.7721\n",
            "Epoch 758/1000\n",
            "33/33 - 0s - loss: 0.7194 - accuracy: 0.8357 - val_loss: 0.5403 - val_accuracy: 0.8276\n",
            "Epoch 759/1000\n",
            "33/33 - 0s - loss: 0.7235 - accuracy: 0.8311 - val_loss: 0.5125 - val_accuracy: 0.8678\n",
            "Epoch 760/1000\n",
            "33/33 - 0s - loss: 0.5920 - accuracy: 0.8388 - val_loss: 0.5462 - val_accuracy: 0.8630\n",
            "Epoch 761/1000\n",
            "33/33 - 0s - loss: 0.5538 - accuracy: 0.8730 - val_loss: 0.4958 - val_accuracy: 0.8878\n",
            "Epoch 762/1000\n",
            "33/33 - 0s - loss: 0.4949 - accuracy: 0.8669 - val_loss: 0.4804 - val_accuracy: 0.8867\n",
            "Epoch 763/1000\n",
            "33/33 - 0s - loss: 0.4352 - accuracy: 0.8910 - val_loss: 0.4470 - val_accuracy: 0.9103\n",
            "Epoch 764/1000\n",
            "33/33 - 0s - loss: 0.4365 - accuracy: 0.8690 - val_loss: 0.4344 - val_accuracy: 0.9103\n",
            "Epoch 765/1000\n",
            "33/33 - 0s - loss: 0.4098 - accuracy: 0.8995 - val_loss: 0.4415 - val_accuracy: 0.8949\n",
            "Epoch 766/1000\n",
            "33/33 - 0s - loss: 0.4745 - accuracy: 0.8742 - val_loss: 0.4586 - val_accuracy: 0.8926\n",
            "Epoch 767/1000\n",
            "33/33 - 0s - loss: 0.4827 - accuracy: 0.8794 - val_loss: 0.4961 - val_accuracy: 0.8973\n",
            "Epoch 768/1000\n",
            "33/33 - 0s - loss: 0.4763 - accuracy: 0.8815 - val_loss: 0.4688 - val_accuracy: 0.8937\n",
            "Epoch 769/1000\n",
            "33/33 - 0s - loss: 0.5293 - accuracy: 0.8565 - val_loss: 0.4488 - val_accuracy: 0.9091\n",
            "Epoch 770/1000\n",
            "33/33 - 0s - loss: 0.5589 - accuracy: 0.8681 - val_loss: 0.4007 - val_accuracy: 0.9126\n",
            "Epoch 771/1000\n",
            "33/33 - 0s - loss: 0.7919 - accuracy: 0.8730 - val_loss: 0.6101 - val_accuracy: 0.8253\n",
            "Epoch 772/1000\n",
            "33/33 - 0s - loss: 0.6853 - accuracy: 0.8275 - val_loss: 0.5546 - val_accuracy: 0.8630\n",
            "Epoch 773/1000\n",
            "33/33 - 0s - loss: 0.7073 - accuracy: 0.8348 - val_loss: 0.5640 - val_accuracy: 0.8666\n",
            "Epoch 774/1000\n",
            "33/33 - 0s - loss: 0.8496 - accuracy: 0.8605 - val_loss: 0.5178 - val_accuracy: 0.8560\n",
            "Epoch 775/1000\n",
            "33/33 - 0s - loss: 0.5665 - accuracy: 0.8394 - val_loss: 0.5643 - val_accuracy: 0.8442\n",
            "Epoch 776/1000\n",
            "33/33 - 0s - loss: 0.4757 - accuracy: 0.8742 - val_loss: 0.4883 - val_accuracy: 0.8442\n",
            "Epoch 777/1000\n",
            "33/33 - 0s - loss: 0.4953 - accuracy: 0.9017 - val_loss: 0.4783 - val_accuracy: 0.8595\n",
            "Epoch 778/1000\n",
            "33/33 - 0s - loss: 0.5477 - accuracy: 0.8605 - val_loss: 0.4725 - val_accuracy: 0.8831\n",
            "Epoch 779/1000\n",
            "33/33 - 0s - loss: 0.6557 - accuracy: 0.8235 - val_loss: 0.4054 - val_accuracy: 0.9292\n",
            "Epoch 780/1000\n",
            "33/33 - 0s - loss: 0.6471 - accuracy: 0.8586 - val_loss: 0.4301 - val_accuracy: 0.9079\n",
            "Epoch 781/1000\n",
            "33/33 - 0s - loss: 0.6542 - accuracy: 0.8547 - val_loss: 0.5520 - val_accuracy: 0.8831\n",
            "Epoch 782/1000\n",
            "33/33 - 0s - loss: 0.5386 - accuracy: 0.8443 - val_loss: 0.4888 - val_accuracy: 0.9079\n",
            "Epoch 783/1000\n",
            "33/33 - 0s - loss: 0.4811 - accuracy: 0.8705 - val_loss: 0.4498 - val_accuracy: 0.9091\n",
            "Epoch 784/1000\n",
            "33/33 - 0s - loss: 0.5716 - accuracy: 0.8693 - val_loss: 0.4840 - val_accuracy: 0.9055\n",
            "Epoch 785/1000\n",
            "33/33 - 0s - loss: 0.5035 - accuracy: 0.8656 - val_loss: 0.4828 - val_accuracy: 0.8890\n",
            "Epoch 786/1000\n",
            "33/33 - 0s - loss: 0.4380 - accuracy: 0.8705 - val_loss: 0.4358 - val_accuracy: 0.9055\n",
            "Epoch 787/1000\n",
            "33/33 - 0s - loss: 0.4416 - accuracy: 0.8751 - val_loss: 0.4108 - val_accuracy: 0.9209\n",
            "Epoch 788/1000\n",
            "33/33 - 0s - loss: 0.4054 - accuracy: 0.8834 - val_loss: 0.4489 - val_accuracy: 0.9103\n",
            "Epoch 789/1000\n",
            "33/33 - 0s - loss: 0.4331 - accuracy: 0.8660 - val_loss: 0.4284 - val_accuracy: 0.9091\n",
            "Epoch 790/1000\n",
            "33/33 - 0s - loss: 0.4569 - accuracy: 0.8892 - val_loss: 0.4516 - val_accuracy: 0.8973\n",
            "Epoch 791/1000\n",
            "33/33 - 0s - loss: 0.5829 - accuracy: 0.8608 - val_loss: 0.4668 - val_accuracy: 0.9126\n",
            "Epoch 792/1000\n",
            "33/33 - 0s - loss: 0.6491 - accuracy: 0.8586 - val_loss: 0.5760 - val_accuracy: 0.8642\n",
            "Epoch 793/1000\n",
            "33/33 - 0s - loss: 0.6654 - accuracy: 0.8305 - val_loss: 0.4827 - val_accuracy: 0.8890\n",
            "Epoch 794/1000\n",
            "33/33 - 0s - loss: 0.7119 - accuracy: 0.8547 - val_loss: 0.4981 - val_accuracy: 0.8737\n",
            "Epoch 795/1000\n",
            "33/33 - 0s - loss: 0.6822 - accuracy: 0.8644 - val_loss: 0.5556 - val_accuracy: 0.8760\n",
            "Epoch 796/1000\n",
            "33/33 - 0s - loss: 0.6950 - accuracy: 0.8241 - val_loss: 0.4791 - val_accuracy: 0.8926\n",
            "Epoch 797/1000\n",
            "33/33 - 0s - loss: 0.7065 - accuracy: 0.8944 - val_loss: 0.5331 - val_accuracy: 0.8749\n",
            "Epoch 798/1000\n",
            "33/33 - 0s - loss: 0.6202 - accuracy: 0.8144 - val_loss: 0.4936 - val_accuracy: 0.8831\n",
            "Epoch 799/1000\n",
            "33/33 - 0s - loss: 0.6255 - accuracy: 0.8498 - val_loss: 0.5147 - val_accuracy: 0.8867\n",
            "Epoch 800/1000\n",
            "33/33 - 0s - loss: 0.4972 - accuracy: 0.8660 - val_loss: 0.4882 - val_accuracy: 0.9079\n",
            "Epoch 801/1000\n",
            "33/33 - 0s - loss: 0.4500 - accuracy: 0.8580 - val_loss: 0.5134 - val_accuracy: 0.8996\n",
            "Epoch 802/1000\n",
            "33/33 - 0s - loss: 0.4137 - accuracy: 0.8791 - val_loss: 0.4946 - val_accuracy: 0.9032\n",
            "Epoch 803/1000\n",
            "33/33 - 0s - loss: 0.4463 - accuracy: 0.8821 - val_loss: 0.4630 - val_accuracy: 0.8973\n",
            "Epoch 804/1000\n",
            "33/33 - 0s - loss: 0.4435 - accuracy: 0.8592 - val_loss: 0.4781 - val_accuracy: 0.9091\n",
            "Epoch 805/1000\n",
            "33/33 - 0s - loss: 0.4664 - accuracy: 0.8953 - val_loss: 0.4820 - val_accuracy: 0.9115\n",
            "Epoch 806/1000\n",
            "33/33 - 0s - loss: 0.4768 - accuracy: 0.8522 - val_loss: 0.4581 - val_accuracy: 0.9091\n",
            "Epoch 807/1000\n",
            "33/33 - 0s - loss: 0.4640 - accuracy: 0.8901 - val_loss: 0.5037 - val_accuracy: 0.9126\n",
            "Epoch 808/1000\n",
            "33/33 - 0s - loss: 0.4987 - accuracy: 0.8748 - val_loss: 0.4475 - val_accuracy: 0.9008\n",
            "Epoch 809/1000\n",
            "33/33 - 0s - loss: 0.6561 - accuracy: 0.8849 - val_loss: 0.5857 - val_accuracy: 0.8595\n",
            "Epoch 810/1000\n",
            "33/33 - 0s - loss: 0.6527 - accuracy: 0.8470 - val_loss: 0.4572 - val_accuracy: 0.8961\n",
            "Epoch 811/1000\n",
            "33/33 - 0s - loss: 0.6772 - accuracy: 0.8736 - val_loss: 0.5393 - val_accuracy: 0.8560\n",
            "Epoch 812/1000\n",
            "33/33 - 0s - loss: 0.6025 - accuracy: 0.8513 - val_loss: 0.4476 - val_accuracy: 0.9091\n",
            "Epoch 813/1000\n",
            "33/33 - 0s - loss: 0.7573 - accuracy: 0.8165 - val_loss: 0.6237 - val_accuracy: 0.8430\n",
            "Epoch 814/1000\n",
            "33/33 - 0s - loss: 0.7509 - accuracy: 0.8400 - val_loss: 0.4613 - val_accuracy: 0.8996\n",
            "Epoch 815/1000\n",
            "33/33 - 0s - loss: 0.8022 - accuracy: 0.8437 - val_loss: 0.4384 - val_accuracy: 0.8961\n",
            "Epoch 816/1000\n",
            "33/33 - 0s - loss: 1.1368 - accuracy: 0.8128 - val_loss: 0.5032 - val_accuracy: 0.8796\n",
            "Epoch 817/1000\n",
            "33/33 - 0s - loss: 0.9946 - accuracy: 0.8058 - val_loss: 0.5038 - val_accuracy: 0.8725\n",
            "Epoch 818/1000\n",
            "33/33 - 0s - loss: 0.7651 - accuracy: 0.8064 - val_loss: 0.3924 - val_accuracy: 0.9244\n",
            "Epoch 819/1000\n",
            "33/33 - 0s - loss: 0.5876 - accuracy: 0.8574 - val_loss: 0.4463 - val_accuracy: 0.8926\n",
            "Epoch 820/1000\n",
            "33/33 - 0s - loss: 0.6467 - accuracy: 0.8656 - val_loss: 0.4494 - val_accuracy: 0.9055\n",
            "Epoch 821/1000\n",
            "33/33 - 0s - loss: 0.9430 - accuracy: 0.8363 - val_loss: 0.5372 - val_accuracy: 0.8630\n",
            "Epoch 822/1000\n",
            "33/33 - 0s - loss: 1.1762 - accuracy: 0.8205 - val_loss: 0.5656 - val_accuracy: 0.8607\n",
            "Epoch 823/1000\n",
            "33/33 - 0s - loss: 0.7099 - accuracy: 0.8189 - val_loss: 0.5418 - val_accuracy: 0.8819\n",
            "Epoch 824/1000\n",
            "33/33 - 0s - loss: 0.6404 - accuracy: 0.8455 - val_loss: 0.5462 - val_accuracy: 0.8512\n",
            "Epoch 825/1000\n",
            "33/33 - 0s - loss: 0.6250 - accuracy: 0.8244 - val_loss: 0.5746 - val_accuracy: 0.8560\n",
            "Epoch 826/1000\n",
            "33/33 - 0s - loss: 0.5569 - accuracy: 0.8598 - val_loss: 0.5300 - val_accuracy: 0.8701\n",
            "Epoch 827/1000\n",
            "33/33 - 0s - loss: 0.5260 - accuracy: 0.8608 - val_loss: 0.4735 - val_accuracy: 0.9209\n",
            "Epoch 828/1000\n",
            "33/33 - 0s - loss: 0.5289 - accuracy: 0.8421 - val_loss: 0.4665 - val_accuracy: 0.9103\n",
            "Epoch 829/1000\n",
            "33/33 - 0s - loss: 0.5988 - accuracy: 0.8681 - val_loss: 0.4688 - val_accuracy: 0.8867\n",
            "Epoch 830/1000\n",
            "33/33 - 0s - loss: 0.5729 - accuracy: 0.8293 - val_loss: 0.5089 - val_accuracy: 0.8985\n",
            "Epoch 831/1000\n",
            "33/33 - 0s - loss: 0.4526 - accuracy: 0.8623 - val_loss: 0.4452 - val_accuracy: 0.9067\n",
            "Epoch 832/1000\n",
            "33/33 - 0s - loss: 0.4618 - accuracy: 0.8736 - val_loss: 0.4275 - val_accuracy: 0.8996\n",
            "Epoch 833/1000\n",
            "33/33 - 0s - loss: 0.6618 - accuracy: 0.8537 - val_loss: 0.5545 - val_accuracy: 0.8524\n",
            "Epoch 834/1000\n",
            "33/33 - 0s - loss: 0.7031 - accuracy: 0.8299 - val_loss: 0.5123 - val_accuracy: 0.8808\n",
            "Epoch 835/1000\n",
            "33/33 - 0s - loss: 0.6381 - accuracy: 0.8519 - val_loss: 0.5811 - val_accuracy: 0.8347\n",
            "Epoch 836/1000\n",
            "33/33 - 0s - loss: 0.6443 - accuracy: 0.8293 - val_loss: 0.4573 - val_accuracy: 0.8878\n",
            "Epoch 837/1000\n",
            "33/33 - 0s - loss: 0.5725 - accuracy: 0.8586 - val_loss: 0.4872 - val_accuracy: 0.8571\n",
            "Epoch 838/1000\n",
            "33/33 - 0s - loss: 0.5125 - accuracy: 0.8531 - val_loss: 0.4215 - val_accuracy: 0.9209\n",
            "Epoch 839/1000\n",
            "33/33 - 0s - loss: 0.5596 - accuracy: 0.8815 - val_loss: 0.4146 - val_accuracy: 0.9292\n",
            "Epoch 840/1000\n",
            "33/33 - 0s - loss: 0.4828 - accuracy: 0.8473 - val_loss: 0.3883 - val_accuracy: 0.9339\n",
            "Epoch 841/1000\n",
            "33/33 - 0s - loss: 0.4403 - accuracy: 0.8809 - val_loss: 0.4048 - val_accuracy: 0.9492\n",
            "Epoch 842/1000\n",
            "33/33 - 0s - loss: 0.4212 - accuracy: 0.8666 - val_loss: 0.4068 - val_accuracy: 0.9410\n",
            "Epoch 843/1000\n",
            "33/33 - 0s - loss: 0.4256 - accuracy: 0.9020 - val_loss: 0.4126 - val_accuracy: 0.9315\n",
            "Epoch 844/1000\n",
            "33/33 - 0s - loss: 0.4260 - accuracy: 0.8669 - val_loss: 0.3891 - val_accuracy: 0.9398\n",
            "Epoch 845/1000\n",
            "33/33 - 0s - loss: 0.4848 - accuracy: 0.9032 - val_loss: 0.3918 - val_accuracy: 0.9386\n",
            "Epoch 846/1000\n",
            "33/33 - 0s - loss: 0.4598 - accuracy: 0.8666 - val_loss: 0.4118 - val_accuracy: 0.9374\n",
            "Epoch 847/1000\n",
            "33/33 - 0s - loss: 0.4364 - accuracy: 0.8699 - val_loss: 0.3942 - val_accuracy: 0.9362\n",
            "Epoch 848/1000\n",
            "33/33 - 0s - loss: 0.3935 - accuracy: 0.8690 - val_loss: 0.3862 - val_accuracy: 0.9504\n",
            "Epoch 849/1000\n",
            "33/33 - 0s - loss: 0.3862 - accuracy: 0.8931 - val_loss: 0.4104 - val_accuracy: 0.9386\n",
            "Epoch 850/1000\n",
            "33/33 - 0s - loss: 0.3909 - accuracy: 0.8898 - val_loss: 0.3960 - val_accuracy: 0.9433\n",
            "Epoch 851/1000\n",
            "33/33 - 0s - loss: 0.6415 - accuracy: 0.8834 - val_loss: 0.5297 - val_accuracy: 0.8654\n",
            "Epoch 852/1000\n",
            "33/33 - 0s - loss: 0.7661 - accuracy: 0.8180 - val_loss: 0.5469 - val_accuracy: 0.8749\n",
            "Epoch 853/1000\n",
            "33/33 - 0s - loss: 0.7129 - accuracy: 0.8308 - val_loss: 0.4666 - val_accuracy: 0.8937\n",
            "Epoch 854/1000\n",
            "33/33 - 0s - loss: 0.8538 - accuracy: 0.8495 - val_loss: 0.5574 - val_accuracy: 0.8524\n",
            "Epoch 855/1000\n",
            "33/33 - 0s - loss: 1.0530 - accuracy: 0.8293 - val_loss: 0.5315 - val_accuracy: 0.8642\n",
            "Epoch 856/1000\n",
            "33/33 - 0s - loss: 0.8739 - accuracy: 0.8464 - val_loss: 0.5061 - val_accuracy: 0.8630\n",
            "Epoch 857/1000\n",
            "33/33 - 0s - loss: 0.5889 - accuracy: 0.8495 - val_loss: 0.4294 - val_accuracy: 0.9150\n",
            "Epoch 858/1000\n",
            "33/33 - 0s - loss: 0.5117 - accuracy: 0.8940 - val_loss: 0.4493 - val_accuracy: 0.9115\n",
            "Epoch 859/1000\n",
            "33/33 - 0s - loss: 0.4891 - accuracy: 0.8501 - val_loss: 0.4645 - val_accuracy: 0.9055\n",
            "Epoch 860/1000\n",
            "33/33 - 0s - loss: 0.4544 - accuracy: 0.8812 - val_loss: 0.4198 - val_accuracy: 0.9221\n",
            "Epoch 861/1000\n",
            "33/33 - 0s - loss: 0.4505 - accuracy: 0.8977 - val_loss: 0.4147 - val_accuracy: 0.9268\n",
            "Epoch 862/1000\n",
            "33/33 - 0s - loss: 0.4228 - accuracy: 0.8715 - val_loss: 0.3926 - val_accuracy: 0.9303\n",
            "Epoch 863/1000\n",
            "33/33 - 0s - loss: 0.4441 - accuracy: 0.8766 - val_loss: 0.4298 - val_accuracy: 0.9268\n",
            "Epoch 864/1000\n",
            "33/33 - 0s - loss: 0.4655 - accuracy: 0.8879 - val_loss: 0.4099 - val_accuracy: 0.9256\n",
            "Epoch 865/1000\n",
            "33/33 - 0s - loss: 0.5021 - accuracy: 0.8647 - val_loss: 0.4380 - val_accuracy: 0.9044\n",
            "Epoch 866/1000\n",
            "33/33 - 0s - loss: 0.7292 - accuracy: 0.8660 - val_loss: 0.4880 - val_accuracy: 0.8713\n",
            "Epoch 867/1000\n",
            "33/33 - 0s - loss: 0.7308 - accuracy: 0.8354 - val_loss: 0.4761 - val_accuracy: 0.9197\n",
            "Epoch 868/1000\n",
            "33/33 - 0s - loss: 0.6484 - accuracy: 0.8495 - val_loss: 0.4815 - val_accuracy: 0.8878\n",
            "Epoch 869/1000\n",
            "33/33 - 0s - loss: 0.7778 - accuracy: 0.8440 - val_loss: 0.5624 - val_accuracy: 0.8253\n",
            "Epoch 870/1000\n",
            "33/33 - 0s - loss: 1.0928 - accuracy: 0.8281 - val_loss: 0.5973 - val_accuracy: 0.8548\n",
            "Epoch 871/1000\n",
            "33/33 - 0s - loss: 0.7977 - accuracy: 0.8424 - val_loss: 0.4732 - val_accuracy: 0.8831\n",
            "Epoch 872/1000\n",
            "33/33 - 0s - loss: 0.6649 - accuracy: 0.8348 - val_loss: 0.4543 - val_accuracy: 0.9032\n",
            "Epoch 873/1000\n",
            "33/33 - 0s - loss: 0.6643 - accuracy: 0.8455 - val_loss: 0.6653 - val_accuracy: 0.8276\n",
            "Epoch 874/1000\n",
            "33/33 - 0s - loss: 0.5816 - accuracy: 0.8260 - val_loss: 0.4559 - val_accuracy: 0.9044\n",
            "Epoch 875/1000\n",
            "33/33 - 0s - loss: 0.6235 - accuracy: 0.8736 - val_loss: 0.4894 - val_accuracy: 0.8654\n",
            "Epoch 876/1000\n",
            "33/33 - 0s - loss: 0.5424 - accuracy: 0.8308 - val_loss: 0.4963 - val_accuracy: 0.8819\n",
            "Epoch 877/1000\n",
            "33/33 - 0s - loss: 0.5817 - accuracy: 0.8879 - val_loss: 0.4342 - val_accuracy: 0.9067\n",
            "Epoch 878/1000\n",
            "33/33 - 0s - loss: 0.5861 - accuracy: 0.8516 - val_loss: 0.4511 - val_accuracy: 0.8890\n",
            "Epoch 879/1000\n",
            "33/33 - 0s - loss: 0.4783 - accuracy: 0.8556 - val_loss: 0.4011 - val_accuracy: 0.9162\n",
            "Epoch 880/1000\n",
            "33/33 - 0s - loss: 0.3985 - accuracy: 0.8870 - val_loss: 0.3897 - val_accuracy: 0.9233\n",
            "Epoch 881/1000\n",
            "33/33 - 0s - loss: 0.3803 - accuracy: 0.8852 - val_loss: 0.3981 - val_accuracy: 0.9138\n",
            "Epoch 882/1000\n",
            "33/33 - 0s - loss: 0.3643 - accuracy: 0.8989 - val_loss: 0.3889 - val_accuracy: 0.9244\n",
            "Epoch 883/1000\n",
            "33/33 - 0s - loss: 0.3564 - accuracy: 0.9005 - val_loss: 0.3952 - val_accuracy: 0.9374\n",
            "Epoch 884/1000\n",
            "33/33 - 0s - loss: 0.3542 - accuracy: 0.8989 - val_loss: 0.3906 - val_accuracy: 0.9327\n",
            "Epoch 885/1000\n",
            "33/33 - 0s - loss: 0.3746 - accuracy: 0.9111 - val_loss: 0.4016 - val_accuracy: 0.9327\n",
            "Epoch 886/1000\n",
            "33/33 - 0s - loss: 0.3708 - accuracy: 0.8797 - val_loss: 0.4312 - val_accuracy: 0.9115\n",
            "Epoch 887/1000\n",
            "33/33 - 0s - loss: 0.4711 - accuracy: 0.8922 - val_loss: 0.4149 - val_accuracy: 0.9256\n",
            "Epoch 888/1000\n",
            "33/33 - 0s - loss: 0.7368 - accuracy: 0.8592 - val_loss: 0.5017 - val_accuracy: 0.9020\n",
            "Epoch 889/1000\n",
            "33/33 - 0s - loss: 1.0144 - accuracy: 0.8519 - val_loss: 0.4971 - val_accuracy: 0.8831\n",
            "Epoch 890/1000\n",
            "33/33 - 0s - loss: 0.6971 - accuracy: 0.8498 - val_loss: 0.4721 - val_accuracy: 0.8737\n",
            "Epoch 891/1000\n",
            "33/33 - 0s - loss: 0.7162 - accuracy: 0.8214 - val_loss: 0.5777 - val_accuracy: 0.8288\n",
            "Epoch 892/1000\n",
            "33/33 - 0s - loss: 0.6841 - accuracy: 0.8147 - val_loss: 0.4456 - val_accuracy: 0.8961\n",
            "Epoch 893/1000\n",
            "33/33 - 0s - loss: 0.5892 - accuracy: 0.8382 - val_loss: 0.4327 - val_accuracy: 0.8937\n",
            "Epoch 894/1000\n",
            "33/33 - 0s - loss: 0.4630 - accuracy: 0.8595 - val_loss: 0.4408 - val_accuracy: 0.9091\n",
            "Epoch 895/1000\n",
            "33/33 - 0s - loss: 0.5036 - accuracy: 0.8818 - val_loss: 0.4379 - val_accuracy: 0.9091\n",
            "Epoch 896/1000\n",
            "33/33 - 0s - loss: 0.5023 - accuracy: 0.8724 - val_loss: 0.4658 - val_accuracy: 0.8926\n",
            "Epoch 897/1000\n",
            "33/33 - 0s - loss: 0.6407 - accuracy: 0.8675 - val_loss: 0.4825 - val_accuracy: 0.8654\n",
            "Epoch 898/1000\n",
            "33/33 - 0s - loss: 0.9318 - accuracy: 0.8351 - val_loss: 0.4941 - val_accuracy: 0.8796\n",
            "Epoch 899/1000\n",
            "33/33 - 0s - loss: 0.7928 - accuracy: 0.8089 - val_loss: 0.5856 - val_accuracy: 0.8253\n",
            "Epoch 900/1000\n",
            "33/33 - 0s - loss: 0.7651 - accuracy: 0.8504 - val_loss: 0.5701 - val_accuracy: 0.8347\n",
            "Epoch 901/1000\n",
            "33/33 - 0s - loss: 0.5960 - accuracy: 0.8412 - val_loss: 0.4498 - val_accuracy: 0.8808\n",
            "Epoch 902/1000\n",
            "33/33 - 0s - loss: 0.5312 - accuracy: 0.8589 - val_loss: 0.5155 - val_accuracy: 0.8194\n",
            "Epoch 903/1000\n",
            "33/33 - 0s - loss: 0.6448 - accuracy: 0.8366 - val_loss: 0.4979 - val_accuracy: 0.8583\n",
            "Epoch 904/1000\n",
            "33/33 - 0s - loss: 0.6154 - accuracy: 0.8663 - val_loss: 0.5142 - val_accuracy: 0.8524\n",
            "Epoch 905/1000\n",
            "33/33 - 0s - loss: 0.5038 - accuracy: 0.8559 - val_loss: 0.4696 - val_accuracy: 0.8642\n",
            "Epoch 906/1000\n",
            "33/33 - 0s - loss: 0.4316 - accuracy: 0.8663 - val_loss: 0.4632 - val_accuracy: 0.8713\n",
            "Epoch 907/1000\n",
            "33/33 - 0s - loss: 0.4178 - accuracy: 0.8885 - val_loss: 0.4183 - val_accuracy: 0.8949\n",
            "Epoch 908/1000\n",
            "33/33 - 0s - loss: 0.4472 - accuracy: 0.8806 - val_loss: 0.4721 - val_accuracy: 0.8607\n",
            "Epoch 909/1000\n",
            "33/33 - 0s - loss: 0.4289 - accuracy: 0.8666 - val_loss: 0.4603 - val_accuracy: 0.8678\n",
            "Epoch 910/1000\n",
            "33/33 - 0s - loss: 0.3964 - accuracy: 0.8815 - val_loss: 0.4806 - val_accuracy: 0.9020\n",
            "Epoch 911/1000\n",
            "33/33 - 0s - loss: 0.3756 - accuracy: 0.8901 - val_loss: 0.4342 - val_accuracy: 0.9115\n",
            "Epoch 912/1000\n",
            "33/33 - 0s - loss: 0.3701 - accuracy: 0.8998 - val_loss: 0.4488 - val_accuracy: 0.8819\n",
            "Epoch 913/1000\n",
            "33/33 - 0s - loss: 0.4039 - accuracy: 0.8931 - val_loss: 0.4468 - val_accuracy: 0.8949\n",
            "Epoch 914/1000\n",
            "33/33 - 0s - loss: 0.3846 - accuracy: 0.8919 - val_loss: 0.5971 - val_accuracy: 0.8489\n",
            "Epoch 915/1000\n",
            "33/33 - 0s - loss: 0.5503 - accuracy: 0.8779 - val_loss: 0.5263 - val_accuracy: 0.8642\n",
            "Epoch 916/1000\n",
            "33/33 - 0s - loss: 0.4573 - accuracy: 0.8660 - val_loss: 0.4590 - val_accuracy: 0.8855\n",
            "Epoch 917/1000\n",
            "33/33 - 0s - loss: 0.4111 - accuracy: 0.8940 - val_loss: 0.4335 - val_accuracy: 0.9209\n",
            "Epoch 918/1000\n",
            "33/33 - 0s - loss: 0.4378 - accuracy: 0.8733 - val_loss: 0.4530 - val_accuracy: 0.8678\n",
            "Epoch 919/1000\n",
            "33/33 - 0s - loss: 0.4604 - accuracy: 0.8687 - val_loss: 0.3920 - val_accuracy: 0.9268\n",
            "Epoch 920/1000\n",
            "33/33 - 0s - loss: 0.4169 - accuracy: 0.8864 - val_loss: 0.4239 - val_accuracy: 0.8996\n",
            "Epoch 921/1000\n",
            "33/33 - 0s - loss: 0.4675 - accuracy: 0.8656 - val_loss: 0.3831 - val_accuracy: 0.9315\n",
            "Epoch 922/1000\n",
            "33/33 - 0s - loss: 0.4625 - accuracy: 0.8922 - val_loss: 0.5372 - val_accuracy: 0.8560\n",
            "Epoch 923/1000\n",
            "33/33 - 0s - loss: 0.4537 - accuracy: 0.8583 - val_loss: 0.5074 - val_accuracy: 0.8843\n",
            "Epoch 924/1000\n",
            "33/33 - 0s - loss: 0.3785 - accuracy: 0.9026 - val_loss: 0.5490 - val_accuracy: 0.8430\n",
            "Epoch 925/1000\n",
            "33/33 - 0s - loss: 0.4597 - accuracy: 0.8641 - val_loss: 0.5062 - val_accuracy: 0.8607\n",
            "Epoch 926/1000\n",
            "33/33 - 0s - loss: 0.4494 - accuracy: 0.8864 - val_loss: 0.4712 - val_accuracy: 0.8737\n",
            "Epoch 927/1000\n",
            "33/33 - 0s - loss: 0.4465 - accuracy: 0.8592 - val_loss: 0.4801 - val_accuracy: 0.8808\n",
            "Epoch 928/1000\n",
            "33/33 - 0s - loss: 0.6502 - accuracy: 0.8708 - val_loss: 0.5055 - val_accuracy: 0.8890\n",
            "Epoch 929/1000\n",
            "33/33 - 0s - loss: 0.6021 - accuracy: 0.8519 - val_loss: 0.6099 - val_accuracy: 0.8512\n",
            "Epoch 930/1000\n",
            "33/33 - 0s - loss: 0.5428 - accuracy: 0.8354 - val_loss: 0.4605 - val_accuracy: 0.8749\n",
            "Epoch 931/1000\n",
            "33/33 - 0s - loss: 0.4297 - accuracy: 0.8782 - val_loss: 0.4806 - val_accuracy: 0.8666\n",
            "Epoch 932/1000\n",
            "33/33 - 0s - loss: 0.4845 - accuracy: 0.8544 - val_loss: 0.5580 - val_accuracy: 0.8512\n",
            "Epoch 933/1000\n",
            "33/33 - 0s - loss: 0.7252 - accuracy: 0.8815 - val_loss: 0.4684 - val_accuracy: 0.8701\n",
            "Epoch 934/1000\n",
            "33/33 - 0s - loss: 0.6653 - accuracy: 0.8598 - val_loss: 0.4984 - val_accuracy: 0.8406\n",
            "Epoch 935/1000\n",
            "33/33 - 0s - loss: 0.8339 - accuracy: 0.8482 - val_loss: 0.5059 - val_accuracy: 0.8878\n",
            "Epoch 936/1000\n",
            "33/33 - 0s - loss: 1.0729 - accuracy: 0.8134 - val_loss: 0.5194 - val_accuracy: 0.8642\n",
            "Epoch 937/1000\n",
            "33/33 - 0s - loss: 0.9370 - accuracy: 0.8363 - val_loss: 0.5250 - val_accuracy: 0.8335\n",
            "Epoch 938/1000\n",
            "33/33 - 0s - loss: 0.6699 - accuracy: 0.8214 - val_loss: 0.4383 - val_accuracy: 0.8855\n",
            "Epoch 939/1000\n",
            "33/33 - 0s - loss: 0.6437 - accuracy: 0.8779 - val_loss: 0.4847 - val_accuracy: 0.8536\n",
            "Epoch 940/1000\n",
            "33/33 - 0s - loss: 0.6839 - accuracy: 0.8547 - val_loss: 0.5172 - val_accuracy: 0.8595\n",
            "Epoch 941/1000\n",
            "33/33 - 0s - loss: 0.6613 - accuracy: 0.8461 - val_loss: 0.4774 - val_accuracy: 0.8630\n",
            "Epoch 942/1000\n",
            "33/33 - 0s - loss: 0.7137 - accuracy: 0.8192 - val_loss: 0.4748 - val_accuracy: 0.8831\n",
            "Epoch 943/1000\n",
            "33/33 - 0s - loss: 0.5956 - accuracy: 0.8324 - val_loss: 0.4304 - val_accuracy: 0.8949\n",
            "Epoch 944/1000\n",
            "33/33 - 0s - loss: 0.6159 - accuracy: 0.8550 - val_loss: 0.5013 - val_accuracy: 0.8772\n",
            "Epoch 945/1000\n",
            "33/33 - 0s - loss: 0.7262 - accuracy: 0.8537 - val_loss: 0.4467 - val_accuracy: 0.8949\n",
            "Epoch 946/1000\n",
            "33/33 - 0s - loss: 0.7775 - accuracy: 0.8611 - val_loss: 0.5053 - val_accuracy: 0.8914\n",
            "Epoch 947/1000\n",
            "33/33 - 0s - loss: 0.6407 - accuracy: 0.8354 - val_loss: 0.4580 - val_accuracy: 0.9055\n",
            "Epoch 948/1000\n",
            "33/33 - 0s - loss: 0.8512 - accuracy: 0.8571 - val_loss: 0.5446 - val_accuracy: 0.8619\n",
            "Epoch 949/1000\n",
            "33/33 - 0s - loss: 0.6939 - accuracy: 0.8339 - val_loss: 0.5912 - val_accuracy: 0.8453\n",
            "Epoch 950/1000\n",
            "33/33 - 0s - loss: 0.5714 - accuracy: 0.8211 - val_loss: 0.4740 - val_accuracy: 0.9138\n",
            "Epoch 951/1000\n",
            "33/33 - 0s - loss: 0.5789 - accuracy: 0.8577 - val_loss: 0.5304 - val_accuracy: 0.8430\n",
            "Epoch 952/1000\n",
            "33/33 - 0s - loss: 0.5739 - accuracy: 0.8382 - val_loss: 0.4573 - val_accuracy: 0.8926\n",
            "Epoch 953/1000\n",
            "33/33 - 0s - loss: 0.4493 - accuracy: 0.8916 - val_loss: 0.4500 - val_accuracy: 0.8902\n",
            "Epoch 954/1000\n",
            "33/33 - 0s - loss: 0.4137 - accuracy: 0.8867 - val_loss: 0.4305 - val_accuracy: 0.9055\n",
            "Epoch 955/1000\n",
            "33/33 - 0s - loss: 0.3706 - accuracy: 0.8913 - val_loss: 0.4367 - val_accuracy: 0.9020\n",
            "Epoch 956/1000\n",
            "33/33 - 0s - loss: 0.3542 - accuracy: 0.8898 - val_loss: 0.4236 - val_accuracy: 0.9008\n",
            "Epoch 957/1000\n",
            "33/33 - 0s - loss: 0.3438 - accuracy: 0.8968 - val_loss: 0.4287 - val_accuracy: 0.9008\n",
            "Epoch 958/1000\n",
            "33/33 - 0s - loss: 0.3502 - accuracy: 0.9023 - val_loss: 0.4195 - val_accuracy: 0.8996\n",
            "Epoch 959/1000\n",
            "33/33 - 0s - loss: 0.3648 - accuracy: 0.8947 - val_loss: 0.4627 - val_accuracy: 0.8902\n",
            "Epoch 960/1000\n",
            "33/33 - 0s - loss: 0.3966 - accuracy: 0.8937 - val_loss: 0.4724 - val_accuracy: 0.8937\n",
            "Epoch 961/1000\n",
            "33/33 - 0s - loss: 0.3858 - accuracy: 0.9053 - val_loss: 0.4317 - val_accuracy: 0.9020\n",
            "Epoch 962/1000\n",
            "33/33 - 0s - loss: 0.3939 - accuracy: 0.8757 - val_loss: 0.4632 - val_accuracy: 0.8819\n",
            "Epoch 963/1000\n",
            "33/33 - 0s - loss: 0.4766 - accuracy: 0.8873 - val_loss: 0.4266 - val_accuracy: 0.9020\n",
            "Epoch 964/1000\n",
            "33/33 - 0s - loss: 0.4281 - accuracy: 0.8660 - val_loss: 0.4437 - val_accuracy: 0.9008\n",
            "Epoch 965/1000\n",
            "33/33 - 0s - loss: 0.3864 - accuracy: 0.8892 - val_loss: 0.4378 - val_accuracy: 0.9044\n",
            "Epoch 966/1000\n",
            "33/33 - 0s - loss: 0.3764 - accuracy: 0.8956 - val_loss: 0.4327 - val_accuracy: 0.9209\n",
            "Epoch 967/1000\n",
            "33/33 - 0s - loss: 0.3359 - accuracy: 0.9056 - val_loss: 0.4098 - val_accuracy: 0.9174\n",
            "Epoch 968/1000\n",
            "33/33 - 0s - loss: 0.3755 - accuracy: 0.8919 - val_loss: 0.4024 - val_accuracy: 0.9410\n",
            "Epoch 969/1000\n",
            "33/33 - 0s - loss: 0.3597 - accuracy: 0.9118 - val_loss: 0.4167 - val_accuracy: 0.9174\n",
            "Epoch 970/1000\n",
            "33/33 - 0s - loss: 0.3866 - accuracy: 0.8889 - val_loss: 0.4233 - val_accuracy: 0.9162\n",
            "Epoch 971/1000\n",
            "33/33 - 0s - loss: 0.3485 - accuracy: 0.9078 - val_loss: 0.4050 - val_accuracy: 0.9221\n",
            "Epoch 972/1000\n",
            "33/33 - 0s - loss: 0.4388 - accuracy: 0.8992 - val_loss: 0.4389 - val_accuracy: 0.8961\n",
            "Epoch 973/1000\n",
            "33/33 - 0s - loss: 0.4759 - accuracy: 0.8800 - val_loss: 0.3940 - val_accuracy: 0.9244\n",
            "Epoch 974/1000\n",
            "33/33 - 0s - loss: 0.6311 - accuracy: 0.8632 - val_loss: 0.4874 - val_accuracy: 0.8689\n",
            "Epoch 975/1000\n",
            "33/33 - 0s - loss: 0.7132 - accuracy: 0.8733 - val_loss: 0.4782 - val_accuracy: 0.8689\n",
            "Epoch 976/1000\n",
            "33/33 - 0s - loss: 1.1088 - accuracy: 0.8021 - val_loss: 0.6823 - val_accuracy: 0.8264\n",
            "Epoch 977/1000\n",
            "33/33 - 0s - loss: 1.8883 - accuracy: 0.7948 - val_loss: 1.0405 - val_accuracy: 0.7898\n",
            "Epoch 978/1000\n",
            "33/33 - 0s - loss: 2.2061 - accuracy: 0.7429 - val_loss: 0.8933 - val_accuracy: 0.7166\n",
            "Epoch 979/1000\n",
            "33/33 - 0s - loss: 1.3428 - accuracy: 0.7533 - val_loss: 0.4762 - val_accuracy: 0.8890\n",
            "Epoch 980/1000\n",
            "33/33 - 0s - loss: 0.8536 - accuracy: 0.8192 - val_loss: 0.5127 - val_accuracy: 0.8560\n",
            "Epoch 981/1000\n",
            "33/33 - 0s - loss: 0.5578 - accuracy: 0.8131 - val_loss: 0.3841 - val_accuracy: 0.9162\n",
            "Epoch 982/1000\n",
            "33/33 - 0s - loss: 0.4991 - accuracy: 0.8644 - val_loss: 0.4034 - val_accuracy: 0.8985\n",
            "Epoch 983/1000\n",
            "33/33 - 0s - loss: 0.4525 - accuracy: 0.8574 - val_loss: 0.3752 - val_accuracy: 0.9126\n",
            "Epoch 984/1000\n",
            "33/33 - 0s - loss: 0.4142 - accuracy: 0.8647 - val_loss: 0.3623 - val_accuracy: 0.9292\n",
            "Epoch 985/1000\n",
            "33/33 - 0s - loss: 0.3982 - accuracy: 0.8864 - val_loss: 0.3705 - val_accuracy: 0.9339\n",
            "Epoch 986/1000\n",
            "33/33 - 0s - loss: 0.3798 - accuracy: 0.8882 - val_loss: 0.3572 - val_accuracy: 0.9398\n",
            "Epoch 987/1000\n",
            "33/33 - 0s - loss: 0.3763 - accuracy: 0.8837 - val_loss: 0.3627 - val_accuracy: 0.9292\n",
            "Epoch 988/1000\n",
            "33/33 - 0s - loss: 0.3708 - accuracy: 0.9029 - val_loss: 0.3543 - val_accuracy: 0.9362\n",
            "Epoch 989/1000\n",
            "33/33 - 0s - loss: 0.3723 - accuracy: 0.8870 - val_loss: 0.3804 - val_accuracy: 0.9256\n",
            "Epoch 990/1000\n",
            "33/33 - 0s - loss: 0.3645 - accuracy: 0.8937 - val_loss: 0.3639 - val_accuracy: 0.9374\n",
            "Epoch 991/1000\n",
            "33/33 - 0s - loss: 0.3665 - accuracy: 0.9011 - val_loss: 0.3636 - val_accuracy: 0.9386\n",
            "Epoch 992/1000\n",
            "33/33 - 0s - loss: 0.5067 - accuracy: 0.8898 - val_loss: 0.4280 - val_accuracy: 0.8796\n",
            "Epoch 993/1000\n",
            "33/33 - 0s - loss: 0.4011 - accuracy: 0.8809 - val_loss: 0.3993 - val_accuracy: 0.8890\n",
            "Epoch 994/1000\n",
            "33/33 - 0s - loss: 0.3916 - accuracy: 0.8800 - val_loss: 0.4033 - val_accuracy: 0.9055\n",
            "Epoch 995/1000\n",
            "33/33 - 0s - loss: 0.4734 - accuracy: 0.8882 - val_loss: 0.3961 - val_accuracy: 0.8961\n",
            "Epoch 996/1000\n",
            "33/33 - 0s - loss: 0.4341 - accuracy: 0.8907 - val_loss: 0.3736 - val_accuracy: 0.9197\n",
            "Epoch 997/1000\n",
            "33/33 - 0s - loss: 0.5554 - accuracy: 0.8745 - val_loss: 0.4027 - val_accuracy: 0.9103\n",
            "Epoch 998/1000\n",
            "33/33 - 0s - loss: 0.4669 - accuracy: 0.8934 - val_loss: 0.3999 - val_accuracy: 0.8973\n",
            "Epoch 999/1000\n",
            "33/33 - 0s - loss: 0.4794 - accuracy: 0.8730 - val_loss: 0.3864 - val_accuracy: 0.9126\n",
            "Epoch 1000/1000\n",
            "33/33 - 0s - loss: 0.4985 - accuracy: 0.8962 - val_loss: 0.3967 - val_accuracy: 0.8996\n"
          ],
          "name": "stdout"
        }
      ]
    },
    {
      "cell_type": "code",
      "metadata": {
        "colab": {
          "base_uri": "https://localhost:8080/",
          "height": 382
        },
        "id": "ryTiSZLaxRnP",
        "outputId": "76592643-4e1d-4c23-8617-aeb26a27cacd"
      },
      "source": [
        "plot_confusion_matrix(cf_matrix, classes=['0', '1', '2','3'],\n",
        "                      title='Confusion matrix')"
      ],
      "execution_count": null,
      "outputs": [
        {
          "output_type": "stream",
          "text": [
            "Confusion matrix\n",
            "[[2715   72  112  290]\n",
            " [   1   32    0    1]\n",
            " [   0    0   25    0]\n",
            " [   1    0    0   26]]\n"
          ],
          "name": "stdout"
        },
        {
          "output_type": "display_data",
          "data": {
            "image/png": "[encoded data removed]",
            "text/plain": [
              "<Figure size 432x288 with 2 Axes>"
            ]
          },
          "metadata": {
            "tags": [],
            "needs_background": "light"
          }
        }
      ]
    },
    {
      "cell_type": "code",
      "metadata": {
        "colab": {
          "base_uri": "https://localhost:8080/",
          "height": 382
        },
        "id": "PTpAxAk3jZ5x",
        "outputId": "775c4947-50e7-4f06-964c-e3537dd4bb02"
      },
      "source": [
        "plot_confusion_matrix(cf_matrix_test, classes=['0', '1', '2','3'],\n",
        "                      title='Confusion matrix')"
      ],
      "execution_count": null,
      "outputs": [
        {
          "output_type": "stream",
          "text": [
            "Confusion matrix\n",
            "[[761   6  20  37]\n",
            " [  8   1   0   1]\n",
            " [  3   0   0   0]\n",
            " [  9   0   1   0]]\n"
          ],
          "name": "stdout"
        },
        {
          "output_type": "display_data",
          "data": {
            "image/png": "[encoded data removed]",
            "text/plain": [
              "<Figure size 432x288 with 2 Axes>"
            ]
          },
          "metadata": {
            "tags": [],
            "needs_background": "light"
          }
        }
      ]
    },
    {
      "cell_type": "code",
      "metadata": {
        "colab": {
          "base_uri": "https://localhost:8080/",
          "height": 427
        },
        "id": "W28aQxQyOJNV",
        "outputId": "54cde5e4-416d-4cf6-b26f-49e78ecc89e5"
      },
      "source": [
        "from itertools import cycle\n",
        "from matplotlib.pyplot import figure\n",
        "lw=2\n",
        "colors = cycle(['aqua', 'darkorange', 'cornflowerblue', 'magenta'])\n",
        "figure(figsize=(8, 6), dpi=80)\n",
        "for i, color in zip(range(n_classes), colors):\n",
        "    plt.plot(fpr[i], tpr[i], color=color, lw=lw,\n",
        "             label='ROC curve of class {0} (area = {1:0.2f})'\n",
        "             ''.format(i, roc_auc[i]))\n",
        "plt.plot([0, 1], [0, 1], 'k--', lw=lw)\n",
        "plt.xlim([0.0, 1.0])\n",
        "plt.ylim([0.0, 1.05])\n",
        "plt.xlabel('False Positive Rate')\n",
        "plt.ylabel('True Positive Rate')\n",
        "plt.legend(loc=\"lower right\")\n",
        "plt.show()"
      ],
      "execution_count": null,
      "outputs": [
        {
          "output_type": "display_data",
          "data": {
            "image/png": "[encoded data removed]",
            "text/plain": [
              "<Figure size 640x480 with 1 Axes>"
            ]
          },
          "metadata": {
            "tags": [],
            "needs_background": "light"
          }
        }
      ]
    }
  ]
}